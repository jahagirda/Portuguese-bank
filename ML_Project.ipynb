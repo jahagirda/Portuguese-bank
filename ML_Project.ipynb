{
  "cells": [
    {
      "cell_type": "markdown",
      "metadata": {
        "papermill": {
          "duration": 0.019791,
          "end_time": "2020-08-30T10:35:35.454662",
          "exception": false,
          "start_time": "2020-08-30T10:35:35.434871",
          "status": "completed"
        },
        "tags": [],
        "id": "iCsRRSwDRZMK"
      },
      "source": [
        "### 1)Import the necessary libraries"
      ]
    },
    {
      "cell_type": "code",
      "execution_count": 1,
      "metadata": {
        "execution": {
          "iopub.execute_input": "2020-08-30T10:35:36.792826Z",
          "iopub.status.busy": "2020-08-30T10:35:36.786996Z",
          "iopub.status.idle": "2020-08-30T10:35:37.206405Z",
          "shell.execute_reply": "2020-08-30T10:35:37.205592Z"
        },
        "papermill": {
          "duration": 0.448717,
          "end_time": "2020-08-30T10:35:37.206553",
          "exception": false,
          "start_time": "2020-08-30T10:35:36.757836",
          "status": "completed"
        },
        "tags": [],
        "id": "HowuHicSRZMN"
      },
      "outputs": [],
      "source": [
        "import numpy as np\n",
        "import pandas as pd\n",
        "import matplotlib.pyplot as plt\n",
        "import seaborn as sns\n",
        "\n",
        "from sklearn.model_selection import train_test_split\n",
        "from sklearn.model_selection import KFold\n",
        "from sklearn.tree import DecisionTreeClassifier\n",
        "from sklearn.ensemble import GradientBoostingClassifier\n",
        "from sklearn.ensemble import BaggingClassifier\n",
        "from sklearn.ensemble import RandomForestClassifier\n",
        "from sklearn.model_selection import cross_val_score\n",
        "from sklearn.metrics import confusion_matrix, accuracy_score\n",
        "from sklearn import metrics\n",
        "from sklearn.metrics import recall_score\n",
        "from sklearn.metrics import precision_score\n",
        "from sklearn.metrics import f1_score\n",
        "\n",
        "%matplotlib inline\n",
        "import warnings\n",
        "warnings.filterwarnings(\"ignore\")"
      ]
    },
    {
      "cell_type": "markdown",
      "metadata": {
        "papermill": {
          "duration": 0.020174,
          "end_time": "2020-08-30T10:35:37.247042",
          "exception": false,
          "start_time": "2020-08-30T10:35:37.226868",
          "status": "completed"
        },
        "tags": [],
        "id": "We58l4hVRZMS"
      },
      "source": [
        "### 2)Read the data as a data frame using pandas"
      ]
    },
    {
      "cell_type": "code",
      "execution_count": 2,
      "metadata": {
        "execution": {
          "iopub.execute_input": "2020-08-30T10:35:37.296391Z",
          "iopub.status.busy": "2020-08-30T10:35:37.295630Z",
          "iopub.status.idle": "2020-08-30T10:35:37.512724Z",
          "shell.execute_reply": "2020-08-30T10:35:37.513321Z"
        },
        "papermill": {
          "duration": 0.245992,
          "end_time": "2020-08-30T10:35:37.513480",
          "exception": false,
          "start_time": "2020-08-30T10:35:37.267488",
          "status": "completed"
        },
        "tags": [],
        "id": "aOUMVqAcRZMT",
        "outputId": "0fe7cecb-baee-448f-a77f-ca20a554fa73",
        "colab": {
          "base_uri": "https://localhost:8080/",
          "height": 206
        }
      },
      "outputs": [
        {
          "output_type": "execute_result",
          "data": {
            "text/plain": [
              "   age           job  marital  education default  balance housing loan  \\\n",
              "0   58    management  married   tertiary      no     2143     yes   no   \n",
              "1   44    technician   single  secondary      no       29     yes   no   \n",
              "2   33  entrepreneur  married  secondary      no        2     yes  yes   \n",
              "3   47   blue-collar  married    unknown      no     1506     yes   no   \n",
              "4   33       unknown   single    unknown      no        1      no   no   \n",
              "\n",
              "   contact  day month  duration  campaign  pdays  previous poutcome   y  \n",
              "0  unknown    5   may       261       1.0   -1.0       0.0  unknown  no  \n",
              "1  unknown    5   may       151       1.0   -1.0       0.0  unknown  no  \n",
              "2  unknown    5   may        76       1.0   -1.0       0.0  unknown  no  \n",
              "3  unknown    5   may        92       1.0   -1.0       0.0  unknown  no  \n",
              "4  unknown    5   may       198       1.0   -1.0       0.0  unknown  no  "
            ],
            "text/html": [
              "\n",
              "  <div id=\"df-b117de66-1bdf-4afe-a443-975c3cdba68c\">\n",
              "    <div class=\"colab-df-container\">\n",
              "      <div>\n",
              "<style scoped>\n",
              "    .dataframe tbody tr th:only-of-type {\n",
              "        vertical-align: middle;\n",
              "    }\n",
              "\n",
              "    .dataframe tbody tr th {\n",
              "        vertical-align: top;\n",
              "    }\n",
              "\n",
              "    .dataframe thead th {\n",
              "        text-align: right;\n",
              "    }\n",
              "</style>\n",
              "<table border=\"1\" class=\"dataframe\">\n",
              "  <thead>\n",
              "    <tr style=\"text-align: right;\">\n",
              "      <th></th>\n",
              "      <th>age</th>\n",
              "      <th>job</th>\n",
              "      <th>marital</th>\n",
              "      <th>education</th>\n",
              "      <th>default</th>\n",
              "      <th>balance</th>\n",
              "      <th>housing</th>\n",
              "      <th>loan</th>\n",
              "      <th>contact</th>\n",
              "      <th>day</th>\n",
              "      <th>month</th>\n",
              "      <th>duration</th>\n",
              "      <th>campaign</th>\n",
              "      <th>pdays</th>\n",
              "      <th>previous</th>\n",
              "      <th>poutcome</th>\n",
              "      <th>y</th>\n",
              "    </tr>\n",
              "  </thead>\n",
              "  <tbody>\n",
              "    <tr>\n",
              "      <th>0</th>\n",
              "      <td>58</td>\n",
              "      <td>management</td>\n",
              "      <td>married</td>\n",
              "      <td>tertiary</td>\n",
              "      <td>no</td>\n",
              "      <td>2143</td>\n",
              "      <td>yes</td>\n",
              "      <td>no</td>\n",
              "      <td>unknown</td>\n",
              "      <td>5</td>\n",
              "      <td>may</td>\n",
              "      <td>261</td>\n",
              "      <td>1.0</td>\n",
              "      <td>-1.0</td>\n",
              "      <td>0.0</td>\n",
              "      <td>unknown</td>\n",
              "      <td>no</td>\n",
              "    </tr>\n",
              "    <tr>\n",
              "      <th>1</th>\n",
              "      <td>44</td>\n",
              "      <td>technician</td>\n",
              "      <td>single</td>\n",
              "      <td>secondary</td>\n",
              "      <td>no</td>\n",
              "      <td>29</td>\n",
              "      <td>yes</td>\n",
              "      <td>no</td>\n",
              "      <td>unknown</td>\n",
              "      <td>5</td>\n",
              "      <td>may</td>\n",
              "      <td>151</td>\n",
              "      <td>1.0</td>\n",
              "      <td>-1.0</td>\n",
              "      <td>0.0</td>\n",
              "      <td>unknown</td>\n",
              "      <td>no</td>\n",
              "    </tr>\n",
              "    <tr>\n",
              "      <th>2</th>\n",
              "      <td>33</td>\n",
              "      <td>entrepreneur</td>\n",
              "      <td>married</td>\n",
              "      <td>secondary</td>\n",
              "      <td>no</td>\n",
              "      <td>2</td>\n",
              "      <td>yes</td>\n",
              "      <td>yes</td>\n",
              "      <td>unknown</td>\n",
              "      <td>5</td>\n",
              "      <td>may</td>\n",
              "      <td>76</td>\n",
              "      <td>1.0</td>\n",
              "      <td>-1.0</td>\n",
              "      <td>0.0</td>\n",
              "      <td>unknown</td>\n",
              "      <td>no</td>\n",
              "    </tr>\n",
              "    <tr>\n",
              "      <th>3</th>\n",
              "      <td>47</td>\n",
              "      <td>blue-collar</td>\n",
              "      <td>married</td>\n",
              "      <td>unknown</td>\n",
              "      <td>no</td>\n",
              "      <td>1506</td>\n",
              "      <td>yes</td>\n",
              "      <td>no</td>\n",
              "      <td>unknown</td>\n",
              "      <td>5</td>\n",
              "      <td>may</td>\n",
              "      <td>92</td>\n",
              "      <td>1.0</td>\n",
              "      <td>-1.0</td>\n",
              "      <td>0.0</td>\n",
              "      <td>unknown</td>\n",
              "      <td>no</td>\n",
              "    </tr>\n",
              "    <tr>\n",
              "      <th>4</th>\n",
              "      <td>33</td>\n",
              "      <td>unknown</td>\n",
              "      <td>single</td>\n",
              "      <td>unknown</td>\n",
              "      <td>no</td>\n",
              "      <td>1</td>\n",
              "      <td>no</td>\n",
              "      <td>no</td>\n",
              "      <td>unknown</td>\n",
              "      <td>5</td>\n",
              "      <td>may</td>\n",
              "      <td>198</td>\n",
              "      <td>1.0</td>\n",
              "      <td>-1.0</td>\n",
              "      <td>0.0</td>\n",
              "      <td>unknown</td>\n",
              "      <td>no</td>\n",
              "    </tr>\n",
              "  </tbody>\n",
              "</table>\n",
              "</div>\n",
              "      <button class=\"colab-df-convert\" onclick=\"convertToInteractive('df-b117de66-1bdf-4afe-a443-975c3cdba68c')\"\n",
              "              title=\"Convert this dataframe to an interactive table.\"\n",
              "              style=\"display:none;\">\n",
              "        \n",
              "  <svg xmlns=\"http://www.w3.org/2000/svg\" height=\"24px\"viewBox=\"0 0 24 24\"\n",
              "       width=\"24px\">\n",
              "    <path d=\"M0 0h24v24H0V0z\" fill=\"none\"/>\n",
              "    <path d=\"M18.56 5.44l.94 2.06.94-2.06 2.06-.94-2.06-.94-.94-2.06-.94 2.06-2.06.94zm-11 1L8.5 8.5l.94-2.06 2.06-.94-2.06-.94L8.5 2.5l-.94 2.06-2.06.94zm10 10l.94 2.06.94-2.06 2.06-.94-2.06-.94-.94-2.06-.94 2.06-2.06.94z\"/><path d=\"M17.41 7.96l-1.37-1.37c-.4-.4-.92-.59-1.43-.59-.52 0-1.04.2-1.43.59L10.3 9.45l-7.72 7.72c-.78.78-.78 2.05 0 2.83L4 21.41c.39.39.9.59 1.41.59.51 0 1.02-.2 1.41-.59l7.78-7.78 2.81-2.81c.8-.78.8-2.07 0-2.86zM5.41 20L4 18.59l7.72-7.72 1.47 1.35L5.41 20z\"/>\n",
              "  </svg>\n",
              "      </button>\n",
              "      \n",
              "  <style>\n",
              "    .colab-df-container {\n",
              "      display:flex;\n",
              "      flex-wrap:wrap;\n",
              "      gap: 12px;\n",
              "    }\n",
              "\n",
              "    .colab-df-convert {\n",
              "      background-color: #E8F0FE;\n",
              "      border: none;\n",
              "      border-radius: 50%;\n",
              "      cursor: pointer;\n",
              "      display: none;\n",
              "      fill: #1967D2;\n",
              "      height: 32px;\n",
              "      padding: 0 0 0 0;\n",
              "      width: 32px;\n",
              "    }\n",
              "\n",
              "    .colab-df-convert:hover {\n",
              "      background-color: #E2EBFA;\n",
              "      box-shadow: 0px 1px 2px rgba(60, 64, 67, 0.3), 0px 1px 3px 1px rgba(60, 64, 67, 0.15);\n",
              "      fill: #174EA6;\n",
              "    }\n",
              "\n",
              "    [theme=dark] .colab-df-convert {\n",
              "      background-color: #3B4455;\n",
              "      fill: #D2E3FC;\n",
              "    }\n",
              "\n",
              "    [theme=dark] .colab-df-convert:hover {\n",
              "      background-color: #434B5C;\n",
              "      box-shadow: 0px 1px 3px 1px rgba(0, 0, 0, 0.15);\n",
              "      filter: drop-shadow(0px 1px 2px rgba(0, 0, 0, 0.3));\n",
              "      fill: #FFFFFF;\n",
              "    }\n",
              "  </style>\n",
              "\n",
              "      <script>\n",
              "        const buttonEl =\n",
              "          document.querySelector('#df-b117de66-1bdf-4afe-a443-975c3cdba68c button.colab-df-convert');\n",
              "        buttonEl.style.display =\n",
              "          google.colab.kernel.accessAllowed ? 'block' : 'none';\n",
              "\n",
              "        async function convertToInteractive(key) {\n",
              "          const element = document.querySelector('#df-b117de66-1bdf-4afe-a443-975c3cdba68c');\n",
              "          const dataTable =\n",
              "            await google.colab.kernel.invokeFunction('convertToInteractive',\n",
              "                                                     [key], {});\n",
              "          if (!dataTable) return;\n",
              "\n",
              "          const docLinkHtml = 'Like what you see? Visit the ' +\n",
              "            '<a target=\"_blank\" href=https://colab.research.google.com/notebooks/data_table.ipynb>data table notebook</a>'\n",
              "            + ' to learn more about interactive tables.';\n",
              "          element.innerHTML = '';\n",
              "          dataTable['output_type'] = 'display_data';\n",
              "          await google.colab.output.renderOutput(dataTable, element);\n",
              "          const docLink = document.createElement('div');\n",
              "          docLink.innerHTML = docLinkHtml;\n",
              "          element.appendChild(docLink);\n",
              "        }\n",
              "      </script>\n",
              "    </div>\n",
              "  </div>\n",
              "  "
            ]
          },
          "metadata": {},
          "execution_count": 2
        }
      ],
      "source": [
        "bank=pd.read_csv(\"bank-full.csv\")\n",
        "bank.head()"
      ]
    },
    {
      "cell_type": "markdown",
      "metadata": {
        "papermill": {
          "duration": 0.020425,
          "end_time": "2020-08-30T10:35:37.554318",
          "exception": false,
          "start_time": "2020-08-30T10:35:37.533893",
          "status": "completed"
        },
        "tags": [],
        "id": "feZbkldSRZMV"
      },
      "source": [
        "### 3) Shape of the data"
      ]
    },
    {
      "cell_type": "code",
      "execution_count": 3,
      "metadata": {
        "execution": {
          "iopub.execute_input": "2020-08-30T10:35:37.602036Z",
          "iopub.status.busy": "2020-08-30T10:35:37.600989Z",
          "iopub.status.idle": "2020-08-30T10:35:37.605651Z",
          "shell.execute_reply": "2020-08-30T10:35:37.604961Z"
        },
        "papermill": {
          "duration": 0.03101,
          "end_time": "2020-08-30T10:35:37.605791",
          "exception": false,
          "start_time": "2020-08-30T10:35:37.574781",
          "status": "completed"
        },
        "tags": [],
        "id": "FlsrWvq_RZMX",
        "outputId": "d7940441-be0c-425f-f328-a0807ca135d9",
        "colab": {
          "base_uri": "https://localhost:8080/"
        }
      },
      "outputs": [
        {
          "output_type": "execute_result",
          "data": {
            "text/plain": [
              "(37902, 17)"
            ]
          },
          "metadata": {},
          "execution_count": 3
        }
      ],
      "source": [
        "bank.shape"
      ]
    },
    {
      "cell_type": "markdown",
      "metadata": {
        "papermill": {
          "duration": 0.02054,
          "end_time": "2020-08-30T10:35:37.647133",
          "exception": false,
          "start_time": "2020-08-30T10:35:37.626593",
          "status": "completed"
        },
        "tags": [],
        "id": "BRZq96vFRZMZ"
      },
      "source": [
        "### 4)Data type of each attribute"
      ]
    },
    {
      "cell_type": "code",
      "execution_count": 4,
      "metadata": {
        "execution": {
          "iopub.execute_input": "2020-08-30T10:35:37.697960Z",
          "iopub.status.busy": "2020-08-30T10:35:37.696866Z",
          "iopub.status.idle": "2020-08-30T10:35:37.701285Z",
          "shell.execute_reply": "2020-08-30T10:35:37.700537Z"
        },
        "papermill": {
          "duration": 0.033468,
          "end_time": "2020-08-30T10:35:37.701417",
          "exception": false,
          "start_time": "2020-08-30T10:35:37.667949",
          "status": "completed"
        },
        "tags": [],
        "id": "GoNbOE7IRZMa",
        "outputId": "f4da7464-3629-499a-8961-cc30ed6e9d6a",
        "colab": {
          "base_uri": "https://localhost:8080/"
        }
      },
      "outputs": [
        {
          "output_type": "execute_result",
          "data": {
            "text/plain": [
              "age            int64\n",
              "job           object\n",
              "marital       object\n",
              "education     object\n",
              "default       object\n",
              "balance        int64\n",
              "housing       object\n",
              "loan          object\n",
              "contact       object\n",
              "day            int64\n",
              "month         object\n",
              "duration       int64\n",
              "campaign     float64\n",
              "pdays        float64\n",
              "previous     float64\n",
              "poutcome      object\n",
              "y             object\n",
              "dtype: object"
            ]
          },
          "metadata": {},
          "execution_count": 4
        }
      ],
      "source": [
        "bank.dtypes"
      ]
    },
    {
      "cell_type": "code",
      "execution_count": 5,
      "metadata": {
        "id": "KbDSSl5tRZMb",
        "outputId": "28afd5a6-2c4e-4e15-d586-99a43f74e131",
        "colab": {
          "base_uri": "https://localhost:8080/",
          "height": 156
        }
      },
      "outputs": [
        {
          "output_type": "execute_result",
          "data": {
            "text/plain": [
              "   age         job  marital  education default  balance housing loan  contact  \\\n",
              "0   58  management  married   tertiary      no     2143     yes   no  unknown   \n",
              "1   44  technician   single  secondary      no       29     yes   no  unknown   \n",
              "\n",
              "   day month  duration  campaign  pdays  previous poutcome Target  \n",
              "0    5   may       261       1.0   -1.0       0.0  unknown     no  \n",
              "1    5   may       151       1.0   -1.0       0.0  unknown     no  "
            ],
            "text/html": [
              "\n",
              "  <div id=\"df-94221962-9900-4e4c-bff0-4358df5521fa\">\n",
              "    <div class=\"colab-df-container\">\n",
              "      <div>\n",
              "<style scoped>\n",
              "    .dataframe tbody tr th:only-of-type {\n",
              "        vertical-align: middle;\n",
              "    }\n",
              "\n",
              "    .dataframe tbody tr th {\n",
              "        vertical-align: top;\n",
              "    }\n",
              "\n",
              "    .dataframe thead th {\n",
              "        text-align: right;\n",
              "    }\n",
              "</style>\n",
              "<table border=\"1\" class=\"dataframe\">\n",
              "  <thead>\n",
              "    <tr style=\"text-align: right;\">\n",
              "      <th></th>\n",
              "      <th>age</th>\n",
              "      <th>job</th>\n",
              "      <th>marital</th>\n",
              "      <th>education</th>\n",
              "      <th>default</th>\n",
              "      <th>balance</th>\n",
              "      <th>housing</th>\n",
              "      <th>loan</th>\n",
              "      <th>contact</th>\n",
              "      <th>day</th>\n",
              "      <th>month</th>\n",
              "      <th>duration</th>\n",
              "      <th>campaign</th>\n",
              "      <th>pdays</th>\n",
              "      <th>previous</th>\n",
              "      <th>poutcome</th>\n",
              "      <th>Target</th>\n",
              "    </tr>\n",
              "  </thead>\n",
              "  <tbody>\n",
              "    <tr>\n",
              "      <th>0</th>\n",
              "      <td>58</td>\n",
              "      <td>management</td>\n",
              "      <td>married</td>\n",
              "      <td>tertiary</td>\n",
              "      <td>no</td>\n",
              "      <td>2143</td>\n",
              "      <td>yes</td>\n",
              "      <td>no</td>\n",
              "      <td>unknown</td>\n",
              "      <td>5</td>\n",
              "      <td>may</td>\n",
              "      <td>261</td>\n",
              "      <td>1.0</td>\n",
              "      <td>-1.0</td>\n",
              "      <td>0.0</td>\n",
              "      <td>unknown</td>\n",
              "      <td>no</td>\n",
              "    </tr>\n",
              "    <tr>\n",
              "      <th>1</th>\n",
              "      <td>44</td>\n",
              "      <td>technician</td>\n",
              "      <td>single</td>\n",
              "      <td>secondary</td>\n",
              "      <td>no</td>\n",
              "      <td>29</td>\n",
              "      <td>yes</td>\n",
              "      <td>no</td>\n",
              "      <td>unknown</td>\n",
              "      <td>5</td>\n",
              "      <td>may</td>\n",
              "      <td>151</td>\n",
              "      <td>1.0</td>\n",
              "      <td>-1.0</td>\n",
              "      <td>0.0</td>\n",
              "      <td>unknown</td>\n",
              "      <td>no</td>\n",
              "    </tr>\n",
              "  </tbody>\n",
              "</table>\n",
              "</div>\n",
              "      <button class=\"colab-df-convert\" onclick=\"convertToInteractive('df-94221962-9900-4e4c-bff0-4358df5521fa')\"\n",
              "              title=\"Convert this dataframe to an interactive table.\"\n",
              "              style=\"display:none;\">\n",
              "        \n",
              "  <svg xmlns=\"http://www.w3.org/2000/svg\" height=\"24px\"viewBox=\"0 0 24 24\"\n",
              "       width=\"24px\">\n",
              "    <path d=\"M0 0h24v24H0V0z\" fill=\"none\"/>\n",
              "    <path d=\"M18.56 5.44l.94 2.06.94-2.06 2.06-.94-2.06-.94-.94-2.06-.94 2.06-2.06.94zm-11 1L8.5 8.5l.94-2.06 2.06-.94-2.06-.94L8.5 2.5l-.94 2.06-2.06.94zm10 10l.94 2.06.94-2.06 2.06-.94-2.06-.94-.94-2.06-.94 2.06-2.06.94z\"/><path d=\"M17.41 7.96l-1.37-1.37c-.4-.4-.92-.59-1.43-.59-.52 0-1.04.2-1.43.59L10.3 9.45l-7.72 7.72c-.78.78-.78 2.05 0 2.83L4 21.41c.39.39.9.59 1.41.59.51 0 1.02-.2 1.41-.59l7.78-7.78 2.81-2.81c.8-.78.8-2.07 0-2.86zM5.41 20L4 18.59l7.72-7.72 1.47 1.35L5.41 20z\"/>\n",
              "  </svg>\n",
              "      </button>\n",
              "      \n",
              "  <style>\n",
              "    .colab-df-container {\n",
              "      display:flex;\n",
              "      flex-wrap:wrap;\n",
              "      gap: 12px;\n",
              "    }\n",
              "\n",
              "    .colab-df-convert {\n",
              "      background-color: #E8F0FE;\n",
              "      border: none;\n",
              "      border-radius: 50%;\n",
              "      cursor: pointer;\n",
              "      display: none;\n",
              "      fill: #1967D2;\n",
              "      height: 32px;\n",
              "      padding: 0 0 0 0;\n",
              "      width: 32px;\n",
              "    }\n",
              "\n",
              "    .colab-df-convert:hover {\n",
              "      background-color: #E2EBFA;\n",
              "      box-shadow: 0px 1px 2px rgba(60, 64, 67, 0.3), 0px 1px 3px 1px rgba(60, 64, 67, 0.15);\n",
              "      fill: #174EA6;\n",
              "    }\n",
              "\n",
              "    [theme=dark] .colab-df-convert {\n",
              "      background-color: #3B4455;\n",
              "      fill: #D2E3FC;\n",
              "    }\n",
              "\n",
              "    [theme=dark] .colab-df-convert:hover {\n",
              "      background-color: #434B5C;\n",
              "      box-shadow: 0px 1px 3px 1px rgba(0, 0, 0, 0.15);\n",
              "      filter: drop-shadow(0px 1px 2px rgba(0, 0, 0, 0.3));\n",
              "      fill: #FFFFFF;\n",
              "    }\n",
              "  </style>\n",
              "\n",
              "      <script>\n",
              "        const buttonEl =\n",
              "          document.querySelector('#df-94221962-9900-4e4c-bff0-4358df5521fa button.colab-df-convert');\n",
              "        buttonEl.style.display =\n",
              "          google.colab.kernel.accessAllowed ? 'block' : 'none';\n",
              "\n",
              "        async function convertToInteractive(key) {\n",
              "          const element = document.querySelector('#df-94221962-9900-4e4c-bff0-4358df5521fa');\n",
              "          const dataTable =\n",
              "            await google.colab.kernel.invokeFunction('convertToInteractive',\n",
              "                                                     [key], {});\n",
              "          if (!dataTable) return;\n",
              "\n",
              "          const docLinkHtml = 'Like what you see? Visit the ' +\n",
              "            '<a target=\"_blank\" href=https://colab.research.google.com/notebooks/data_table.ipynb>data table notebook</a>'\n",
              "            + ' to learn more about interactive tables.';\n",
              "          element.innerHTML = '';\n",
              "          dataTable['output_type'] = 'display_data';\n",
              "          await google.colab.output.renderOutput(dataTable, element);\n",
              "          const docLink = document.createElement('div');\n",
              "          docLink.innerHTML = docLinkHtml;\n",
              "          element.appendChild(docLink);\n",
              "        }\n",
              "      </script>\n",
              "    </div>\n",
              "  </div>\n",
              "  "
            ]
          },
          "metadata": {},
          "execution_count": 5
        }
      ],
      "source": [
        "bank.rename(columns={'y':'Target'},inplace=True)\n",
        "bank.head(2)"
      ]
    },
    {
      "cell_type": "markdown",
      "metadata": {
        "papermill": {
          "duration": 0.02043,
          "end_time": "2020-08-30T10:35:37.742877",
          "exception": false,
          "start_time": "2020-08-30T10:35:37.722447",
          "status": "completed"
        },
        "tags": [],
        "id": "zb24JORhRZMc"
      },
      "source": [
        "### 5)Checking the presence of missing values"
      ]
    },
    {
      "cell_type": "code",
      "execution_count": 6,
      "metadata": {
        "execution": {
          "iopub.execute_input": "2020-08-30T10:35:37.840063Z",
          "iopub.status.busy": "2020-08-30T10:35:37.838967Z",
          "iopub.status.idle": "2020-08-30T10:35:37.848231Z",
          "shell.execute_reply": "2020-08-30T10:35:37.847386Z"
        },
        "papermill": {
          "duration": 0.084648,
          "end_time": "2020-08-30T10:35:37.848454",
          "exception": false,
          "start_time": "2020-08-30T10:35:37.763806",
          "status": "completed"
        },
        "tags": [],
        "id": "PAodpm4oRZMd",
        "outputId": "35849358-d057-44ef-eaac-2cae31e9626e",
        "colab": {
          "base_uri": "https://localhost:8080/"
        }
      },
      "outputs": [
        {
          "output_type": "execute_result",
          "data": {
            "text/plain": [
              "age          False\n",
              "job          False\n",
              "marital      False\n",
              "education    False\n",
              "default      False\n",
              "balance      False\n",
              "housing      False\n",
              "loan         False\n",
              "contact      False\n",
              "day          False\n",
              "month        False\n",
              "duration     False\n",
              "campaign      True\n",
              "pdays         True\n",
              "previous      True\n",
              "poutcome      True\n",
              "Target        True\n",
              "dtype: bool"
            ]
          },
          "metadata": {},
          "execution_count": 6
        }
      ],
      "source": [
        "bank.isnull().any()"
      ]
    },
    {
      "cell_type": "markdown",
      "metadata": {
        "papermill": {
          "duration": 0.021057,
          "end_time": "2020-08-30T10:35:37.893360",
          "exception": false,
          "start_time": "2020-08-30T10:35:37.872303",
          "status": "completed"
        },
        "tags": [],
        "id": "XW5zkkS9RZMf"
      },
      "source": [
        "### 6)5 point summary of numerical attributes"
      ]
    },
    {
      "cell_type": "code",
      "execution_count": 7,
      "metadata": {
        "execution": {
          "iopub.execute_input": "2020-08-30T10:35:37.952112Z",
          "iopub.status.busy": "2020-08-30T10:35:37.951322Z",
          "iopub.status.idle": "2020-08-30T10:35:37.995429Z",
          "shell.execute_reply": "2020-08-30T10:35:37.996175Z"
        },
        "papermill": {
          "duration": 0.081702,
          "end_time": "2020-08-30T10:35:37.996365",
          "exception": false,
          "start_time": "2020-08-30T10:35:37.914663",
          "status": "completed"
        },
        "tags": [],
        "id": "v3xqpK3pRZMf",
        "outputId": "91b37636-b23d-4fc8-adb6-eb07a9ee6e6e",
        "colab": {
          "base_uri": "https://localhost:8080/",
          "height": 269
        }
      },
      "outputs": [
        {
          "output_type": "execute_result",
          "data": {
            "text/plain": [
              "            count         mean          std     min    25%    50%     75%  \\\n",
              "age       37902.0    40.774445     9.598387    19.0   33.0   39.0    48.0   \n",
              "balance   37902.0  1271.518627  2873.266389 -8019.0   52.0  406.0  1316.0   \n",
              "day       37902.0    16.008601     8.365139     1.0    8.0   17.0    21.0   \n",
              "duration  37902.0   255.774788   260.234044     0.0  100.0  175.0   314.0   \n",
              "campaign  37901.0     2.905306     3.294127     1.0    1.0    2.0     3.0   \n",
              "pdays     37901.0    27.834886    84.587741    -1.0   -1.0   -1.0    -1.0   \n",
              "previous  37901.0     0.369040     2.074364     0.0    0.0    0.0     0.0   \n",
              "\n",
              "              max  \n",
              "age          95.0  \n",
              "balance   98417.0  \n",
              "day          31.0  \n",
              "duration   4918.0  \n",
              "campaign     63.0  \n",
              "pdays       371.0  \n",
              "previous    275.0  "
            ],
            "text/html": [
              "\n",
              "  <div id=\"df-a7fa39c1-fe4c-4620-8ed9-921badfb7977\">\n",
              "    <div class=\"colab-df-container\">\n",
              "      <div>\n",
              "<style scoped>\n",
              "    .dataframe tbody tr th:only-of-type {\n",
              "        vertical-align: middle;\n",
              "    }\n",
              "\n",
              "    .dataframe tbody tr th {\n",
              "        vertical-align: top;\n",
              "    }\n",
              "\n",
              "    .dataframe thead th {\n",
              "        text-align: right;\n",
              "    }\n",
              "</style>\n",
              "<table border=\"1\" class=\"dataframe\">\n",
              "  <thead>\n",
              "    <tr style=\"text-align: right;\">\n",
              "      <th></th>\n",
              "      <th>count</th>\n",
              "      <th>mean</th>\n",
              "      <th>std</th>\n",
              "      <th>min</th>\n",
              "      <th>25%</th>\n",
              "      <th>50%</th>\n",
              "      <th>75%</th>\n",
              "      <th>max</th>\n",
              "    </tr>\n",
              "  </thead>\n",
              "  <tbody>\n",
              "    <tr>\n",
              "      <th>age</th>\n",
              "      <td>37902.0</td>\n",
              "      <td>40.774445</td>\n",
              "      <td>9.598387</td>\n",
              "      <td>19.0</td>\n",
              "      <td>33.0</td>\n",
              "      <td>39.0</td>\n",
              "      <td>48.0</td>\n",
              "      <td>95.0</td>\n",
              "    </tr>\n",
              "    <tr>\n",
              "      <th>balance</th>\n",
              "      <td>37902.0</td>\n",
              "      <td>1271.518627</td>\n",
              "      <td>2873.266389</td>\n",
              "      <td>-8019.0</td>\n",
              "      <td>52.0</td>\n",
              "      <td>406.0</td>\n",
              "      <td>1316.0</td>\n",
              "      <td>98417.0</td>\n",
              "    </tr>\n",
              "    <tr>\n",
              "      <th>day</th>\n",
              "      <td>37902.0</td>\n",
              "      <td>16.008601</td>\n",
              "      <td>8.365139</td>\n",
              "      <td>1.0</td>\n",
              "      <td>8.0</td>\n",
              "      <td>17.0</td>\n",
              "      <td>21.0</td>\n",
              "      <td>31.0</td>\n",
              "    </tr>\n",
              "    <tr>\n",
              "      <th>duration</th>\n",
              "      <td>37902.0</td>\n",
              "      <td>255.774788</td>\n",
              "      <td>260.234044</td>\n",
              "      <td>0.0</td>\n",
              "      <td>100.0</td>\n",
              "      <td>175.0</td>\n",
              "      <td>314.0</td>\n",
              "      <td>4918.0</td>\n",
              "    </tr>\n",
              "    <tr>\n",
              "      <th>campaign</th>\n",
              "      <td>37901.0</td>\n",
              "      <td>2.905306</td>\n",
              "      <td>3.294127</td>\n",
              "      <td>1.0</td>\n",
              "      <td>1.0</td>\n",
              "      <td>2.0</td>\n",
              "      <td>3.0</td>\n",
              "      <td>63.0</td>\n",
              "    </tr>\n",
              "    <tr>\n",
              "      <th>pdays</th>\n",
              "      <td>37901.0</td>\n",
              "      <td>27.834886</td>\n",
              "      <td>84.587741</td>\n",
              "      <td>-1.0</td>\n",
              "      <td>-1.0</td>\n",
              "      <td>-1.0</td>\n",
              "      <td>-1.0</td>\n",
              "      <td>371.0</td>\n",
              "    </tr>\n",
              "    <tr>\n",
              "      <th>previous</th>\n",
              "      <td>37901.0</td>\n",
              "      <td>0.369040</td>\n",
              "      <td>2.074364</td>\n",
              "      <td>0.0</td>\n",
              "      <td>0.0</td>\n",
              "      <td>0.0</td>\n",
              "      <td>0.0</td>\n",
              "      <td>275.0</td>\n",
              "    </tr>\n",
              "  </tbody>\n",
              "</table>\n",
              "</div>\n",
              "      <button class=\"colab-df-convert\" onclick=\"convertToInteractive('df-a7fa39c1-fe4c-4620-8ed9-921badfb7977')\"\n",
              "              title=\"Convert this dataframe to an interactive table.\"\n",
              "              style=\"display:none;\">\n",
              "        \n",
              "  <svg xmlns=\"http://www.w3.org/2000/svg\" height=\"24px\"viewBox=\"0 0 24 24\"\n",
              "       width=\"24px\">\n",
              "    <path d=\"M0 0h24v24H0V0z\" fill=\"none\"/>\n",
              "    <path d=\"M18.56 5.44l.94 2.06.94-2.06 2.06-.94-2.06-.94-.94-2.06-.94 2.06-2.06.94zm-11 1L8.5 8.5l.94-2.06 2.06-.94-2.06-.94L8.5 2.5l-.94 2.06-2.06.94zm10 10l.94 2.06.94-2.06 2.06-.94-2.06-.94-.94-2.06-.94 2.06-2.06.94z\"/><path d=\"M17.41 7.96l-1.37-1.37c-.4-.4-.92-.59-1.43-.59-.52 0-1.04.2-1.43.59L10.3 9.45l-7.72 7.72c-.78.78-.78 2.05 0 2.83L4 21.41c.39.39.9.59 1.41.59.51 0 1.02-.2 1.41-.59l7.78-7.78 2.81-2.81c.8-.78.8-2.07 0-2.86zM5.41 20L4 18.59l7.72-7.72 1.47 1.35L5.41 20z\"/>\n",
              "  </svg>\n",
              "      </button>\n",
              "      \n",
              "  <style>\n",
              "    .colab-df-container {\n",
              "      display:flex;\n",
              "      flex-wrap:wrap;\n",
              "      gap: 12px;\n",
              "    }\n",
              "\n",
              "    .colab-df-convert {\n",
              "      background-color: #E8F0FE;\n",
              "      border: none;\n",
              "      border-radius: 50%;\n",
              "      cursor: pointer;\n",
              "      display: none;\n",
              "      fill: #1967D2;\n",
              "      height: 32px;\n",
              "      padding: 0 0 0 0;\n",
              "      width: 32px;\n",
              "    }\n",
              "\n",
              "    .colab-df-convert:hover {\n",
              "      background-color: #E2EBFA;\n",
              "      box-shadow: 0px 1px 2px rgba(60, 64, 67, 0.3), 0px 1px 3px 1px rgba(60, 64, 67, 0.15);\n",
              "      fill: #174EA6;\n",
              "    }\n",
              "\n",
              "    [theme=dark] .colab-df-convert {\n",
              "      background-color: #3B4455;\n",
              "      fill: #D2E3FC;\n",
              "    }\n",
              "\n",
              "    [theme=dark] .colab-df-convert:hover {\n",
              "      background-color: #434B5C;\n",
              "      box-shadow: 0px 1px 3px 1px rgba(0, 0, 0, 0.15);\n",
              "      filter: drop-shadow(0px 1px 2px rgba(0, 0, 0, 0.3));\n",
              "      fill: #FFFFFF;\n",
              "    }\n",
              "  </style>\n",
              "\n",
              "      <script>\n",
              "        const buttonEl =\n",
              "          document.querySelector('#df-a7fa39c1-fe4c-4620-8ed9-921badfb7977 button.colab-df-convert');\n",
              "        buttonEl.style.display =\n",
              "          google.colab.kernel.accessAllowed ? 'block' : 'none';\n",
              "\n",
              "        async function convertToInteractive(key) {\n",
              "          const element = document.querySelector('#df-a7fa39c1-fe4c-4620-8ed9-921badfb7977');\n",
              "          const dataTable =\n",
              "            await google.colab.kernel.invokeFunction('convertToInteractive',\n",
              "                                                     [key], {});\n",
              "          if (!dataTable) return;\n",
              "\n",
              "          const docLinkHtml = 'Like what you see? Visit the ' +\n",
              "            '<a target=\"_blank\" href=https://colab.research.google.com/notebooks/data_table.ipynb>data table notebook</a>'\n",
              "            + ' to learn more about interactive tables.';\n",
              "          element.innerHTML = '';\n",
              "          dataTable['output_type'] = 'display_data';\n",
              "          await google.colab.output.renderOutput(dataTable, element);\n",
              "          const docLink = document.createElement('div');\n",
              "          docLink.innerHTML = docLinkHtml;\n",
              "          element.appendChild(docLink);\n",
              "        }\n",
              "      </script>\n",
              "    </div>\n",
              "  </div>\n",
              "  "
            ]
          },
          "metadata": {},
          "execution_count": 7
        }
      ],
      "source": [
        "bank.describe().T"
      ]
    },
    {
      "cell_type": "markdown",
      "metadata": {
        "papermill": {
          "duration": 0.021417,
          "end_time": "2020-08-30T10:35:38.040124",
          "exception": false,
          "start_time": "2020-08-30T10:35:38.018707",
          "status": "completed"
        },
        "tags": [],
        "id": "17yY2ge4RZMg"
      },
      "source": [
        "### 7)checking for class imbalance"
      ]
    },
    {
      "cell_type": "code",
      "execution_count": 8,
      "metadata": {
        "execution": {
          "iopub.execute_input": "2020-08-30T10:35:38.117701Z",
          "iopub.status.busy": "2020-08-30T10:35:38.116820Z",
          "iopub.status.idle": "2020-08-30T10:35:38.121468Z",
          "shell.execute_reply": "2020-08-30T10:35:38.120739Z"
        },
        "papermill": {
          "duration": 0.059346,
          "end_time": "2020-08-30T10:35:38.121590",
          "exception": false,
          "start_time": "2020-08-30T10:35:38.062244",
          "status": "completed"
        },
        "tags": [],
        "id": "mi0SrqMjRZMh",
        "outputId": "3a485e41-a361-4807-cfd7-1634be1df86f",
        "colab": {
          "base_uri": "https://localhost:8080/"
        }
      },
      "outputs": [
        {
          "output_type": "execute_result",
          "data": {
            "text/plain": [
              "no     35326\n",
              "yes     2575\n",
              "Name: Target, dtype: int64"
            ]
          },
          "metadata": {},
          "execution_count": 8
        }
      ],
      "source": [
        "no,yes=bank.Target.value_counts()\n",
        "bank.Target.value_counts()"
      ]
    },
    {
      "cell_type": "markdown",
      "metadata": {
        "papermill": {
          "duration": 0.022184,
          "end_time": "2020-08-30T10:35:38.165565",
          "exception": false,
          "start_time": "2020-08-30T10:35:38.143381",
          "status": "completed"
        },
        "tags": [],
        "id": "uUv1OxjARZMi"
      },
      "source": [
        "**Given data set is highly imbalanced, i.e. number of data belonging to 'no' category is way higher than 'yes' category.**"
      ]
    },
    {
      "cell_type": "code",
      "execution_count": 9,
      "metadata": {
        "execution": {
          "iopub.execute_input": "2020-08-30T10:35:38.228935Z",
          "iopub.status.busy": "2020-08-30T10:35:38.228052Z",
          "iopub.status.idle": "2020-08-30T10:35:38.255603Z",
          "shell.execute_reply": "2020-08-30T10:35:38.254825Z"
        },
        "papermill": {
          "duration": 0.068181,
          "end_time": "2020-08-30T10:35:38.255734",
          "exception": false,
          "start_time": "2020-08-30T10:35:38.187553",
          "status": "completed"
        },
        "tags": [],
        "id": "Agm3YiY9RZMi",
        "outputId": "6523b6f7-a202-41d9-9451-1b2953e14c75",
        "colab": {
          "base_uri": "https://localhost:8080/"
        }
      },
      "outputs": [
        {
          "output_type": "execute_result",
          "data": {
            "text/plain": [
              "no     0.93206\n",
              "yes    0.06794\n",
              "Name: Target, dtype: float64"
            ]
          },
          "metadata": {},
          "execution_count": 9
        }
      ],
      "source": [
        "bank['Target'].value_counts(normalize=True)"
      ]
    },
    {
      "cell_type": "markdown",
      "metadata": {
        "papermill": {
          "duration": 0.022234,
          "end_time": "2020-08-30T10:35:38.300483",
          "exception": false,
          "start_time": "2020-08-30T10:35:38.278249",
          "status": "completed"
        },
        "tags": [],
        "id": "fbm4EI9ERZMj"
      },
      "source": [
        "##### The response rate is only 11.6%. Hence the Y(Target) variable has a high class imbalance. Hence accuracy will not be a reliable model performance measure. \n",
        "\n",
        "##### FN is very critical for this business case because a false negative is a customer who will potentially subscribe for a loan but who has been classified as 'will not subscribe'. Hence the most relevant model performance measure is recall"
      ]
    },
    {
      "cell_type": "markdown",
      "metadata": {
        "papermill": {
          "duration": 0.022323,
          "end_time": "2020-08-30T10:35:38.344607",
          "exception": false,
          "start_time": "2020-08-30T10:35:38.322284",
          "status": "completed"
        },
        "tags": [],
        "id": "EJQoLqnSRZMk"
      },
      "source": [
        "### 8)Checking the presence of outliers"
      ]
    },
    {
      "cell_type": "markdown",
      "metadata": {
        "papermill": {
          "duration": 0.022026,
          "end_time": "2020-08-30T10:35:38.388596",
          "exception": false,
          "start_time": "2020-08-30T10:35:38.366570",
          "status": "completed"
        },
        "tags": [],
        "id": "p0W2sxcRRZMk"
      },
      "source": [
        "##### For Age"
      ]
    },
    {
      "cell_type": "code",
      "execution_count": 19,
      "metadata": {
        "execution": {
          "iopub.execute_input": "2020-08-30T10:35:38.439525Z",
          "iopub.status.busy": "2020-08-30T10:35:38.438777Z",
          "iopub.status.idle": "2020-08-30T10:35:38.643071Z",
          "shell.execute_reply": "2020-08-30T10:35:38.642414Z"
        },
        "papermill": {
          "duration": 0.232171,
          "end_time": "2020-08-30T10:35:38.643213",
          "exception": false,
          "start_time": "2020-08-30T10:35:38.411042",
          "status": "completed"
        },
        "tags": [],
        "id": "2TnIGDmfRZMl",
        "outputId": "4f5207e3-81ac-49ab-a03e-be670bfd1681",
        "colab": {
          "base_uri": "https://localhost:8080/",
          "height": 296
        }
      },
      "outputs": [
        {
          "output_type": "execute_result",
          "data": {
            "text/plain": [
              "<matplotlib.axes._subplots.AxesSubplot at 0x7f2246ff0450>"
            ]
          },
          "metadata": {},
          "execution_count": 19
        },
        {
          "output_type": "display_data",
          "data": {
            "text/plain": [
              "<Figure size 432x288 with 1 Axes>"
            ],
            "image/png": "[encoded data removed]"
          },
          "metadata": {
            "needs_background": "light"
          }
        }
      ],
      "source": [
        "sns.boxplot(bank.age)"
      ]
    },
    {
      "cell_type": "markdown",
      "metadata": {
        "papermill": {
          "duration": 0.022088,
          "end_time": "2020-08-30T10:35:38.688091",
          "exception": false,
          "start_time": "2020-08-30T10:35:38.666003",
          "status": "completed"
        },
        "tags": [],
        "id": "MzrQpBLzRZMm"
      },
      "source": [
        "**Age column has some outliers. The median age is about 39 years. There are some customers above 90 years of age. This data might have to be checked to remove outliers**"
      ]
    },
    {
      "cell_type": "code",
      "execution_count": 20,
      "metadata": {
        "execution": {
          "iopub.execute_input": "2020-08-30T10:35:38.745519Z",
          "iopub.status.busy": "2020-08-30T10:35:38.744601Z",
          "iopub.status.idle": "2020-08-30T10:35:38.763049Z",
          "shell.execute_reply": "2020-08-30T10:35:38.762460Z"
        },
        "papermill": {
          "duration": 0.052382,
          "end_time": "2020-08-30T10:35:38.763181",
          "exception": false,
          "start_time": "2020-08-30T10:35:38.710799",
          "status": "completed"
        },
        "tags": [],
        "id": "867QR5uoRZMm",
        "outputId": "ae390e7a-9d63-4a91-844e-caffdba52c1b",
        "colab": {
          "base_uri": "https://localhost:8080/"
        }
      },
      "outputs": [
        {
          "output_type": "stream",
          "name": "stdout",
          "text": [
            "1º Quartile:  33.0\n",
            "2º Quartile:  39.0\n",
            "3º Quartile:  48.0\n",
            "4º Quartile:  95.0\n",
            "Ages above:  70.5 are outliers\n"
          ]
        }
      ],
      "source": [
        "# Quartiles\n",
        "print('1º Quartile: ', bank['age'].quantile(q = 0.25))\n",
        "print('2º Quartile: ', bank['age'].quantile(q = 0.50))\n",
        "print('3º Quartile: ', bank['age'].quantile(q = 0.75))\n",
        "print('4º Quartile: ', bank['age'].quantile(q = 1.00))\n",
        "#Calculate the outliers:\n",
        "  # Interquartile range, IQR = Q3 - Q1\n",
        "  # lower 1.5*IQR whisker = Q1 - 1.5 * IQR \n",
        "  # Upper 1.5*IQR whisker = Q3 + 1.5 * IQR\n",
        "    \n",
        "print('Ages above: ', bank['age'].quantile(q = 0.75) + \n",
        "                      1.5*(bank['age'].quantile(q = 0.75) - bank['age'].quantile(q = 0.25)), 'are outliers')"
      ]
    },
    {
      "cell_type": "code",
      "execution_count": 12,
      "metadata": {
        "execution": {
          "iopub.execute_input": "2020-08-30T10:35:38.816962Z",
          "iopub.status.busy": "2020-08-30T10:35:38.816134Z",
          "iopub.status.idle": "2020-08-30T10:35:38.825823Z",
          "shell.execute_reply": "2020-08-30T10:35:38.824989Z"
        },
        "papermill": {
          "duration": 0.040091,
          "end_time": "2020-08-30T10:35:38.825955",
          "exception": false,
          "start_time": "2020-08-30T10:35:38.785864",
          "status": "completed"
        },
        "tags": [],
        "id": "ZePksQkeRZMn",
        "outputId": "1d8ee5c8-79c3-448d-e90a-39dad3f07dcc",
        "colab": {
          "base_uri": "https://localhost:8080/"
        }
      },
      "outputs": [
        {
          "output_type": "stream",
          "name": "stdout",
          "text": [
            "Numerber of outliers:  79\n",
            "Number of rows:  37902\n",
            "Outliers are: 0.21 %\n"
          ]
        }
      ],
      "source": [
        "print('Numerber of outliers: ', bank[bank['age'] > 70.5]['age'].count())\n",
        "print('Number of rows: ', len(bank))\n",
        "#Outliers in %\n",
        "print('Outliers are:', round(bank[bank['age'] > 70.5]['age'].count()*100/len(bank),2), '%')"
      ]
    },
    {
      "cell_type": "markdown",
      "metadata": {
        "papermill": {
          "duration": 0.022434,
          "end_time": "2020-08-30T10:35:38.871385",
          "exception": false,
          "start_time": "2020-08-30T10:35:38.848951",
          "status": "completed"
        },
        "tags": [],
        "id": "qftwh8ODRZMo"
      },
      "source": [
        "##### For Duration"
      ]
    },
    {
      "cell_type": "code",
      "execution_count": 13,
      "metadata": {
        "_uuid": "c1ec47ddc5a2a486533f97cd04760f0179629e4a",
        "execution": {
          "iopub.execute_input": "2020-08-30T10:35:38.926633Z",
          "iopub.status.busy": "2020-08-30T10:35:38.925695Z",
          "iopub.status.idle": "2020-08-30T10:35:39.515600Z",
          "shell.execute_reply": "2020-08-30T10:35:39.516140Z"
        },
        "papermill": {
          "duration": 0.622397,
          "end_time": "2020-08-30T10:35:39.516326",
          "exception": false,
          "start_time": "2020-08-30T10:35:38.893929",
          "status": "completed"
        },
        "tags": [],
        "id": "HLBw5_HiRZMo",
        "outputId": "27f55507-b9cd-495c-df35-83233379cbb3",
        "colab": {
          "base_uri": "https://localhost:8080/",
          "height": 369
        }
      },
      "outputs": [
        {
          "output_type": "display_data",
          "data": {
            "text/plain": [
              "<Figure size 936x360 with 2 Axes>"
            ],
            "image/png": "[encoded data removed]"
          },
          "metadata": {
            "needs_background": "light"
          }
        }
      ],
      "source": [
        "fig, (ax1, ax2) = plt.subplots(nrows = 1, ncols = 2, figsize = (13, 5))\n",
        "sns.boxplot(x = 'duration', data = bank, orient = 'v', ax = ax1)\n",
        "ax1.tick_params(labelsize=10)\n",
        "\n",
        "sns.distplot(bank['duration'], ax = ax2)\n",
        "sns.despine(ax = ax2)\n",
        "ax2.set_xlabel('Call Duration', fontsize=10)\n",
        "ax2.set_ylabel('Occurence', fontsize=10)\n",
        "ax2.set_title('Duration x Ocucurence', fontsize=10)\n",
        "ax2.tick_params(labelsize=10)\n",
        "\n",
        "plt.subplots_adjust(wspace=0.5)\n",
        "plt.tight_layout() "
      ]
    },
    {
      "cell_type": "code",
      "execution_count": 14,
      "metadata": {
        "_uuid": "4993908b67a537e486f249b3fbc54c9c2187dbb9",
        "execution": {
          "iopub.execute_input": "2020-08-30T10:35:39.572872Z",
          "iopub.status.busy": "2020-08-30T10:35:39.571835Z",
          "iopub.status.idle": "2020-08-30T10:35:39.577162Z",
          "shell.execute_reply": "2020-08-30T10:35:39.577995Z"
        },
        "papermill": {
          "duration": 0.037752,
          "end_time": "2020-08-30T10:35:39.578227",
          "exception": false,
          "start_time": "2020-08-30T10:35:39.540475",
          "status": "completed"
        },
        "tags": [],
        "id": "lnMBO-UERZMp",
        "outputId": "22ec5759-44d5-4bb7-9762-4a3a601f3818",
        "colab": {
          "base_uri": "https://localhost:8080/"
        }
      },
      "outputs": [
        {
          "output_type": "stream",
          "name": "stdout",
          "text": [
            "Max duration  call in minutes:   82.0\n",
            "Min duration  call in minutes:    0.0\n",
            "Mean duration call in minutes:    4.3\n",
            "STD dev of duration  call in minutes:    4.3\n"
          ]
        }
      ],
      "source": [
        "print(\"Max duration  call in minutes:  \", round((bank['duration'].max()/60),1))\n",
        "print(\"Min duration  call in minutes:   \", round((bank['duration'].min()/60),1))\n",
        "print(\"Mean duration call in minutes:   \", round((bank['duration'].mean()/60),1))\n",
        "print(\"STD dev of duration  call in minutes:   \", round((bank['duration'].std()/60),1))\n",
        "# Std close to the mean means that the data values are close to the mean "
      ]
    },
    {
      "cell_type": "code",
      "execution_count": 15,
      "metadata": {
        "_uuid": "9ae0c7b617306b6ce120fe16ce34be2fd2d82676",
        "execution": {
          "iopub.execute_input": "2020-08-30T10:35:39.637873Z",
          "iopub.status.busy": "2020-08-30T10:35:39.637026Z",
          "iopub.status.idle": "2020-08-30T10:35:39.654223Z",
          "shell.execute_reply": "2020-08-30T10:35:39.653394Z"
        },
        "papermill": {
          "duration": 0.050964,
          "end_time": "2020-08-30T10:35:39.654392",
          "exception": false,
          "start_time": "2020-08-30T10:35:39.603428",
          "status": "completed"
        },
        "tags": [],
        "id": "hUQFz9zvRZMq",
        "outputId": "2cd9cbd8-d636-45f7-da0b-4f4a924e9c1c",
        "colab": {
          "base_uri": "https://localhost:8080/"
        }
      },
      "outputs": [
        {
          "output_type": "stream",
          "name": "stdout",
          "text": [
            "1º Quartile:  100.0\n",
            "2º Quartile:  175.0\n",
            "3º Quartile:  314.0\n",
            "4º Quartile:  4918.0\n",
            "Duration calls above:  635.0 are outliers\n"
          ]
        }
      ],
      "source": [
        "# Quartiles\n",
        "print('1º Quartile: ', bank['duration'].quantile(q = 0.25))\n",
        "print('2º Quartile: ', bank['duration'].quantile(q = 0.50))\n",
        "print('3º Quartile: ', bank['duration'].quantile(q = 0.75))\n",
        "print('4º Quartile: ', bank['duration'].quantile(q = 1.00))\n",
        "#Calculate the outliers:\n",
        "  # Interquartile range, IQR = Q3 - Q1\n",
        "  # lower 1.5*IQR whisker = Q1 - 1.5 * IQR \n",
        "  # Upper 1.5*IQR whisker = Q3 + 1.5 * IQR\n",
        "    \n",
        "print('Duration calls above: ', bank['duration'].quantile(q = 0.75) + \n",
        "                      1.5*(bank['duration'].quantile(q = 0.75) - bank['duration'].quantile(q = 0.25)), 'are outliers')"
      ]
    },
    {
      "cell_type": "code",
      "execution_count": 16,
      "metadata": {
        "_uuid": "639458803170ee7b6ec345aebf6ca6d92895d6e9",
        "execution": {
          "iopub.execute_input": "2020-08-30T10:35:39.710082Z",
          "iopub.status.busy": "2020-08-30T10:35:39.709321Z",
          "iopub.status.idle": "2020-08-30T10:35:39.721138Z",
          "shell.execute_reply": "2020-08-30T10:35:39.720513Z"
        },
        "papermill": {
          "duration": 0.043425,
          "end_time": "2020-08-30T10:35:39.721283",
          "exception": false,
          "start_time": "2020-08-30T10:35:39.677858",
          "status": "completed"
        },
        "tags": [],
        "id": "P5Exs5tpRZMr",
        "outputId": "c17431ba-ca75-4b48-dbb5-e43efd693799",
        "colab": {
          "base_uri": "https://localhost:8080/"
        }
      },
      "outputs": [
        {
          "output_type": "stream",
          "name": "stdout",
          "text": [
            "Numerber of outliers:  2731\n",
            "Number of rows:  37902\n",
            "Outliers are: 7.21 %\n"
          ]
        }
      ],
      "source": [
        "print('Numerber of outliers: ', bank[bank['duration'] > 644.5]['duration'].count())\n",
        "print('Number of rows: ', len(bank))\n",
        "#Outliers in %\n",
        "print('Outliers are:', round(bank[bank['duration'] > 644.5]['duration'].count()*100/len(bank),2), '%')"
      ]
    },
    {
      "cell_type": "code",
      "execution_count": 17,
      "metadata": {
        "_uuid": "9f1af6f4e62ac6affb6556d7163a3d0902959ae9",
        "execution": {
          "iopub.execute_input": "2020-08-30T10:35:39.777408Z",
          "iopub.status.busy": "2020-08-30T10:35:39.776498Z",
          "iopub.status.idle": "2020-08-30T10:35:39.796783Z",
          "shell.execute_reply": "2020-08-30T10:35:39.796016Z"
        },
        "papermill": {
          "duration": 0.052197,
          "end_time": "2020-08-30T10:35:39.796936",
          "exception": false,
          "start_time": "2020-08-30T10:35:39.744739",
          "status": "completed"
        },
        "tags": [],
        "id": "n_NWOHv4RZMr",
        "outputId": "95340444-2887-4d6a-c5a1-95d79ae3863b",
        "colab": {
          "base_uri": "https://localhost:8080/",
          "height": 207
        }
      },
      "outputs": [
        {
          "output_type": "execute_result",
          "data": {
            "text/plain": [
              "       age           job  marital  education default  balance housing loan  \\\n",
              "6424    53    management  married    primary      no      351     yes   no   \n",
              "22937   35    technician  married  secondary      no     5535      no   no   \n",
              "36425   31  entrepreneur  married  secondary      no      162     yes  yes   \n",
              "\n",
              "        contact  day month  duration  campaign  pdays  previous poutcome  \\\n",
              "6424    unknown   27   may         0       4.0   -1.0       0.0  unknown   \n",
              "22937  cellular   26   aug         0      15.0   -1.0       0.0  unknown   \n",
              "36425  cellular   11   may         0       2.0   -1.0       0.0  unknown   \n",
              "\n",
              "      Target  \n",
              "6424      no  \n",
              "22937     no  \n",
              "36425     no  "
            ],
            "text/html": [
              "\n",
              "  <div id=\"df-93808243-e8ab-48e1-8f9f-cf53e9883a7b\">\n",
              "    <div class=\"colab-df-container\">\n",
              "      <div>\n",
              "<style scoped>\n",
              "    .dataframe tbody tr th:only-of-type {\n",
              "        vertical-align: middle;\n",
              "    }\n",
              "\n",
              "    .dataframe tbody tr th {\n",
              "        vertical-align: top;\n",
              "    }\n",
              "\n",
              "    .dataframe thead th {\n",
              "        text-align: right;\n",
              "    }\n",
              "</style>\n",
              "<table border=\"1\" class=\"dataframe\">\n",
              "  <thead>\n",
              "    <tr style=\"text-align: right;\">\n",
              "      <th></th>\n",
              "      <th>age</th>\n",
              "      <th>job</th>\n",
              "      <th>marital</th>\n",
              "      <th>education</th>\n",
              "      <th>default</th>\n",
              "      <th>balance</th>\n",
              "      <th>housing</th>\n",
              "      <th>loan</th>\n",
              "      <th>contact</th>\n",
              "      <th>day</th>\n",
              "      <th>month</th>\n",
              "      <th>duration</th>\n",
              "      <th>campaign</th>\n",
              "      <th>pdays</th>\n",
              "      <th>previous</th>\n",
              "      <th>poutcome</th>\n",
              "      <th>Target</th>\n",
              "    </tr>\n",
              "  </thead>\n",
              "  <tbody>\n",
              "    <tr>\n",
              "      <th>6424</th>\n",
              "      <td>53</td>\n",
              "      <td>management</td>\n",
              "      <td>married</td>\n",
              "      <td>primary</td>\n",
              "      <td>no</td>\n",
              "      <td>351</td>\n",
              "      <td>yes</td>\n",
              "      <td>no</td>\n",
              "      <td>unknown</td>\n",
              "      <td>27</td>\n",
              "      <td>may</td>\n",
              "      <td>0</td>\n",
              "      <td>4.0</td>\n",
              "      <td>-1.0</td>\n",
              "      <td>0.0</td>\n",
              "      <td>unknown</td>\n",
              "      <td>no</td>\n",
              "    </tr>\n",
              "    <tr>\n",
              "      <th>22937</th>\n",
              "      <td>35</td>\n",
              "      <td>technician</td>\n",
              "      <td>married</td>\n",
              "      <td>secondary</td>\n",
              "      <td>no</td>\n",
              "      <td>5535</td>\n",
              "      <td>no</td>\n",
              "      <td>no</td>\n",
              "      <td>cellular</td>\n",
              "      <td>26</td>\n",
              "      <td>aug</td>\n",
              "      <td>0</td>\n",
              "      <td>15.0</td>\n",
              "      <td>-1.0</td>\n",
              "      <td>0.0</td>\n",
              "      <td>unknown</td>\n",
              "      <td>no</td>\n",
              "    </tr>\n",
              "    <tr>\n",
              "      <th>36425</th>\n",
              "      <td>31</td>\n",
              "      <td>entrepreneur</td>\n",
              "      <td>married</td>\n",
              "      <td>secondary</td>\n",
              "      <td>no</td>\n",
              "      <td>162</td>\n",
              "      <td>yes</td>\n",
              "      <td>yes</td>\n",
              "      <td>cellular</td>\n",
              "      <td>11</td>\n",
              "      <td>may</td>\n",
              "      <td>0</td>\n",
              "      <td>2.0</td>\n",
              "      <td>-1.0</td>\n",
              "      <td>0.0</td>\n",
              "      <td>unknown</td>\n",
              "      <td>no</td>\n",
              "    </tr>\n",
              "  </tbody>\n",
              "</table>\n",
              "</div>\n",
              "      <button class=\"colab-df-convert\" onclick=\"convertToInteractive('df-93808243-e8ab-48e1-8f9f-cf53e9883a7b')\"\n",
              "              title=\"Convert this dataframe to an interactive table.\"\n",
              "              style=\"display:none;\">\n",
              "        \n",
              "  <svg xmlns=\"http://www.w3.org/2000/svg\" height=\"24px\"viewBox=\"0 0 24 24\"\n",
              "       width=\"24px\">\n",
              "    <path d=\"M0 0h24v24H0V0z\" fill=\"none\"/>\n",
              "    <path d=\"M18.56 5.44l.94 2.06.94-2.06 2.06-.94-2.06-.94-.94-2.06-.94 2.06-2.06.94zm-11 1L8.5 8.5l.94-2.06 2.06-.94-2.06-.94L8.5 2.5l-.94 2.06-2.06.94zm10 10l.94 2.06.94-2.06 2.06-.94-2.06-.94-.94-2.06-.94 2.06-2.06.94z\"/><path d=\"M17.41 7.96l-1.37-1.37c-.4-.4-.92-.59-1.43-.59-.52 0-1.04.2-1.43.59L10.3 9.45l-7.72 7.72c-.78.78-.78 2.05 0 2.83L4 21.41c.39.39.9.59 1.41.59.51 0 1.02-.2 1.41-.59l7.78-7.78 2.81-2.81c.8-.78.8-2.07 0-2.86zM5.41 20L4 18.59l7.72-7.72 1.47 1.35L5.41 20z\"/>\n",
              "  </svg>\n",
              "      </button>\n",
              "      \n",
              "  <style>\n",
              "    .colab-df-container {\n",
              "      display:flex;\n",
              "      flex-wrap:wrap;\n",
              "      gap: 12px;\n",
              "    }\n",
              "\n",
              "    .colab-df-convert {\n",
              "      background-color: #E8F0FE;\n",
              "      border: none;\n",
              "      border-radius: 50%;\n",
              "      cursor: pointer;\n",
              "      display: none;\n",
              "      fill: #1967D2;\n",
              "      height: 32px;\n",
              "      padding: 0 0 0 0;\n",
              "      width: 32px;\n",
              "    }\n",
              "\n",
              "    .colab-df-convert:hover {\n",
              "      background-color: #E2EBFA;\n",
              "      box-shadow: 0px 1px 2px rgba(60, 64, 67, 0.3), 0px 1px 3px 1px rgba(60, 64, 67, 0.15);\n",
              "      fill: #174EA6;\n",
              "    }\n",
              "\n",
              "    [theme=dark] .colab-df-convert {\n",
              "      background-color: #3B4455;\n",
              "      fill: #D2E3FC;\n",
              "    }\n",
              "\n",
              "    [theme=dark] .colab-df-convert:hover {\n",
              "      background-color: #434B5C;\n",
              "      box-shadow: 0px 1px 3px 1px rgba(0, 0, 0, 0.15);\n",
              "      filter: drop-shadow(0px 1px 2px rgba(0, 0, 0, 0.3));\n",
              "      fill: #FFFFFF;\n",
              "    }\n",
              "  </style>\n",
              "\n",
              "      <script>\n",
              "        const buttonEl =\n",
              "          document.querySelector('#df-93808243-e8ab-48e1-8f9f-cf53e9883a7b button.colab-df-convert');\n",
              "        buttonEl.style.display =\n",
              "          google.colab.kernel.accessAllowed ? 'block' : 'none';\n",
              "\n",
              "        async function convertToInteractive(key) {\n",
              "          const element = document.querySelector('#df-93808243-e8ab-48e1-8f9f-cf53e9883a7b');\n",
              "          const dataTable =\n",
              "            await google.colab.kernel.invokeFunction('convertToInteractive',\n",
              "                                                     [key], {});\n",
              "          if (!dataTable) return;\n",
              "\n",
              "          const docLinkHtml = 'Like what you see? Visit the ' +\n",
              "            '<a target=\"_blank\" href=https://colab.research.google.com/notebooks/data_table.ipynb>data table notebook</a>'\n",
              "            + ' to learn more about interactive tables.';\n",
              "          element.innerHTML = '';\n",
              "          dataTable['output_type'] = 'display_data';\n",
              "          await google.colab.output.renderOutput(dataTable, element);\n",
              "          const docLink = document.createElement('div');\n",
              "          docLink.innerHTML = docLinkHtml;\n",
              "          element.appendChild(docLink);\n",
              "        }\n",
              "      </script>\n",
              "    </div>\n",
              "  </div>\n",
              "  "
            ]
          },
          "metadata": {},
          "execution_count": 17
        }
      ],
      "source": [
        "# Look, if the call duration is iqual to 0, then is obviously that this person didn't subscribed, \n",
        "# THIS LINES NEED TO BE DELETED LATER \n",
        "bank[(bank['duration'] == 0)]"
      ]
    },
    {
      "cell_type": "code",
      "execution_count": 21,
      "metadata": {
        "execution": {
          "iopub.execute_input": "2020-08-30T10:35:39.853569Z",
          "iopub.status.busy": "2020-08-30T10:35:39.852401Z",
          "iopub.status.idle": "2020-08-30T10:35:39.866138Z",
          "shell.execute_reply": "2020-08-30T10:35:39.865459Z"
        },
        "papermill": {
          "duration": 0.045021,
          "end_time": "2020-08-30T10:35:39.866304",
          "exception": false,
          "start_time": "2020-08-30T10:35:39.821283",
          "status": "completed"
        },
        "tags": [],
        "id": "pCSLGht_RZMs"
      },
      "outputs": [],
      "source": [
        "bank=bank[(bank['duration'] != 0)]"
      ]
    },
    {
      "cell_type": "markdown",
      "metadata": {
        "papermill": {
          "duration": 0.024031,
          "end_time": "2020-08-30T10:35:39.914793",
          "exception": false,
          "start_time": "2020-08-30T10:35:39.890762",
          "status": "completed"
        },
        "tags": [],
        "id": "6VkfAKLERZMs"
      },
      "source": [
        "### 9)Plots"
      ]
    },
    {
      "cell_type": "code",
      "execution_count": 22,
      "metadata": {
        "execution": {
          "iopub.execute_input": "2020-08-30T10:35:39.970690Z",
          "iopub.status.busy": "2020-08-30T10:35:39.969528Z",
          "iopub.status.idle": "2020-08-30T10:35:59.338097Z",
          "shell.execute_reply": "2020-08-30T10:35:59.338970Z"
        },
        "papermill": {
          "duration": 19.400389,
          "end_time": "2020-08-30T10:35:59.339224",
          "exception": false,
          "start_time": "2020-08-30T10:35:39.938835",
          "status": "completed"
        },
        "tags": [],
        "id": "jcojr-qoRZMt",
        "outputId": "2e53f8b3-0eec-4ede-c1f3-f48b765644e6",
        "colab": {
          "base_uri": "https://localhost:8080/",
          "height": 1000
        }
      },
      "outputs": [
        {
          "output_type": "display_data",
          "data": {
            "text/plain": [
              "<Figure size 1260x1260 with 56 Axes>"
            ],
            "image/png": "[encoded data removed]"
          },
          "metadata": {
            "needs_background": "light"
          }
        }
      ],
      "source": [
        "#histograms from the pair plots\n",
        "sns.pairplot(data= bank)\n",
        "plt.show()"
      ]
    },
    {
      "cell_type": "code",
      "source": [
        "sns.pairplot(data= bank, hue='Target')\n",
        "plt.show()"
      ],
      "metadata": {
        "id": "3X6Xi7lBboR7"
      },
      "execution_count": null,
      "outputs": []
    },
    {
      "cell_type": "code",
      "execution_count": null,
      "metadata": {
        "execution": {
          "iopub.execute_input": "2020-08-30T10:35:59.405708Z",
          "iopub.status.busy": "2020-08-30T10:35:59.404893Z",
          "iopub.status.idle": "2020-08-30T10:35:59.965927Z",
          "shell.execute_reply": "2020-08-30T10:35:59.965183Z"
        },
        "papermill": {
          "duration": 0.596618,
          "end_time": "2020-08-30T10:35:59.966055",
          "exception": false,
          "start_time": "2020-08-30T10:35:59.369437",
          "status": "completed"
        },
        "tags": [],
        "id": "n1a8QvieRZMt"
      },
      "outputs": [],
      "source": [
        "plt.figure(figsize=(15, 14))\n",
        "sns.heatmap(bank.corr(),annot=True, cmap= 'Greens' )"
      ]
    },
    {
      "cell_type": "markdown",
      "metadata": {
        "papermill": {
          "duration": 0.030402,
          "end_time": "2020-08-30T10:36:00.027167",
          "exception": false,
          "start_time": "2020-08-30T10:35:59.996765",
          "status": "completed"
        },
        "tags": [],
        "id": "WzUiDBhRRZMu"
      },
      "source": [
        "**The distribution of all numerical variables other than age is highly skewed - hence we might want to transform or bin some of these variables**"
      ]
    },
    {
      "cell_type": "markdown",
      "metadata": {
        "papermill": {
          "duration": 0.029854,
          "end_time": "2020-08-30T10:36:00.136822",
          "exception": false,
          "start_time": "2020-08-30T10:36:00.106968",
          "status": "completed"
        },
        "tags": [],
        "id": "zkNGUeLtRZMu"
      },
      "source": [
        "**On similar lines, we will perform univariate analysis of other numerical variables**"
      ]
    },
    {
      "cell_type": "markdown",
      "metadata": {
        "papermill": {
          "duration": 0.029853,
          "end_time": "2020-08-30T10:36:00.197006",
          "exception": false,
          "start_time": "2020-08-30T10:36:00.167153",
          "status": "completed"
        },
        "tags": [],
        "id": "eS_Kl0p3RZMv"
      },
      "source": [
        "#### Univariate analysis - countplot / value count for categorical variables\n"
      ]
    },
    {
      "cell_type": "code",
      "execution_count": null,
      "metadata": {
        "execution": {
          "iopub.execute_input": "2020-08-30T10:36:00.279690Z",
          "iopub.status.busy": "2020-08-30T10:36:00.278541Z",
          "iopub.status.idle": "2020-08-30T10:36:00.283166Z",
          "shell.execute_reply": "2020-08-30T10:36:00.282428Z"
        },
        "papermill": {
          "duration": 0.055626,
          "end_time": "2020-08-30T10:36:00.283317",
          "exception": false,
          "start_time": "2020-08-30T10:36:00.227691",
          "status": "completed"
        },
        "tags": [],
        "id": "1K4fYAcFRZMv"
      },
      "outputs": [],
      "source": [
        "bank['job'].value_counts()"
      ]
    },
    {
      "cell_type": "code",
      "execution_count": null,
      "metadata": {
        "execution": {
          "iopub.execute_input": "2020-08-30T10:36:00.356544Z",
          "iopub.status.busy": "2020-08-30T10:36:00.355724Z",
          "iopub.status.idle": "2020-08-30T10:36:00.500247Z",
          "shell.execute_reply": "2020-08-30T10:36:00.499616Z"
        },
        "papermill": {
          "duration": 0.184997,
          "end_time": "2020-08-30T10:36:00.500372",
          "exception": false,
          "start_time": "2020-08-30T10:36:00.315375",
          "status": "completed"
        },
        "tags": [],
        "id": "JGZVZEjkRZMw"
      },
      "outputs": [],
      "source": [
        "sns.countplot(bank['marital'])"
      ]
    },
    {
      "cell_type": "code",
      "execution_count": null,
      "metadata": {
        "execution": {
          "iopub.execute_input": "2020-08-30T10:36:00.571398Z",
          "iopub.status.busy": "2020-08-30T10:36:00.570584Z",
          "iopub.status.idle": "2020-08-30T10:36:00.728328Z",
          "shell.execute_reply": "2020-08-30T10:36:00.727540Z"
        },
        "papermill": {
          "duration": 0.197453,
          "end_time": "2020-08-30T10:36:00.728460",
          "exception": false,
          "start_time": "2020-08-30T10:36:00.531007",
          "status": "completed"
        },
        "tags": [],
        "id": "AhO9gKLERZMw"
      },
      "outputs": [],
      "source": [
        "plt.figure(figsize=(12,5))\n",
        "sns.countplot(bank['education'])"
      ]
    },
    {
      "cell_type": "code",
      "execution_count": null,
      "metadata": {
        "execution": {
          "iopub.execute_input": "2020-08-30T10:36:00.801611Z",
          "iopub.status.busy": "2020-08-30T10:36:00.800802Z",
          "iopub.status.idle": "2020-08-30T10:36:00.942187Z",
          "shell.execute_reply": "2020-08-30T10:36:00.941485Z"
        },
        "papermill": {
          "duration": 0.182299,
          "end_time": "2020-08-30T10:36:00.942331",
          "exception": false,
          "start_time": "2020-08-30T10:36:00.760032",
          "status": "completed"
        },
        "tags": [],
        "id": "LwGxb28PRZMx"
      },
      "outputs": [],
      "source": [
        "plt.figure(figsize=(12,5))\n",
        "sns.countplot(bank['default'])"
      ]
    },
    {
      "cell_type": "code",
      "execution_count": null,
      "metadata": {
        "execution": {
          "iopub.execute_input": "2020-08-30T10:36:01.014316Z",
          "iopub.status.busy": "2020-08-30T10:36:01.013537Z",
          "iopub.status.idle": "2020-08-30T10:36:01.148479Z",
          "shell.execute_reply": "2020-08-30T10:36:01.147700Z"
        },
        "papermill": {
          "duration": 0.174725,
          "end_time": "2020-08-30T10:36:01.148611",
          "exception": false,
          "start_time": "2020-08-30T10:36:00.973886",
          "status": "completed"
        },
        "tags": [],
        "id": "f33iaFQ1RZMx"
      },
      "outputs": [],
      "source": [
        "sns.countplot(bank['housing'])"
      ]
    },
    {
      "cell_type": "code",
      "execution_count": null,
      "metadata": {
        "execution": {
          "iopub.execute_input": "2020-08-30T10:36:01.221811Z",
          "iopub.status.busy": "2020-08-30T10:36:01.221030Z",
          "iopub.status.idle": "2020-08-30T10:36:01.365330Z",
          "shell.execute_reply": "2020-08-30T10:36:01.364697Z"
        },
        "papermill": {
          "duration": 0.184681,
          "end_time": "2020-08-30T10:36:01.365468",
          "exception": false,
          "start_time": "2020-08-30T10:36:01.180787",
          "status": "completed"
        },
        "tags": [],
        "id": "uyjrdtPqRZMy"
      },
      "outputs": [],
      "source": [
        "sns.countplot(bank['loan'])"
      ]
    },
    {
      "cell_type": "code",
      "execution_count": null,
      "metadata": {
        "execution": {
          "iopub.execute_input": "2020-08-30T10:36:01.441010Z",
          "iopub.status.busy": "2020-08-30T10:36:01.440254Z",
          "iopub.status.idle": "2020-08-30T10:36:01.586056Z",
          "shell.execute_reply": "2020-08-30T10:36:01.586670Z"
        },
        "papermill": {
          "duration": 0.18771,
          "end_time": "2020-08-30T10:36:01.586836",
          "exception": false,
          "start_time": "2020-08-30T10:36:01.399126",
          "status": "completed"
        },
        "tags": [],
        "id": "-9CSiS3HRZMy"
      },
      "outputs": [],
      "source": [
        "sns.countplot(bank['contact'])"
      ]
    },
    {
      "cell_type": "code",
      "execution_count": null,
      "metadata": {
        "execution": {
          "iopub.execute_input": "2020-08-30T10:36:01.661110Z",
          "iopub.status.busy": "2020-08-30T10:36:01.660367Z",
          "iopub.status.idle": "2020-08-30T10:36:01.819273Z",
          "shell.execute_reply": "2020-08-30T10:36:01.818520Z"
        },
        "papermill": {
          "duration": 0.199705,
          "end_time": "2020-08-30T10:36:01.819400",
          "exception": false,
          "start_time": "2020-08-30T10:36:01.619695",
          "status": "completed"
        },
        "tags": [],
        "id": "4mj_NNmHRZMz"
      },
      "outputs": [],
      "source": [
        "sns.countplot(bank['poutcome'])"
      ]
    },
    {
      "cell_type": "code",
      "execution_count": null,
      "metadata": {
        "execution": {
          "iopub.execute_input": "2020-08-30T10:36:01.894858Z",
          "iopub.status.busy": "2020-08-30T10:36:01.894001Z",
          "iopub.status.idle": "2020-08-30T10:36:02.041058Z",
          "shell.execute_reply": "2020-08-30T10:36:02.040391Z"
        },
        "papermill": {
          "duration": 0.188574,
          "end_time": "2020-08-30T10:36:02.041186",
          "exception": false,
          "start_time": "2020-08-30T10:36:01.852612",
          "status": "completed"
        },
        "tags": [],
        "id": "no03v_kCRZMz"
      },
      "outputs": [],
      "source": [
        "sns.countplot(bank['Target'])"
      ]
    },
    {
      "cell_type": "markdown",
      "metadata": {
        "papermill": {
          "duration": 0.033715,
          "end_time": "2020-08-30T10:36:02.109878",
          "exception": false,
          "start_time": "2020-08-30T10:36:02.076163",
          "status": "completed"
        },
        "tags": [],
        "id": "4lPyHUgrRZM0"
      },
      "source": [
        "### Bivariate analysis"
      ]
    },
    {
      "cell_type": "code",
      "execution_count": null,
      "metadata": {
        "execution": {
          "iopub.execute_input": "2020-08-30T10:36:02.185879Z",
          "iopub.status.busy": "2020-08-30T10:36:02.185014Z",
          "iopub.status.idle": "2020-08-30T10:36:02.221475Z",
          "shell.execute_reply": "2020-08-30T10:36:02.220699Z"
        },
        "papermill": {
          "duration": 0.077735,
          "end_time": "2020-08-30T10:36:02.221610",
          "exception": false,
          "start_time": "2020-08-30T10:36:02.143875",
          "status": "completed"
        },
        "tags": [],
        "id": "dAIYaCZkRZM0",
        "outputId": "3f0b1891-0167-46f0-f74b-3f2e2c880d61",
        "colab": {
          "base_uri": "https://localhost:8080/",
          "height": 143
        }
      },
      "outputs": [
        {
          "output_type": "execute_result",
          "data": {
            "text/plain": [
              "         age  balance   day  duration  campaign  pdays  previous\n",
              "Target                                                          \n",
              "no      40.8   1303.7  15.9     221.2       2.8   36.4       0.5\n",
              "yes     41.7   1804.3  15.2     537.3       2.1   68.7       1.2"
            ],
            "text/html": [
              "\n",
              "  <div id=\"df-939b259d-8471-437a-97ea-d901fbb72245\">\n",
              "    <div class=\"colab-df-container\">\n",
              "      <div>\n",
              "<style scoped>\n",
              "    .dataframe tbody tr th:only-of-type {\n",
              "        vertical-align: middle;\n",
              "    }\n",
              "\n",
              "    .dataframe tbody tr th {\n",
              "        vertical-align: top;\n",
              "    }\n",
              "\n",
              "    .dataframe thead th {\n",
              "        text-align: right;\n",
              "    }\n",
              "</style>\n",
              "<table border=\"1\" class=\"dataframe\">\n",
              "  <thead>\n",
              "    <tr style=\"text-align: right;\">\n",
              "      <th></th>\n",
              "      <th>age</th>\n",
              "      <th>balance</th>\n",
              "      <th>day</th>\n",
              "      <th>duration</th>\n",
              "      <th>campaign</th>\n",
              "      <th>pdays</th>\n",
              "      <th>previous</th>\n",
              "    </tr>\n",
              "    <tr>\n",
              "      <th>Target</th>\n",
              "      <th></th>\n",
              "      <th></th>\n",
              "      <th></th>\n",
              "      <th></th>\n",
              "      <th></th>\n",
              "      <th></th>\n",
              "      <th></th>\n",
              "    </tr>\n",
              "  </thead>\n",
              "  <tbody>\n",
              "    <tr>\n",
              "      <th>no</th>\n",
              "      <td>40.8</td>\n",
              "      <td>1303.7</td>\n",
              "      <td>15.9</td>\n",
              "      <td>221.2</td>\n",
              "      <td>2.8</td>\n",
              "      <td>36.4</td>\n",
              "      <td>0.5</td>\n",
              "    </tr>\n",
              "    <tr>\n",
              "      <th>yes</th>\n",
              "      <td>41.7</td>\n",
              "      <td>1804.3</td>\n",
              "      <td>15.2</td>\n",
              "      <td>537.3</td>\n",
              "      <td>2.1</td>\n",
              "      <td>68.7</td>\n",
              "      <td>1.2</td>\n",
              "    </tr>\n",
              "  </tbody>\n",
              "</table>\n",
              "</div>\n",
              "      <button class=\"colab-df-convert\" onclick=\"convertToInteractive('df-939b259d-8471-437a-97ea-d901fbb72245')\"\n",
              "              title=\"Convert this dataframe to an interactive table.\"\n",
              "              style=\"display:none;\">\n",
              "        \n",
              "  <svg xmlns=\"http://www.w3.org/2000/svg\" height=\"24px\"viewBox=\"0 0 24 24\"\n",
              "       width=\"24px\">\n",
              "    <path d=\"M0 0h24v24H0V0z\" fill=\"none\"/>\n",
              "    <path d=\"M18.56 5.44l.94 2.06.94-2.06 2.06-.94-2.06-.94-.94-2.06-.94 2.06-2.06.94zm-11 1L8.5 8.5l.94-2.06 2.06-.94-2.06-.94L8.5 2.5l-.94 2.06-2.06.94zm10 10l.94 2.06.94-2.06 2.06-.94-2.06-.94-.94-2.06-.94 2.06-2.06.94z\"/><path d=\"M17.41 7.96l-1.37-1.37c-.4-.4-.92-.59-1.43-.59-.52 0-1.04.2-1.43.59L10.3 9.45l-7.72 7.72c-.78.78-.78 2.05 0 2.83L4 21.41c.39.39.9.59 1.41.59.51 0 1.02-.2 1.41-.59l7.78-7.78 2.81-2.81c.8-.78.8-2.07 0-2.86zM5.41 20L4 18.59l7.72-7.72 1.47 1.35L5.41 20z\"/>\n",
              "  </svg>\n",
              "      </button>\n",
              "      \n",
              "  <style>\n",
              "    .colab-df-container {\n",
              "      display:flex;\n",
              "      flex-wrap:wrap;\n",
              "      gap: 12px;\n",
              "    }\n",
              "\n",
              "    .colab-df-convert {\n",
              "      background-color: #E8F0FE;\n",
              "      border: none;\n",
              "      border-radius: 50%;\n",
              "      cursor: pointer;\n",
              "      display: none;\n",
              "      fill: #1967D2;\n",
              "      height: 32px;\n",
              "      padding: 0 0 0 0;\n",
              "      width: 32px;\n",
              "    }\n",
              "\n",
              "    .colab-df-convert:hover {\n",
              "      background-color: #E2EBFA;\n",
              "      box-shadow: 0px 1px 2px rgba(60, 64, 67, 0.3), 0px 1px 3px 1px rgba(60, 64, 67, 0.15);\n",
              "      fill: #174EA6;\n",
              "    }\n",
              "\n",
              "    [theme=dark] .colab-df-convert {\n",
              "      background-color: #3B4455;\n",
              "      fill: #D2E3FC;\n",
              "    }\n",
              "\n",
              "    [theme=dark] .colab-df-convert:hover {\n",
              "      background-color: #434B5C;\n",
              "      box-shadow: 0px 1px 3px 1px rgba(0, 0, 0, 0.15);\n",
              "      filter: drop-shadow(0px 1px 2px rgba(0, 0, 0, 0.3));\n",
              "      fill: #FFFFFF;\n",
              "    }\n",
              "  </style>\n",
              "\n",
              "      <script>\n",
              "        const buttonEl =\n",
              "          document.querySelector('#df-939b259d-8471-437a-97ea-d901fbb72245 button.colab-df-convert');\n",
              "        buttonEl.style.display =\n",
              "          google.colab.kernel.accessAllowed ? 'block' : 'none';\n",
              "\n",
              "        async function convertToInteractive(key) {\n",
              "          const element = document.querySelector('#df-939b259d-8471-437a-97ea-d901fbb72245');\n",
              "          const dataTable =\n",
              "            await google.colab.kernel.invokeFunction('convertToInteractive',\n",
              "                                                     [key], {});\n",
              "          if (!dataTable) return;\n",
              "\n",
              "          const docLinkHtml = 'Like what you see? Visit the ' +\n",
              "            '<a target=\"_blank\" href=https://colab.research.google.com/notebooks/data_table.ipynb>data table notebook</a>'\n",
              "            + ' to learn more about interactive tables.';\n",
              "          element.innerHTML = '';\n",
              "          dataTable['output_type'] = 'display_data';\n",
              "          await google.colab.output.renderOutput(dataTable, element);\n",
              "          const docLink = document.createElement('div');\n",
              "          docLink.innerHTML = docLinkHtml;\n",
              "          element.appendChild(docLink);\n",
              "        }\n",
              "      </script>\n",
              "    </div>\n",
              "  </div>\n",
              "  "
            ]
          },
          "metadata": {},
          "execution_count": 103
        }
      ],
      "source": [
        "#Group numerical variables by mean for the classes of Y variable\n",
        "np.round(bank.groupby([\"Target\"]).mean() ,1)"
      ]
    },
    {
      "cell_type": "markdown",
      "metadata": {
        "papermill": {
          "duration": 0.033817,
          "end_time": "2020-08-30T10:36:02.289568",
          "exception": false,
          "start_time": "2020-08-30T10:36:02.255751",
          "status": "completed"
        },
        "tags": [],
        "id": "c2uOJEr3RZM1"
      },
      "source": [
        "#### The mean balance is higher for customers who subscribe to the term deposit compared to those who dont\n",
        "\n",
        "\n",
        "#### number of days that passed by after the client was last contacted from a previous campaign is higher for people who have subscribed\n",
        "\n",
        "#### number of contacts performed before this campaign is also higher for customers who subscribe"
      ]
    },
    {
      "cell_type": "markdown",
      "metadata": {
        "papermill": {
          "duration": 0.033883,
          "end_time": "2020-08-30T10:36:02.357910",
          "exception": false,
          "start_time": "2020-08-30T10:36:02.324027",
          "status": "completed"
        },
        "tags": [],
        "id": "eTY8qbrTRZM1"
      },
      "source": [
        "##### All of the above facts indicate that customers with a higher balance and those who have been contacted frequently before the campaign tend to subscribe for the term deposit"
      ]
    },
    {
      "cell_type": "markdown",
      "metadata": {
        "papermill": {
          "duration": 0.043541,
          "end_time": "2020-08-30T10:36:02.436042",
          "exception": false,
          "start_time": "2020-08-30T10:36:02.392501",
          "status": "completed"
        },
        "tags": [],
        "id": "BmuY1GC7RZM2"
      },
      "source": [
        "### Bivariate analysis using crosstab"
      ]
    },
    {
      "cell_type": "code",
      "execution_count": null,
      "metadata": {
        "execution": {
          "iopub.execute_input": "2020-08-30T10:36:02.533132Z",
          "iopub.status.busy": "2020-08-30T10:36:02.530870Z",
          "iopub.status.idle": "2020-08-30T10:36:02.580481Z",
          "shell.execute_reply": "2020-08-30T10:36:02.579845Z"
        },
        "papermill": {
          "duration": 0.100693,
          "end_time": "2020-08-30T10:36:02.580623",
          "exception": false,
          "start_time": "2020-08-30T10:36:02.479930",
          "status": "completed"
        },
        "tags": [],
        "id": "xppQY0CFRZM2",
        "outputId": "e1ee68bb-6ba6-4fb4-e7d5-4d3b8c98adda",
        "colab": {
          "base_uri": "https://localhost:8080/",
          "height": 457
        }
      },
      "outputs": [
        {
          "output_type": "execute_result",
          "data": {
            "text/plain": [
              "Target               no       yes\n",
              "job                              \n",
              "student        0.713220  0.286780\n",
              "retired        0.772085  0.227915\n",
              "unemployed     0.844973  0.155027\n",
              "management     0.862430  0.137570\n",
              "admin.         0.877973  0.122027\n",
              "self-employed  0.881571  0.118429\n",
              "unknown        0.881944  0.118056\n",
              "technician     0.889415  0.110585\n",
              "services       0.911170  0.088830\n",
              "housemaid      0.912097  0.087903\n",
              "entrepreneur   0.917227  0.082773\n",
              "blue-collar    0.927250  0.072750"
            ],
            "text/html": [
              "\n",
              "  <div id=\"df-b3937843-428c-425f-963a-80aa4c53fa2c\">\n",
              "    <div class=\"colab-df-container\">\n",
              "      <div>\n",
              "<style scoped>\n",
              "    .dataframe tbody tr th:only-of-type {\n",
              "        vertical-align: middle;\n",
              "    }\n",
              "\n",
              "    .dataframe tbody tr th {\n",
              "        vertical-align: top;\n",
              "    }\n",
              "\n",
              "    .dataframe thead th {\n",
              "        text-align: right;\n",
              "    }\n",
              "</style>\n",
              "<table border=\"1\" class=\"dataframe\">\n",
              "  <thead>\n",
              "    <tr style=\"text-align: right;\">\n",
              "      <th>Target</th>\n",
              "      <th>no</th>\n",
              "      <th>yes</th>\n",
              "    </tr>\n",
              "    <tr>\n",
              "      <th>job</th>\n",
              "      <th></th>\n",
              "      <th></th>\n",
              "    </tr>\n",
              "  </thead>\n",
              "  <tbody>\n",
              "    <tr>\n",
              "      <th>student</th>\n",
              "      <td>0.713220</td>\n",
              "      <td>0.286780</td>\n",
              "    </tr>\n",
              "    <tr>\n",
              "      <th>retired</th>\n",
              "      <td>0.772085</td>\n",
              "      <td>0.227915</td>\n",
              "    </tr>\n",
              "    <tr>\n",
              "      <th>unemployed</th>\n",
              "      <td>0.844973</td>\n",
              "      <td>0.155027</td>\n",
              "    </tr>\n",
              "    <tr>\n",
              "      <th>management</th>\n",
              "      <td>0.862430</td>\n",
              "      <td>0.137570</td>\n",
              "    </tr>\n",
              "    <tr>\n",
              "      <th>admin.</th>\n",
              "      <td>0.877973</td>\n",
              "      <td>0.122027</td>\n",
              "    </tr>\n",
              "    <tr>\n",
              "      <th>self-employed</th>\n",
              "      <td>0.881571</td>\n",
              "      <td>0.118429</td>\n",
              "    </tr>\n",
              "    <tr>\n",
              "      <th>unknown</th>\n",
              "      <td>0.881944</td>\n",
              "      <td>0.118056</td>\n",
              "    </tr>\n",
              "    <tr>\n",
              "      <th>technician</th>\n",
              "      <td>0.889415</td>\n",
              "      <td>0.110585</td>\n",
              "    </tr>\n",
              "    <tr>\n",
              "      <th>services</th>\n",
              "      <td>0.911170</td>\n",
              "      <td>0.088830</td>\n",
              "    </tr>\n",
              "    <tr>\n",
              "      <th>housemaid</th>\n",
              "      <td>0.912097</td>\n",
              "      <td>0.087903</td>\n",
              "    </tr>\n",
              "    <tr>\n",
              "      <th>entrepreneur</th>\n",
              "      <td>0.917227</td>\n",
              "      <td>0.082773</td>\n",
              "    </tr>\n",
              "    <tr>\n",
              "      <th>blue-collar</th>\n",
              "      <td>0.927250</td>\n",
              "      <td>0.072750</td>\n",
              "    </tr>\n",
              "  </tbody>\n",
              "</table>\n",
              "</div>\n",
              "      <button class=\"colab-df-convert\" onclick=\"convertToInteractive('df-b3937843-428c-425f-963a-80aa4c53fa2c')\"\n",
              "              title=\"Convert this dataframe to an interactive table.\"\n",
              "              style=\"display:none;\">\n",
              "        \n",
              "  <svg xmlns=\"http://www.w3.org/2000/svg\" height=\"24px\"viewBox=\"0 0 24 24\"\n",
              "       width=\"24px\">\n",
              "    <path d=\"M0 0h24v24H0V0z\" fill=\"none\"/>\n",
              "    <path d=\"M18.56 5.44l.94 2.06.94-2.06 2.06-.94-2.06-.94-.94-2.06-.94 2.06-2.06.94zm-11 1L8.5 8.5l.94-2.06 2.06-.94-2.06-.94L8.5 2.5l-.94 2.06-2.06.94zm10 10l.94 2.06.94-2.06 2.06-.94-2.06-.94-.94-2.06-.94 2.06-2.06.94z\"/><path d=\"M17.41 7.96l-1.37-1.37c-.4-.4-.92-.59-1.43-.59-.52 0-1.04.2-1.43.59L10.3 9.45l-7.72 7.72c-.78.78-.78 2.05 0 2.83L4 21.41c.39.39.9.59 1.41.59.51 0 1.02-.2 1.41-.59l7.78-7.78 2.81-2.81c.8-.78.8-2.07 0-2.86zM5.41 20L4 18.59l7.72-7.72 1.47 1.35L5.41 20z\"/>\n",
              "  </svg>\n",
              "      </button>\n",
              "      \n",
              "  <style>\n",
              "    .colab-df-container {\n",
              "      display:flex;\n",
              "      flex-wrap:wrap;\n",
              "      gap: 12px;\n",
              "    }\n",
              "\n",
              "    .colab-df-convert {\n",
              "      background-color: #E8F0FE;\n",
              "      border: none;\n",
              "      border-radius: 50%;\n",
              "      cursor: pointer;\n",
              "      display: none;\n",
              "      fill: #1967D2;\n",
              "      height: 32px;\n",
              "      padding: 0 0 0 0;\n",
              "      width: 32px;\n",
              "    }\n",
              "\n",
              "    .colab-df-convert:hover {\n",
              "      background-color: #E2EBFA;\n",
              "      box-shadow: 0px 1px 2px rgba(60, 64, 67, 0.3), 0px 1px 3px 1px rgba(60, 64, 67, 0.15);\n",
              "      fill: #174EA6;\n",
              "    }\n",
              "\n",
              "    [theme=dark] .colab-df-convert {\n",
              "      background-color: #3B4455;\n",
              "      fill: #D2E3FC;\n",
              "    }\n",
              "\n",
              "    [theme=dark] .colab-df-convert:hover {\n",
              "      background-color: #434B5C;\n",
              "      box-shadow: 0px 1px 3px 1px rgba(0, 0, 0, 0.15);\n",
              "      filter: drop-shadow(0px 1px 2px rgba(0, 0, 0, 0.3));\n",
              "      fill: #FFFFFF;\n",
              "    }\n",
              "  </style>\n",
              "\n",
              "      <script>\n",
              "        const buttonEl =\n",
              "          document.querySelector('#df-b3937843-428c-425f-963a-80aa4c53fa2c button.colab-df-convert');\n",
              "        buttonEl.style.display =\n",
              "          google.colab.kernel.accessAllowed ? 'block' : 'none';\n",
              "\n",
              "        async function convertToInteractive(key) {\n",
              "          const element = document.querySelector('#df-b3937843-428c-425f-963a-80aa4c53fa2c');\n",
              "          const dataTable =\n",
              "            await google.colab.kernel.invokeFunction('convertToInteractive',\n",
              "                                                     [key], {});\n",
              "          if (!dataTable) return;\n",
              "\n",
              "          const docLinkHtml = 'Like what you see? Visit the ' +\n",
              "            '<a target=\"_blank\" href=https://colab.research.google.com/notebooks/data_table.ipynb>data table notebook</a>'\n",
              "            + ' to learn more about interactive tables.';\n",
              "          element.innerHTML = '';\n",
              "          dataTable['output_type'] = 'display_data';\n",
              "          await google.colab.output.renderOutput(dataTable, element);\n",
              "          const docLink = document.createElement('div');\n",
              "          docLink.innerHTML = docLinkHtml;\n",
              "          element.appendChild(docLink);\n",
              "        }\n",
              "      </script>\n",
              "    </div>\n",
              "  </div>\n",
              "  "
            ]
          },
          "metadata": {},
          "execution_count": 104
        }
      ],
      "source": [
        "pd.crosstab(bank['job'], bank['Target'], normalize='index').sort_values(by='yes',ascending=False )"
      ]
    },
    {
      "cell_type": "markdown",
      "metadata": {
        "papermill": {
          "duration": 0.033677,
          "end_time": "2020-08-30T10:36:02.648743",
          "exception": false,
          "start_time": "2020-08-30T10:36:02.615066",
          "status": "completed"
        },
        "tags": [],
        "id": "dOsrvhhaRZM2"
      },
      "source": [
        "##### The highest conversion is for students (28%) and lowest is for blue-collar(7%)"
      ]
    },
    {
      "cell_type": "code",
      "execution_count": null,
      "metadata": {
        "execution": {
          "iopub.execute_input": "2020-08-30T10:36:02.728575Z",
          "iopub.status.busy": "2020-08-30T10:36:02.726385Z",
          "iopub.status.idle": "2020-08-30T10:36:02.758519Z",
          "shell.execute_reply": "2020-08-30T10:36:02.757835Z"
        },
        "papermill": {
          "duration": 0.075845,
          "end_time": "2020-08-30T10:36:02.758659",
          "exception": false,
          "start_time": "2020-08-30T10:36:02.682814",
          "status": "completed"
        },
        "tags": [],
        "id": "wrYxT4GtRZM3",
        "outputId": "6620ce67-205c-4852-ff77-13dcabcf8480",
        "colab": {
          "base_uri": "https://localhost:8080/",
          "height": 175
        }
      },
      "outputs": [
        {
          "output_type": "execute_result",
          "data": {
            "text/plain": [
              "Target          no       yes\n",
              "marital                     \n",
              "single    0.850508  0.149492\n",
              "divorced  0.880545  0.119455\n",
              "married   0.898754  0.101246"
            ],
            "text/html": [
              "\n",
              "  <div id=\"df-bfb9329c-e275-4002-a7db-8e08f1b0a0ea\">\n",
              "    <div class=\"colab-df-container\">\n",
              "      <div>\n",
              "<style scoped>\n",
              "    .dataframe tbody tr th:only-of-type {\n",
              "        vertical-align: middle;\n",
              "    }\n",
              "\n",
              "    .dataframe tbody tr th {\n",
              "        vertical-align: top;\n",
              "    }\n",
              "\n",
              "    .dataframe thead th {\n",
              "        text-align: right;\n",
              "    }\n",
              "</style>\n",
              "<table border=\"1\" class=\"dataframe\">\n",
              "  <thead>\n",
              "    <tr style=\"text-align: right;\">\n",
              "      <th>Target</th>\n",
              "      <th>no</th>\n",
              "      <th>yes</th>\n",
              "    </tr>\n",
              "    <tr>\n",
              "      <th>marital</th>\n",
              "      <th></th>\n",
              "      <th></th>\n",
              "    </tr>\n",
              "  </thead>\n",
              "  <tbody>\n",
              "    <tr>\n",
              "      <th>single</th>\n",
              "      <td>0.850508</td>\n",
              "      <td>0.149492</td>\n",
              "    </tr>\n",
              "    <tr>\n",
              "      <th>divorced</th>\n",
              "      <td>0.880545</td>\n",
              "      <td>0.119455</td>\n",
              "    </tr>\n",
              "    <tr>\n",
              "      <th>married</th>\n",
              "      <td>0.898754</td>\n",
              "      <td>0.101246</td>\n",
              "    </tr>\n",
              "  </tbody>\n",
              "</table>\n",
              "</div>\n",
              "      <button class=\"colab-df-convert\" onclick=\"convertToInteractive('df-bfb9329c-e275-4002-a7db-8e08f1b0a0ea')\"\n",
              "              title=\"Convert this dataframe to an interactive table.\"\n",
              "              style=\"display:none;\">\n",
              "        \n",
              "  <svg xmlns=\"http://www.w3.org/2000/svg\" height=\"24px\"viewBox=\"0 0 24 24\"\n",
              "       width=\"24px\">\n",
              "    <path d=\"M0 0h24v24H0V0z\" fill=\"none\"/>\n",
              "    <path d=\"M18.56 5.44l.94 2.06.94-2.06 2.06-.94-2.06-.94-.94-2.06-.94 2.06-2.06.94zm-11 1L8.5 8.5l.94-2.06 2.06-.94-2.06-.94L8.5 2.5l-.94 2.06-2.06.94zm10 10l.94 2.06.94-2.06 2.06-.94-2.06-.94-.94-2.06-.94 2.06-2.06.94z\"/><path d=\"M17.41 7.96l-1.37-1.37c-.4-.4-.92-.59-1.43-.59-.52 0-1.04.2-1.43.59L10.3 9.45l-7.72 7.72c-.78.78-.78 2.05 0 2.83L4 21.41c.39.39.9.59 1.41.59.51 0 1.02-.2 1.41-.59l7.78-7.78 2.81-2.81c.8-.78.8-2.07 0-2.86zM5.41 20L4 18.59l7.72-7.72 1.47 1.35L5.41 20z\"/>\n",
              "  </svg>\n",
              "      </button>\n",
              "      \n",
              "  <style>\n",
              "    .colab-df-container {\n",
              "      display:flex;\n",
              "      flex-wrap:wrap;\n",
              "      gap: 12px;\n",
              "    }\n",
              "\n",
              "    .colab-df-convert {\n",
              "      background-color: #E8F0FE;\n",
              "      border: none;\n",
              "      border-radius: 50%;\n",
              "      cursor: pointer;\n",
              "      display: none;\n",
              "      fill: #1967D2;\n",
              "      height: 32px;\n",
              "      padding: 0 0 0 0;\n",
              "      width: 32px;\n",
              "    }\n",
              "\n",
              "    .colab-df-convert:hover {\n",
              "      background-color: #E2EBFA;\n",
              "      box-shadow: 0px 1px 2px rgba(60, 64, 67, 0.3), 0px 1px 3px 1px rgba(60, 64, 67, 0.15);\n",
              "      fill: #174EA6;\n",
              "    }\n",
              "\n",
              "    [theme=dark] .colab-df-convert {\n",
              "      background-color: #3B4455;\n",
              "      fill: #D2E3FC;\n",
              "    }\n",
              "\n",
              "    [theme=dark] .colab-df-convert:hover {\n",
              "      background-color: #434B5C;\n",
              "      box-shadow: 0px 1px 3px 1px rgba(0, 0, 0, 0.15);\n",
              "      filter: drop-shadow(0px 1px 2px rgba(0, 0, 0, 0.3));\n",
              "      fill: #FFFFFF;\n",
              "    }\n",
              "  </style>\n",
              "\n",
              "      <script>\n",
              "        const buttonEl =\n",
              "          document.querySelector('#df-bfb9329c-e275-4002-a7db-8e08f1b0a0ea button.colab-df-convert');\n",
              "        buttonEl.style.display =\n",
              "          google.colab.kernel.accessAllowed ? 'block' : 'none';\n",
              "\n",
              "        async function convertToInteractive(key) {\n",
              "          const element = document.querySelector('#df-bfb9329c-e275-4002-a7db-8e08f1b0a0ea');\n",
              "          const dataTable =\n",
              "            await google.colab.kernel.invokeFunction('convertToInteractive',\n",
              "                                                     [key], {});\n",
              "          if (!dataTable) return;\n",
              "\n",
              "          const docLinkHtml = 'Like what you see? Visit the ' +\n",
              "            '<a target=\"_blank\" href=https://colab.research.google.com/notebooks/data_table.ipynb>data table notebook</a>'\n",
              "            + ' to learn more about interactive tables.';\n",
              "          element.innerHTML = '';\n",
              "          dataTable['output_type'] = 'display_data';\n",
              "          await google.colab.output.renderOutput(dataTable, element);\n",
              "          const docLink = document.createElement('div');\n",
              "          docLink.innerHTML = docLinkHtml;\n",
              "          element.appendChild(docLink);\n",
              "        }\n",
              "      </script>\n",
              "    </div>\n",
              "  </div>\n",
              "  "
            ]
          },
          "metadata": {},
          "execution_count": 105
        }
      ],
      "source": [
        "pd.crosstab(bank['marital'], bank['Target'], normalize='index').sort_values(by='yes',ascending=False )"
      ]
    },
    {
      "cell_type": "code",
      "execution_count": null,
      "metadata": {
        "execution": {
          "iopub.execute_input": "2020-08-30T10:36:02.840378Z",
          "iopub.status.busy": "2020-08-30T10:36:02.839584Z",
          "iopub.status.idle": "2020-08-30T10:36:02.868655Z",
          "shell.execute_reply": "2020-08-30T10:36:02.868012Z"
        },
        "papermill": {
          "duration": 0.075414,
          "end_time": "2020-08-30T10:36:02.868791",
          "exception": false,
          "start_time": "2020-08-30T10:36:02.793377",
          "status": "completed"
        },
        "tags": [],
        "id": "Hlzx5HWDRZM3",
        "outputId": "07661f4f-ade8-4450-b572-7e212d39f535",
        "colab": {
          "base_uri": "https://localhost:8080/",
          "height": 206
        }
      },
      "outputs": [
        {
          "output_type": "execute_result",
          "data": {
            "text/plain": [
              "Target           no       yes\n",
              "education                    \n",
              "tertiary   0.849936  0.150064\n",
              "unknown    0.864297  0.135703\n",
              "secondary  0.894397  0.105603\n",
              "primary    0.913723  0.086277"
            ],
            "text/html": [
              "\n",
              "  <div id=\"df-5bdf8f46-7f00-45bc-9597-3fa409ae662e\">\n",
              "    <div class=\"colab-df-container\">\n",
              "      <div>\n",
              "<style scoped>\n",
              "    .dataframe tbody tr th:only-of-type {\n",
              "        vertical-align: middle;\n",
              "    }\n",
              "\n",
              "    .dataframe tbody tr th {\n",
              "        vertical-align: top;\n",
              "    }\n",
              "\n",
              "    .dataframe thead th {\n",
              "        text-align: right;\n",
              "    }\n",
              "</style>\n",
              "<table border=\"1\" class=\"dataframe\">\n",
              "  <thead>\n",
              "    <tr style=\"text-align: right;\">\n",
              "      <th>Target</th>\n",
              "      <th>no</th>\n",
              "      <th>yes</th>\n",
              "    </tr>\n",
              "    <tr>\n",
              "      <th>education</th>\n",
              "      <th></th>\n",
              "      <th></th>\n",
              "    </tr>\n",
              "  </thead>\n",
              "  <tbody>\n",
              "    <tr>\n",
              "      <th>tertiary</th>\n",
              "      <td>0.849936</td>\n",
              "      <td>0.150064</td>\n",
              "    </tr>\n",
              "    <tr>\n",
              "      <th>unknown</th>\n",
              "      <td>0.864297</td>\n",
              "      <td>0.135703</td>\n",
              "    </tr>\n",
              "    <tr>\n",
              "      <th>secondary</th>\n",
              "      <td>0.894397</td>\n",
              "      <td>0.105603</td>\n",
              "    </tr>\n",
              "    <tr>\n",
              "      <th>primary</th>\n",
              "      <td>0.913723</td>\n",
              "      <td>0.086277</td>\n",
              "    </tr>\n",
              "  </tbody>\n",
              "</table>\n",
              "</div>\n",
              "      <button class=\"colab-df-convert\" onclick=\"convertToInteractive('df-5bdf8f46-7f00-45bc-9597-3fa409ae662e')\"\n",
              "              title=\"Convert this dataframe to an interactive table.\"\n",
              "              style=\"display:none;\">\n",
              "        \n",
              "  <svg xmlns=\"http://www.w3.org/2000/svg\" height=\"24px\"viewBox=\"0 0 24 24\"\n",
              "       width=\"24px\">\n",
              "    <path d=\"M0 0h24v24H0V0z\" fill=\"none\"/>\n",
              "    <path d=\"M18.56 5.44l.94 2.06.94-2.06 2.06-.94-2.06-.94-.94-2.06-.94 2.06-2.06.94zm-11 1L8.5 8.5l.94-2.06 2.06-.94-2.06-.94L8.5 2.5l-.94 2.06-2.06.94zm10 10l.94 2.06.94-2.06 2.06-.94-2.06-.94-.94-2.06-.94 2.06-2.06.94z\"/><path d=\"M17.41 7.96l-1.37-1.37c-.4-.4-.92-.59-1.43-.59-.52 0-1.04.2-1.43.59L10.3 9.45l-7.72 7.72c-.78.78-.78 2.05 0 2.83L4 21.41c.39.39.9.59 1.41.59.51 0 1.02-.2 1.41-.59l7.78-7.78 2.81-2.81c.8-.78.8-2.07 0-2.86zM5.41 20L4 18.59l7.72-7.72 1.47 1.35L5.41 20z\"/>\n",
              "  </svg>\n",
              "      </button>\n",
              "      \n",
              "  <style>\n",
              "    .colab-df-container {\n",
              "      display:flex;\n",
              "      flex-wrap:wrap;\n",
              "      gap: 12px;\n",
              "    }\n",
              "\n",
              "    .colab-df-convert {\n",
              "      background-color: #E8F0FE;\n",
              "      border: none;\n",
              "      border-radius: 50%;\n",
              "      cursor: pointer;\n",
              "      display: none;\n",
              "      fill: #1967D2;\n",
              "      height: 32px;\n",
              "      padding: 0 0 0 0;\n",
              "      width: 32px;\n",
              "    }\n",
              "\n",
              "    .colab-df-convert:hover {\n",
              "      background-color: #E2EBFA;\n",
              "      box-shadow: 0px 1px 2px rgba(60, 64, 67, 0.3), 0px 1px 3px 1px rgba(60, 64, 67, 0.15);\n",
              "      fill: #174EA6;\n",
              "    }\n",
              "\n",
              "    [theme=dark] .colab-df-convert {\n",
              "      background-color: #3B4455;\n",
              "      fill: #D2E3FC;\n",
              "    }\n",
              "\n",
              "    [theme=dark] .colab-df-convert:hover {\n",
              "      background-color: #434B5C;\n",
              "      box-shadow: 0px 1px 3px 1px rgba(0, 0, 0, 0.15);\n",
              "      filter: drop-shadow(0px 1px 2px rgba(0, 0, 0, 0.3));\n",
              "      fill: #FFFFFF;\n",
              "    }\n",
              "  </style>\n",
              "\n",
              "      <script>\n",
              "        const buttonEl =\n",
              "          document.querySelector('#df-5bdf8f46-7f00-45bc-9597-3fa409ae662e button.colab-df-convert');\n",
              "        buttonEl.style.display =\n",
              "          google.colab.kernel.accessAllowed ? 'block' : 'none';\n",
              "\n",
              "        async function convertToInteractive(key) {\n",
              "          const element = document.querySelector('#df-5bdf8f46-7f00-45bc-9597-3fa409ae662e');\n",
              "          const dataTable =\n",
              "            await google.colab.kernel.invokeFunction('convertToInteractive',\n",
              "                                                     [key], {});\n",
              "          if (!dataTable) return;\n",
              "\n",
              "          const docLinkHtml = 'Like what you see? Visit the ' +\n",
              "            '<a target=\"_blank\" href=https://colab.research.google.com/notebooks/data_table.ipynb>data table notebook</a>'\n",
              "            + ' to learn more about interactive tables.';\n",
              "          element.innerHTML = '';\n",
              "          dataTable['output_type'] = 'display_data';\n",
              "          await google.colab.output.renderOutput(dataTable, element);\n",
              "          const docLink = document.createElement('div');\n",
              "          docLink.innerHTML = docLinkHtml;\n",
              "          element.appendChild(docLink);\n",
              "        }\n",
              "      </script>\n",
              "    </div>\n",
              "  </div>\n",
              "  "
            ]
          },
          "metadata": {},
          "execution_count": 106
        }
      ],
      "source": [
        "pd.crosstab(bank['education'], bank['Target'], normalize='index').sort_values(by='yes',ascending=False )"
      ]
    },
    {
      "cell_type": "code",
      "execution_count": null,
      "metadata": {
        "execution": {
          "iopub.execute_input": "2020-08-30T10:36:02.951318Z",
          "iopub.status.busy": "2020-08-30T10:36:02.946444Z",
          "iopub.status.idle": "2020-08-30T10:36:02.990908Z",
          "shell.execute_reply": "2020-08-30T10:36:02.990172Z"
        },
        "papermill": {
          "duration": 0.087396,
          "end_time": "2020-08-30T10:36:02.991040",
          "exception": false,
          "start_time": "2020-08-30T10:36:02.903644",
          "status": "completed"
        },
        "tags": [],
        "id": "tX7_5pyORZM4",
        "outputId": "cfbb8962-db8c-419d-b537-d9329154c580",
        "colab": {
          "base_uri": "https://localhost:8080/"
        }
      },
      "outputs": [
        {
          "output_type": "stream",
          "name": "stdout",
          "text": [
            "Target         no       yes\n",
            "default                    \n",
            "no       0.882031  0.117969\n",
            "yes      0.936196  0.063804\n",
            "no     0.981972\n",
            "yes    0.018028\n",
            "Name: default, dtype: float64\n"
          ]
        }
      ],
      "source": [
        "print(pd.crosstab(bank['default'], bank['Target'], normalize='index').sort_values(by='yes',ascending=False ))\n",
        "print(bank['default'].value_counts(normalize=True))"
      ]
    },
    {
      "cell_type": "code",
      "execution_count": null,
      "metadata": {
        "execution": {
          "iopub.execute_input": "2020-08-30T10:36:03.073451Z",
          "iopub.status.busy": "2020-08-30T10:36:03.068219Z",
          "iopub.status.idle": "2020-08-30T10:36:03.101435Z",
          "shell.execute_reply": "2020-08-30T10:36:03.101962Z"
        },
        "papermill": {
          "duration": 0.076046,
          "end_time": "2020-08-30T10:36:03.102133",
          "exception": false,
          "start_time": "2020-08-30T10:36:03.026087",
          "status": "completed"
        },
        "tags": [],
        "id": "f_PsHj99RZM5",
        "outputId": "d9d1df3b-6ce1-4770-955e-a44aebba3a6f",
        "colab": {
          "base_uri": "https://localhost:8080/",
          "height": 143
        }
      },
      "outputs": [
        {
          "output_type": "execute_result",
          "data": {
            "text/plain": [
              "Target         no       yes\n",
              "housing                    \n",
              "no       0.832968  0.167032\n",
              "yes      0.922994  0.077006"
            ],
            "text/html": [
              "\n",
              "  <div id=\"df-c69d2e2d-9a39-4e94-8259-c5268cacd5c1\">\n",
              "    <div class=\"colab-df-container\">\n",
              "      <div>\n",
              "<style scoped>\n",
              "    .dataframe tbody tr th:only-of-type {\n",
              "        vertical-align: middle;\n",
              "    }\n",
              "\n",
              "    .dataframe tbody tr th {\n",
              "        vertical-align: top;\n",
              "    }\n",
              "\n",
              "    .dataframe thead th {\n",
              "        text-align: right;\n",
              "    }\n",
              "</style>\n",
              "<table border=\"1\" class=\"dataframe\">\n",
              "  <thead>\n",
              "    <tr style=\"text-align: right;\">\n",
              "      <th>Target</th>\n",
              "      <th>no</th>\n",
              "      <th>yes</th>\n",
              "    </tr>\n",
              "    <tr>\n",
              "      <th>housing</th>\n",
              "      <th></th>\n",
              "      <th></th>\n",
              "    </tr>\n",
              "  </thead>\n",
              "  <tbody>\n",
              "    <tr>\n",
              "      <th>no</th>\n",
              "      <td>0.832968</td>\n",
              "      <td>0.167032</td>\n",
              "    </tr>\n",
              "    <tr>\n",
              "      <th>yes</th>\n",
              "      <td>0.922994</td>\n",
              "      <td>0.077006</td>\n",
              "    </tr>\n",
              "  </tbody>\n",
              "</table>\n",
              "</div>\n",
              "      <button class=\"colab-df-convert\" onclick=\"convertToInteractive('df-c69d2e2d-9a39-4e94-8259-c5268cacd5c1')\"\n",
              "              title=\"Convert this dataframe to an interactive table.\"\n",
              "              style=\"display:none;\">\n",
              "        \n",
              "  <svg xmlns=\"http://www.w3.org/2000/svg\" height=\"24px\"viewBox=\"0 0 24 24\"\n",
              "       width=\"24px\">\n",
              "    <path d=\"M0 0h24v24H0V0z\" fill=\"none\"/>\n",
              "    <path d=\"M18.56 5.44l.94 2.06.94-2.06 2.06-.94-2.06-.94-.94-2.06-.94 2.06-2.06.94zm-11 1L8.5 8.5l.94-2.06 2.06-.94-2.06-.94L8.5 2.5l-.94 2.06-2.06.94zm10 10l.94 2.06.94-2.06 2.06-.94-2.06-.94-.94-2.06-.94 2.06-2.06.94z\"/><path d=\"M17.41 7.96l-1.37-1.37c-.4-.4-.92-.59-1.43-.59-.52 0-1.04.2-1.43.59L10.3 9.45l-7.72 7.72c-.78.78-.78 2.05 0 2.83L4 21.41c.39.39.9.59 1.41.59.51 0 1.02-.2 1.41-.59l7.78-7.78 2.81-2.81c.8-.78.8-2.07 0-2.86zM5.41 20L4 18.59l7.72-7.72 1.47 1.35L5.41 20z\"/>\n",
              "  </svg>\n",
              "      </button>\n",
              "      \n",
              "  <style>\n",
              "    .colab-df-container {\n",
              "      display:flex;\n",
              "      flex-wrap:wrap;\n",
              "      gap: 12px;\n",
              "    }\n",
              "\n",
              "    .colab-df-convert {\n",
              "      background-color: #E8F0FE;\n",
              "      border: none;\n",
              "      border-radius: 50%;\n",
              "      cursor: pointer;\n",
              "      display: none;\n",
              "      fill: #1967D2;\n",
              "      height: 32px;\n",
              "      padding: 0 0 0 0;\n",
              "      width: 32px;\n",
              "    }\n",
              "\n",
              "    .colab-df-convert:hover {\n",
              "      background-color: #E2EBFA;\n",
              "      box-shadow: 0px 1px 2px rgba(60, 64, 67, 0.3), 0px 1px 3px 1px rgba(60, 64, 67, 0.15);\n",
              "      fill: #174EA6;\n",
              "    }\n",
              "\n",
              "    [theme=dark] .colab-df-convert {\n",
              "      background-color: #3B4455;\n",
              "      fill: #D2E3FC;\n",
              "    }\n",
              "\n",
              "    [theme=dark] .colab-df-convert:hover {\n",
              "      background-color: #434B5C;\n",
              "      box-shadow: 0px 1px 3px 1px rgba(0, 0, 0, 0.15);\n",
              "      filter: drop-shadow(0px 1px 2px rgba(0, 0, 0, 0.3));\n",
              "      fill: #FFFFFF;\n",
              "    }\n",
              "  </style>\n",
              "\n",
              "      <script>\n",
              "        const buttonEl =\n",
              "          document.querySelector('#df-c69d2e2d-9a39-4e94-8259-c5268cacd5c1 button.colab-df-convert');\n",
              "        buttonEl.style.display =\n",
              "          google.colab.kernel.accessAllowed ? 'block' : 'none';\n",
              "\n",
              "        async function convertToInteractive(key) {\n",
              "          const element = document.querySelector('#df-c69d2e2d-9a39-4e94-8259-c5268cacd5c1');\n",
              "          const dataTable =\n",
              "            await google.colab.kernel.invokeFunction('convertToInteractive',\n",
              "                                                     [key], {});\n",
              "          if (!dataTable) return;\n",
              "\n",
              "          const docLinkHtml = 'Like what you see? Visit the ' +\n",
              "            '<a target=\"_blank\" href=https://colab.research.google.com/notebooks/data_table.ipynb>data table notebook</a>'\n",
              "            + ' to learn more about interactive tables.';\n",
              "          element.innerHTML = '';\n",
              "          dataTable['output_type'] = 'display_data';\n",
              "          await google.colab.output.renderOutput(dataTable, element);\n",
              "          const docLink = document.createElement('div');\n",
              "          docLink.innerHTML = docLinkHtml;\n",
              "          element.appendChild(docLink);\n",
              "        }\n",
              "      </script>\n",
              "    </div>\n",
              "  </div>\n",
              "  "
            ]
          },
          "metadata": {},
          "execution_count": 108
        }
      ],
      "source": [
        "pd.crosstab(bank['housing'], bank['Target'], normalize='index').sort_values(by='yes',ascending=False )"
      ]
    },
    {
      "cell_type": "code",
      "execution_count": null,
      "metadata": {
        "execution": {
          "iopub.execute_input": "2020-08-30T10:36:03.184461Z",
          "iopub.status.busy": "2020-08-30T10:36:03.179596Z",
          "iopub.status.idle": "2020-08-30T10:36:03.213048Z",
          "shell.execute_reply": "2020-08-30T10:36:03.212300Z"
        },
        "papermill": {
          "duration": 0.075715,
          "end_time": "2020-08-30T10:36:03.213172",
          "exception": false,
          "start_time": "2020-08-30T10:36:03.137457",
          "status": "completed"
        },
        "tags": [],
        "id": "pjg_0xCsRZM5",
        "outputId": "4d85e94c-956e-42c9-b668-8ef16eb6e66b",
        "colab": {
          "base_uri": "https://localhost:8080/",
          "height": 143
        }
      },
      "outputs": [
        {
          "output_type": "execute_result",
          "data": {
            "text/plain": [
              "Target        no       yes\n",
              "loan                      \n",
              "no      0.873436  0.126564\n",
              "yes     0.933177  0.066823"
            ],
            "text/html": [
              "\n",
              "  <div id=\"df-fb194d65-5c6f-422c-848d-33587644510f\">\n",
              "    <div class=\"colab-df-container\">\n",
              "      <div>\n",
              "<style scoped>\n",
              "    .dataframe tbody tr th:only-of-type {\n",
              "        vertical-align: middle;\n",
              "    }\n",
              "\n",
              "    .dataframe tbody tr th {\n",
              "        vertical-align: top;\n",
              "    }\n",
              "\n",
              "    .dataframe thead th {\n",
              "        text-align: right;\n",
              "    }\n",
              "</style>\n",
              "<table border=\"1\" class=\"dataframe\">\n",
              "  <thead>\n",
              "    <tr style=\"text-align: right;\">\n",
              "      <th>Target</th>\n",
              "      <th>no</th>\n",
              "      <th>yes</th>\n",
              "    </tr>\n",
              "    <tr>\n",
              "      <th>loan</th>\n",
              "      <th></th>\n",
              "      <th></th>\n",
              "    </tr>\n",
              "  </thead>\n",
              "  <tbody>\n",
              "    <tr>\n",
              "      <th>no</th>\n",
              "      <td>0.873436</td>\n",
              "      <td>0.126564</td>\n",
              "    </tr>\n",
              "    <tr>\n",
              "      <th>yes</th>\n",
              "      <td>0.933177</td>\n",
              "      <td>0.066823</td>\n",
              "    </tr>\n",
              "  </tbody>\n",
              "</table>\n",
              "</div>\n",
              "      <button class=\"colab-df-convert\" onclick=\"convertToInteractive('df-fb194d65-5c6f-422c-848d-33587644510f')\"\n",
              "              title=\"Convert this dataframe to an interactive table.\"\n",
              "              style=\"display:none;\">\n",
              "        \n",
              "  <svg xmlns=\"http://www.w3.org/2000/svg\" height=\"24px\"viewBox=\"0 0 24 24\"\n",
              "       width=\"24px\">\n",
              "    <path d=\"M0 0h24v24H0V0z\" fill=\"none\"/>\n",
              "    <path d=\"M18.56 5.44l.94 2.06.94-2.06 2.06-.94-2.06-.94-.94-2.06-.94 2.06-2.06.94zm-11 1L8.5 8.5l.94-2.06 2.06-.94-2.06-.94L8.5 2.5l-.94 2.06-2.06.94zm10 10l.94 2.06.94-2.06 2.06-.94-2.06-.94-.94-2.06-.94 2.06-2.06.94z\"/><path d=\"M17.41 7.96l-1.37-1.37c-.4-.4-.92-.59-1.43-.59-.52 0-1.04.2-1.43.59L10.3 9.45l-7.72 7.72c-.78.78-.78 2.05 0 2.83L4 21.41c.39.39.9.59 1.41.59.51 0 1.02-.2 1.41-.59l7.78-7.78 2.81-2.81c.8-.78.8-2.07 0-2.86zM5.41 20L4 18.59l7.72-7.72 1.47 1.35L5.41 20z\"/>\n",
              "  </svg>\n",
              "      </button>\n",
              "      \n",
              "  <style>\n",
              "    .colab-df-container {\n",
              "      display:flex;\n",
              "      flex-wrap:wrap;\n",
              "      gap: 12px;\n",
              "    }\n",
              "\n",
              "    .colab-df-convert {\n",
              "      background-color: #E8F0FE;\n",
              "      border: none;\n",
              "      border-radius: 50%;\n",
              "      cursor: pointer;\n",
              "      display: none;\n",
              "      fill: #1967D2;\n",
              "      height: 32px;\n",
              "      padding: 0 0 0 0;\n",
              "      width: 32px;\n",
              "    }\n",
              "\n",
              "    .colab-df-convert:hover {\n",
              "      background-color: #E2EBFA;\n",
              "      box-shadow: 0px 1px 2px rgba(60, 64, 67, 0.3), 0px 1px 3px 1px rgba(60, 64, 67, 0.15);\n",
              "      fill: #174EA6;\n",
              "    }\n",
              "\n",
              "    [theme=dark] .colab-df-convert {\n",
              "      background-color: #3B4455;\n",
              "      fill: #D2E3FC;\n",
              "    }\n",
              "\n",
              "    [theme=dark] .colab-df-convert:hover {\n",
              "      background-color: #434B5C;\n",
              "      box-shadow: 0px 1px 3px 1px rgba(0, 0, 0, 0.15);\n",
              "      filter: drop-shadow(0px 1px 2px rgba(0, 0, 0, 0.3));\n",
              "      fill: #FFFFFF;\n",
              "    }\n",
              "  </style>\n",
              "\n",
              "      <script>\n",
              "        const buttonEl =\n",
              "          document.querySelector('#df-fb194d65-5c6f-422c-848d-33587644510f button.colab-df-convert');\n",
              "        buttonEl.style.display =\n",
              "          google.colab.kernel.accessAllowed ? 'block' : 'none';\n",
              "\n",
              "        async function convertToInteractive(key) {\n",
              "          const element = document.querySelector('#df-fb194d65-5c6f-422c-848d-33587644510f');\n",
              "          const dataTable =\n",
              "            await google.colab.kernel.invokeFunction('convertToInteractive',\n",
              "                                                     [key], {});\n",
              "          if (!dataTable) return;\n",
              "\n",
              "          const docLinkHtml = 'Like what you see? Visit the ' +\n",
              "            '<a target=\"_blank\" href=https://colab.research.google.com/notebooks/data_table.ipynb>data table notebook</a>'\n",
              "            + ' to learn more about interactive tables.';\n",
              "          element.innerHTML = '';\n",
              "          dataTable['output_type'] = 'display_data';\n",
              "          await google.colab.output.renderOutput(dataTable, element);\n",
              "          const docLink = document.createElement('div');\n",
              "          docLink.innerHTML = docLinkHtml;\n",
              "          element.appendChild(docLink);\n",
              "        }\n",
              "      </script>\n",
              "    </div>\n",
              "  </div>\n",
              "  "
            ]
          },
          "metadata": {},
          "execution_count": 109
        }
      ],
      "source": [
        "pd.crosstab(bank['loan'], bank['Target'], normalize='index').sort_values(by='yes',ascending=False )"
      ]
    },
    {
      "cell_type": "code",
      "execution_count": null,
      "metadata": {
        "execution": {
          "iopub.execute_input": "2020-08-30T10:36:03.298391Z",
          "iopub.status.busy": "2020-08-30T10:36:03.293426Z",
          "iopub.status.idle": "2020-08-30T10:36:03.328072Z",
          "shell.execute_reply": "2020-08-30T10:36:03.327486Z"
        },
        "papermill": {
          "duration": 0.078688,
          "end_time": "2020-08-30T10:36:03.328230",
          "exception": false,
          "start_time": "2020-08-30T10:36:03.249542",
          "status": "completed"
        },
        "tags": [],
        "id": "TAdEq_pARZM6",
        "outputId": "55ecdb93-3e13-45b1-ad47-689eb31d0c67",
        "colab": {
          "base_uri": "https://localhost:8080/",
          "height": 175
        }
      },
      "outputs": [
        {
          "output_type": "execute_result",
          "data": {
            "text/plain": [
              "Target           no       yes\n",
              "contact                      \n",
              "cellular   0.850801  0.149199\n",
              "telephone  0.865795  0.134205\n",
              "unknown    0.959290  0.040710"
            ],
            "text/html": [
              "\n",
              "  <div id=\"df-92bda318-149d-4f75-a86b-b7a9ce6c4ccc\">\n",
              "    <div class=\"colab-df-container\">\n",
              "      <div>\n",
              "<style scoped>\n",
              "    .dataframe tbody tr th:only-of-type {\n",
              "        vertical-align: middle;\n",
              "    }\n",
              "\n",
              "    .dataframe tbody tr th {\n",
              "        vertical-align: top;\n",
              "    }\n",
              "\n",
              "    .dataframe thead th {\n",
              "        text-align: right;\n",
              "    }\n",
              "</style>\n",
              "<table border=\"1\" class=\"dataframe\">\n",
              "  <thead>\n",
              "    <tr style=\"text-align: right;\">\n",
              "      <th>Target</th>\n",
              "      <th>no</th>\n",
              "      <th>yes</th>\n",
              "    </tr>\n",
              "    <tr>\n",
              "      <th>contact</th>\n",
              "      <th></th>\n",
              "      <th></th>\n",
              "    </tr>\n",
              "  </thead>\n",
              "  <tbody>\n",
              "    <tr>\n",
              "      <th>cellular</th>\n",
              "      <td>0.850801</td>\n",
              "      <td>0.149199</td>\n",
              "    </tr>\n",
              "    <tr>\n",
              "      <th>telephone</th>\n",
              "      <td>0.865795</td>\n",
              "      <td>0.134205</td>\n",
              "    </tr>\n",
              "    <tr>\n",
              "      <th>unknown</th>\n",
              "      <td>0.959290</td>\n",
              "      <td>0.040710</td>\n",
              "    </tr>\n",
              "  </tbody>\n",
              "</table>\n",
              "</div>\n",
              "      <button class=\"colab-df-convert\" onclick=\"convertToInteractive('df-92bda318-149d-4f75-a86b-b7a9ce6c4ccc')\"\n",
              "              title=\"Convert this dataframe to an interactive table.\"\n",
              "              style=\"display:none;\">\n",
              "        \n",
              "  <svg xmlns=\"http://www.w3.org/2000/svg\" height=\"24px\"viewBox=\"0 0 24 24\"\n",
              "       width=\"24px\">\n",
              "    <path d=\"M0 0h24v24H0V0z\" fill=\"none\"/>\n",
              "    <path d=\"M18.56 5.44l.94 2.06.94-2.06 2.06-.94-2.06-.94-.94-2.06-.94 2.06-2.06.94zm-11 1L8.5 8.5l.94-2.06 2.06-.94-2.06-.94L8.5 2.5l-.94 2.06-2.06.94zm10 10l.94 2.06.94-2.06 2.06-.94-2.06-.94-.94-2.06-.94 2.06-2.06.94z\"/><path d=\"M17.41 7.96l-1.37-1.37c-.4-.4-.92-.59-1.43-.59-.52 0-1.04.2-1.43.59L10.3 9.45l-7.72 7.72c-.78.78-.78 2.05 0 2.83L4 21.41c.39.39.9.59 1.41.59.51 0 1.02-.2 1.41-.59l7.78-7.78 2.81-2.81c.8-.78.8-2.07 0-2.86zM5.41 20L4 18.59l7.72-7.72 1.47 1.35L5.41 20z\"/>\n",
              "  </svg>\n",
              "      </button>\n",
              "      \n",
              "  <style>\n",
              "    .colab-df-container {\n",
              "      display:flex;\n",
              "      flex-wrap:wrap;\n",
              "      gap: 12px;\n",
              "    }\n",
              "\n",
              "    .colab-df-convert {\n",
              "      background-color: #E8F0FE;\n",
              "      border: none;\n",
              "      border-radius: 50%;\n",
              "      cursor: pointer;\n",
              "      display: none;\n",
              "      fill: #1967D2;\n",
              "      height: 32px;\n",
              "      padding: 0 0 0 0;\n",
              "      width: 32px;\n",
              "    }\n",
              "\n",
              "    .colab-df-convert:hover {\n",
              "      background-color: #E2EBFA;\n",
              "      box-shadow: 0px 1px 2px rgba(60, 64, 67, 0.3), 0px 1px 3px 1px rgba(60, 64, 67, 0.15);\n",
              "      fill: #174EA6;\n",
              "    }\n",
              "\n",
              "    [theme=dark] .colab-df-convert {\n",
              "      background-color: #3B4455;\n",
              "      fill: #D2E3FC;\n",
              "    }\n",
              "\n",
              "    [theme=dark] .colab-df-convert:hover {\n",
              "      background-color: #434B5C;\n",
              "      box-shadow: 0px 1px 3px 1px rgba(0, 0, 0, 0.15);\n",
              "      filter: drop-shadow(0px 1px 2px rgba(0, 0, 0, 0.3));\n",
              "      fill: #FFFFFF;\n",
              "    }\n",
              "  </style>\n",
              "\n",
              "      <script>\n",
              "        const buttonEl =\n",
              "          document.querySelector('#df-92bda318-149d-4f75-a86b-b7a9ce6c4ccc button.colab-df-convert');\n",
              "        buttonEl.style.display =\n",
              "          google.colab.kernel.accessAllowed ? 'block' : 'none';\n",
              "\n",
              "        async function convertToInteractive(key) {\n",
              "          const element = document.querySelector('#df-92bda318-149d-4f75-a86b-b7a9ce6c4ccc');\n",
              "          const dataTable =\n",
              "            await google.colab.kernel.invokeFunction('convertToInteractive',\n",
              "                                                     [key], {});\n",
              "          if (!dataTable) return;\n",
              "\n",
              "          const docLinkHtml = 'Like what you see? Visit the ' +\n",
              "            '<a target=\"_blank\" href=https://colab.research.google.com/notebooks/data_table.ipynb>data table notebook</a>'\n",
              "            + ' to learn more about interactive tables.';\n",
              "          element.innerHTML = '';\n",
              "          dataTable['output_type'] = 'display_data';\n",
              "          await google.colab.output.renderOutput(dataTable, element);\n",
              "          const docLink = document.createElement('div');\n",
              "          docLink.innerHTML = docLinkHtml;\n",
              "          element.appendChild(docLink);\n",
              "        }\n",
              "      </script>\n",
              "    </div>\n",
              "  </div>\n",
              "  "
            ]
          },
          "metadata": {},
          "execution_count": 110
        }
      ],
      "source": [
        "pd.crosstab(bank['contact'], bank['Target'], normalize='index').sort_values(by='yes',ascending=False )"
      ]
    },
    {
      "cell_type": "code",
      "execution_count": null,
      "metadata": {
        "execution": {
          "iopub.execute_input": "2020-08-30T10:36:03.414492Z",
          "iopub.status.busy": "2020-08-30T10:36:03.413706Z",
          "iopub.status.idle": "2020-08-30T10:36:03.446384Z",
          "shell.execute_reply": "2020-08-30T10:36:03.445582Z"
        },
        "papermill": {
          "duration": 0.078831,
          "end_time": "2020-08-30T10:36:03.446526",
          "exception": false,
          "start_time": "2020-08-30T10:36:03.367695",
          "status": "completed"
        },
        "tags": [],
        "id": "GrAhVHPLRZM6",
        "outputId": "915e3672-f6bf-41e1-8fc4-6521320098d8",
        "colab": {
          "base_uri": "https://localhost:8080/",
          "height": 457
        }
      },
      "outputs": [
        {
          "output_type": "execute_result",
          "data": {
            "text/plain": [
              "Target        no       yes\n",
              "month                     \n",
              "mar     0.480084  0.519916\n",
              "dec     0.532710  0.467290\n",
              "sep     0.535406  0.464594\n",
              "oct     0.562331  0.437669\n",
              "apr     0.803206  0.196794\n",
              "feb     0.833522  0.166478\n",
              "aug     0.889850  0.110150\n",
              "jun     0.897772  0.102228\n",
              "nov     0.898489  0.101511\n",
              "jan     0.898788  0.101212\n",
              "jul     0.909065  0.090935\n",
              "may     0.932796  0.067204"
            ],
            "text/html": [
              "\n",
              "  <div id=\"df-93c3e5d1-1bbe-4b80-b370-2dce5c3bca9e\">\n",
              "    <div class=\"colab-df-container\">\n",
              "      <div>\n",
              "<style scoped>\n",
              "    .dataframe tbody tr th:only-of-type {\n",
              "        vertical-align: middle;\n",
              "    }\n",
              "\n",
              "    .dataframe tbody tr th {\n",
              "        vertical-align: top;\n",
              "    }\n",
              "\n",
              "    .dataframe thead th {\n",
              "        text-align: right;\n",
              "    }\n",
              "</style>\n",
              "<table border=\"1\" class=\"dataframe\">\n",
              "  <thead>\n",
              "    <tr style=\"text-align: right;\">\n",
              "      <th>Target</th>\n",
              "      <th>no</th>\n",
              "      <th>yes</th>\n",
              "    </tr>\n",
              "    <tr>\n",
              "      <th>month</th>\n",
              "      <th></th>\n",
              "      <th></th>\n",
              "    </tr>\n",
              "  </thead>\n",
              "  <tbody>\n",
              "    <tr>\n",
              "      <th>mar</th>\n",
              "      <td>0.480084</td>\n",
              "      <td>0.519916</td>\n",
              "    </tr>\n",
              "    <tr>\n",
              "      <th>dec</th>\n",
              "      <td>0.532710</td>\n",
              "      <td>0.467290</td>\n",
              "    </tr>\n",
              "    <tr>\n",
              "      <th>sep</th>\n",
              "      <td>0.535406</td>\n",
              "      <td>0.464594</td>\n",
              "    </tr>\n",
              "    <tr>\n",
              "      <th>oct</th>\n",
              "      <td>0.562331</td>\n",
              "      <td>0.437669</td>\n",
              "    </tr>\n",
              "    <tr>\n",
              "      <th>apr</th>\n",
              "      <td>0.803206</td>\n",
              "      <td>0.196794</td>\n",
              "    </tr>\n",
              "    <tr>\n",
              "      <th>feb</th>\n",
              "      <td>0.833522</td>\n",
              "      <td>0.166478</td>\n",
              "    </tr>\n",
              "    <tr>\n",
              "      <th>aug</th>\n",
              "      <td>0.889850</td>\n",
              "      <td>0.110150</td>\n",
              "    </tr>\n",
              "    <tr>\n",
              "      <th>jun</th>\n",
              "      <td>0.897772</td>\n",
              "      <td>0.102228</td>\n",
              "    </tr>\n",
              "    <tr>\n",
              "      <th>nov</th>\n",
              "      <td>0.898489</td>\n",
              "      <td>0.101511</td>\n",
              "    </tr>\n",
              "    <tr>\n",
              "      <th>jan</th>\n",
              "      <td>0.898788</td>\n",
              "      <td>0.101212</td>\n",
              "    </tr>\n",
              "    <tr>\n",
              "      <th>jul</th>\n",
              "      <td>0.909065</td>\n",
              "      <td>0.090935</td>\n",
              "    </tr>\n",
              "    <tr>\n",
              "      <th>may</th>\n",
              "      <td>0.932796</td>\n",
              "      <td>0.067204</td>\n",
              "    </tr>\n",
              "  </tbody>\n",
              "</table>\n",
              "</div>\n",
              "      <button class=\"colab-df-convert\" onclick=\"convertToInteractive('df-93c3e5d1-1bbe-4b80-b370-2dce5c3bca9e')\"\n",
              "              title=\"Convert this dataframe to an interactive table.\"\n",
              "              style=\"display:none;\">\n",
              "        \n",
              "  <svg xmlns=\"http://www.w3.org/2000/svg\" height=\"24px\"viewBox=\"0 0 24 24\"\n",
              "       width=\"24px\">\n",
              "    <path d=\"M0 0h24v24H0V0z\" fill=\"none\"/>\n",
              "    <path d=\"M18.56 5.44l.94 2.06.94-2.06 2.06-.94-2.06-.94-.94-2.06-.94 2.06-2.06.94zm-11 1L8.5 8.5l.94-2.06 2.06-.94-2.06-.94L8.5 2.5l-.94 2.06-2.06.94zm10 10l.94 2.06.94-2.06 2.06-.94-2.06-.94-.94-2.06-.94 2.06-2.06.94z\"/><path d=\"M17.41 7.96l-1.37-1.37c-.4-.4-.92-.59-1.43-.59-.52 0-1.04.2-1.43.59L10.3 9.45l-7.72 7.72c-.78.78-.78 2.05 0 2.83L4 21.41c.39.39.9.59 1.41.59.51 0 1.02-.2 1.41-.59l7.78-7.78 2.81-2.81c.8-.78.8-2.07 0-2.86zM5.41 20L4 18.59l7.72-7.72 1.47 1.35L5.41 20z\"/>\n",
              "  </svg>\n",
              "      </button>\n",
              "      \n",
              "  <style>\n",
              "    .colab-df-container {\n",
              "      display:flex;\n",
              "      flex-wrap:wrap;\n",
              "      gap: 12px;\n",
              "    }\n",
              "\n",
              "    .colab-df-convert {\n",
              "      background-color: #E8F0FE;\n",
              "      border: none;\n",
              "      border-radius: 50%;\n",
              "      cursor: pointer;\n",
              "      display: none;\n",
              "      fill: #1967D2;\n",
              "      height: 32px;\n",
              "      padding: 0 0 0 0;\n",
              "      width: 32px;\n",
              "    }\n",
              "\n",
              "    .colab-df-convert:hover {\n",
              "      background-color: #E2EBFA;\n",
              "      box-shadow: 0px 1px 2px rgba(60, 64, 67, 0.3), 0px 1px 3px 1px rgba(60, 64, 67, 0.15);\n",
              "      fill: #174EA6;\n",
              "    }\n",
              "\n",
              "    [theme=dark] .colab-df-convert {\n",
              "      background-color: #3B4455;\n",
              "      fill: #D2E3FC;\n",
              "    }\n",
              "\n",
              "    [theme=dark] .colab-df-convert:hover {\n",
              "      background-color: #434B5C;\n",
              "      box-shadow: 0px 1px 3px 1px rgba(0, 0, 0, 0.15);\n",
              "      filter: drop-shadow(0px 1px 2px rgba(0, 0, 0, 0.3));\n",
              "      fill: #FFFFFF;\n",
              "    }\n",
              "  </style>\n",
              "\n",
              "      <script>\n",
              "        const buttonEl =\n",
              "          document.querySelector('#df-93c3e5d1-1bbe-4b80-b370-2dce5c3bca9e button.colab-df-convert');\n",
              "        buttonEl.style.display =\n",
              "          google.colab.kernel.accessAllowed ? 'block' : 'none';\n",
              "\n",
              "        async function convertToInteractive(key) {\n",
              "          const element = document.querySelector('#df-93c3e5d1-1bbe-4b80-b370-2dce5c3bca9e');\n",
              "          const dataTable =\n",
              "            await google.colab.kernel.invokeFunction('convertToInteractive',\n",
              "                                                     [key], {});\n",
              "          if (!dataTable) return;\n",
              "\n",
              "          const docLinkHtml = 'Like what you see? Visit the ' +\n",
              "            '<a target=\"_blank\" href=https://colab.research.google.com/notebooks/data_table.ipynb>data table notebook</a>'\n",
              "            + ' to learn more about interactive tables.';\n",
              "          element.innerHTML = '';\n",
              "          dataTable['output_type'] = 'display_data';\n",
              "          await google.colab.output.renderOutput(dataTable, element);\n",
              "          const docLink = document.createElement('div');\n",
              "          docLink.innerHTML = docLinkHtml;\n",
              "          element.appendChild(docLink);\n",
              "        }\n",
              "      </script>\n",
              "    </div>\n",
              "  </div>\n",
              "  "
            ]
          },
          "metadata": {},
          "execution_count": 111
        }
      ],
      "source": [
        "pd.crosstab(bank['month'], bank['Target'], normalize='index').sort_values(by='yes',ascending=False )"
      ]
    },
    {
      "cell_type": "markdown",
      "metadata": {
        "papermill": {
          "duration": 0.036264,
          "end_time": "2020-08-30T10:36:03.519422",
          "exception": false,
          "start_time": "2020-08-30T10:36:03.483158",
          "status": "completed"
        },
        "tags": [],
        "id": "uLKmRWK_RZM7"
      },
      "source": [
        "### Listing out the high level findings from bivariate analysis that could provide pointers to feature selection\n"
      ]
    },
    {
      "cell_type": "code",
      "execution_count": null,
      "metadata": {
        "execution": {
          "iopub.execute_input": "2020-08-30T10:36:03.601615Z",
          "iopub.status.busy": "2020-08-30T10:36:03.600546Z",
          "iopub.status.idle": "2020-08-30T10:36:03.604051Z",
          "shell.execute_reply": "2020-08-30T10:36:03.603296Z"
        },
        "papermill": {
          "duration": 0.048288,
          "end_time": "2020-08-30T10:36:03.604182",
          "exception": false,
          "start_time": "2020-08-30T10:36:03.555894",
          "status": "completed"
        },
        "tags": [],
        "id": "BD9p_PiNRZM7"
      },
      "outputs": [],
      "source": [
        "#Binning:\n",
        "def binning(col, cut_points, labels=None):\n",
        "  #Define min and max values:\n",
        "  minval = col.min()\n",
        "  maxval = col.max()\n",
        "\n",
        "  #create list by adding min and max to cut_points\n",
        "  break_points = [minval] + cut_points + [maxval]\n",
        "\n",
        "  #if no labels provided, use default labels 0 ... (n-1)\n",
        "  if not labels:\n",
        "    labels = range(len(cut_points)+1)\n",
        "\n",
        "  #Binning using cut function of pandas\n",
        "  colBin = pd.cut(col,bins=break_points,labels=labels,include_lowest=True)\n",
        "  return colBin"
      ]
    },
    {
      "cell_type": "code",
      "execution_count": null,
      "metadata": {
        "execution": {
          "iopub.execute_input": "2020-08-30T10:36:03.684352Z",
          "iopub.status.busy": "2020-08-30T10:36:03.683412Z",
          "iopub.status.idle": "2020-08-30T10:36:03.696003Z",
          "shell.execute_reply": "2020-08-30T10:36:03.696557Z"
        },
        "papermill": {
          "duration": 0.056052,
          "end_time": "2020-08-30T10:36:03.696725",
          "exception": false,
          "start_time": "2020-08-30T10:36:03.640673",
          "status": "completed"
        },
        "tags": [],
        "id": "cbfvCrtRRZM8",
        "outputId": "a9c6c559-486f-4b27-d4a2-ab47bca6853d",
        "colab": {
          "base_uri": "https://localhost:8080/"
        }
      },
      "outputs": [
        {
          "output_type": "execute_result",
          "data": {
            "text/plain": [
              "<=2    30048\n",
              ">4      6118\n",
              "3       5521\n",
              "4       3521\n",
              "Name: campaign_range, dtype: int64"
            ]
          },
          "metadata": {},
          "execution_count": 113
        }
      ],
      "source": [
        "#Binning campaign\n",
        "cut_points = [2,3,4]\n",
        "labels = [\"<=2\",\"3\",\"4\",\">4\"]\n",
        "bank['campaign_range'] = binning(bank['campaign'], cut_points, labels)\n",
        "bank['campaign_range'].value_counts()"
      ]
    },
    {
      "cell_type": "code",
      "execution_count": null,
      "metadata": {
        "execution": {
          "iopub.execute_input": "2020-08-30T10:36:03.777802Z",
          "iopub.status.busy": "2020-08-30T10:36:03.776998Z",
          "iopub.status.idle": "2020-08-30T10:36:03.790110Z",
          "shell.execute_reply": "2020-08-30T10:36:03.789401Z"
        },
        "papermill": {
          "duration": 0.057102,
          "end_time": "2020-08-30T10:36:03.790256",
          "exception": false,
          "start_time": "2020-08-30T10:36:03.733154",
          "status": "completed"
        },
        "tags": [],
        "id": "LSySj342RZM8",
        "outputId": "b6564a90-4c1e-4761-8cfc-d5894054cf9a",
        "colab": {
          "base_uri": "https://localhost:8080/"
        }
      },
      "outputs": [
        {
          "output_type": "execute_result",
          "data": {
            "text/plain": [
              "Index(['age', 'job', 'marital', 'education', 'default', 'balance', 'housing',\n",
              "       'loan', 'contact', 'day', 'month', 'duration', 'pdays', 'previous',\n",
              "       'poutcome', 'Target', 'campaign_range'],\n",
              "      dtype='object')"
            ]
          },
          "metadata": {},
          "execution_count": 114
        }
      ],
      "source": [
        "bank.drop(['campaign'], axis=1, inplace=True)\n",
        "bank.columns"
      ]
    },
    {
      "cell_type": "code",
      "execution_count": null,
      "metadata": {
        "execution": {
          "iopub.execute_input": "2020-08-30T10:36:03.874894Z",
          "iopub.status.busy": "2020-08-30T10:36:03.874106Z",
          "iopub.status.idle": "2020-08-30T10:36:03.886879Z",
          "shell.execute_reply": "2020-08-30T10:36:03.886105Z"
        },
        "papermill": {
          "duration": 0.059956,
          "end_time": "2020-08-30T10:36:03.887009",
          "exception": false,
          "start_time": "2020-08-30T10:36:03.827053",
          "status": "completed"
        },
        "tags": [],
        "id": "QTKuLaW5RZM9"
      },
      "outputs": [],
      "source": [
        "#function to creat group of ages, this helps because we have 78 differente values here\n",
        "def age(dataframe):\n",
        "    dataframe.loc[dataframe['age'] <= 32, 'age'] = 1\n",
        "    dataframe.loc[(dataframe['age'] > 32) & (dataframe['age'] <= 47), 'age'] = 2\n",
        "    dataframe.loc[(dataframe['age'] > 47) & (dataframe['age'] <= 70), 'age'] = 3\n",
        "    dataframe.loc[(dataframe['age'] > 70) & (dataframe['age'] <= 98), 'age'] = 4\n",
        "           \n",
        "    return dataframe\n",
        "\n",
        "age(bank);"
      ]
    },
    {
      "cell_type": "code",
      "execution_count": null,
      "metadata": {
        "execution": {
          "iopub.execute_input": "2020-08-30T10:36:03.971408Z",
          "iopub.status.busy": "2020-08-30T10:36:03.970535Z",
          "iopub.status.idle": "2020-08-30T10:36:03.985141Z",
          "shell.execute_reply": "2020-08-30T10:36:03.984513Z"
        },
        "papermill": {
          "duration": 0.061703,
          "end_time": "2020-08-30T10:36:03.985293",
          "exception": false,
          "start_time": "2020-08-30T10:36:03.923590",
          "status": "completed"
        },
        "tags": [],
        "id": "hkk-uXuURZM9"
      },
      "outputs": [],
      "source": [
        "def duration(data):\n",
        "\n",
        "    data.loc[data['duration'] <= 102, 'duration'] = 1\n",
        "    data.loc[(data['duration'] > 102) & (data['duration'] <= 180)  , 'duration']    = 2\n",
        "    data.loc[(data['duration'] > 180) & (data['duration'] <= 319)  , 'duration']   = 3\n",
        "    data.loc[(data['duration'] > 319) & (data['duration'] <= 644.5), 'duration'] = 4\n",
        "    data.loc[data['duration']  > 644.5, 'duration'] = 5\n",
        "\n",
        "    return data\n",
        "duration(bank);"
      ]
    },
    {
      "cell_type": "markdown",
      "metadata": {
        "papermill": {
          "duration": 0.037086,
          "end_time": "2020-08-30T10:36:04.059312",
          "exception": false,
          "start_time": "2020-08-30T10:36:04.022226",
          "status": "completed"
        },
        "tags": [],
        "id": "XvLgRfGNRZM-"
      },
      "source": [
        "#### Split data into train/test"
      ]
    },
    {
      "cell_type": "code",
      "execution_count": null,
      "metadata": {
        "execution": {
          "iopub.execute_input": "2020-08-30T10:36:04.151740Z",
          "iopub.status.busy": "2020-08-30T10:36:04.150555Z",
          "iopub.status.idle": "2020-08-30T10:36:04.262094Z",
          "shell.execute_reply": "2020-08-30T10:36:04.261458Z"
        },
        "papermill": {
          "duration": 0.165459,
          "end_time": "2020-08-30T10:36:04.262235",
          "exception": false,
          "start_time": "2020-08-30T10:36:04.096776",
          "status": "completed"
        },
        "tags": [],
        "id": "IBlqk6TKRZNB"
      },
      "outputs": [],
      "source": [
        "X = bank.drop(\"Target\" , axis=1)\n",
        "y = bank[\"Target\"]   # select all rows and the 17 th column which is the classification \"Yes\", \"No\"\n",
        "X = pd.get_dummies(X,drop_first=True)\n",
        "y=y.replace(['yes','no'],[1,0])"
      ]
    },
    {
      "cell_type": "code",
      "execution_count": null,
      "metadata": {
        "execution": {
          "iopub.execute_input": "2020-08-30T10:36:04.348176Z",
          "iopub.status.busy": "2020-08-30T10:36:04.346998Z",
          "iopub.status.idle": "2020-08-30T10:36:04.359540Z",
          "shell.execute_reply": "2020-08-30T10:36:04.358917Z"
        },
        "papermill": {
          "duration": 0.059753,
          "end_time": "2020-08-30T10:36:04.359672",
          "exception": false,
          "start_time": "2020-08-30T10:36:04.299919",
          "status": "completed"
        },
        "tags": [],
        "id": "SekRdeM9RZNB"
      },
      "outputs": [],
      "source": [
        "test_size = 0.30 # taking 70:30 training and test set\n",
        "X_train, X_test, y_train, y_test = train_test_split(X, y, test_size=test_size)\n",
        "k_fold = KFold(n_splits=10, shuffle=True, random_state=7)"
      ]
    },
    {
      "cell_type": "markdown",
      "metadata": {
        "papermill": {
          "duration": 0.037584,
          "end_time": "2020-08-30T10:36:04.434020",
          "exception": false,
          "start_time": "2020-08-30T10:36:04.396436",
          "status": "completed"
        },
        "tags": [],
        "id": "b5REg61nRZNC"
      },
      "source": [
        "#### Applying multiple models by fitting train data"
      ]
    },
    {
      "cell_type": "markdown",
      "metadata": {
        "papermill": {
          "duration": 0.036469,
          "end_time": "2020-08-30T10:36:04.507930",
          "exception": false,
          "start_time": "2020-08-30T10:36:04.471461",
          "status": "completed"
        },
        "tags": [],
        "id": "7IMeii4vRZNC"
      },
      "source": [
        "#### Decision Tree Classifier"
      ]
    },
    {
      "cell_type": "code",
      "execution_count": null,
      "metadata": {
        "_uuid": "daf78aefbfa4ff3a231b7cbbccbbfc0b2dafe009",
        "execution": {
          "iopub.execute_input": "2020-08-30T10:36:04.593877Z",
          "iopub.status.busy": "2020-08-30T10:36:04.593089Z",
          "iopub.status.idle": "2020-08-30T10:36:05.141142Z",
          "shell.execute_reply": "2020-08-30T10:36:05.140481Z"
        },
        "papermill": {
          "duration": 0.595741,
          "end_time": "2020-08-30T10:36:05.141308",
          "exception": false,
          "start_time": "2020-08-30T10:36:04.545567",
          "status": "completed"
        },
        "tags": [],
        "id": "fQ4eC011RZND",
        "outputId": "22d4abc9-52bf-4462-d936-1b2d9a0e6a9d",
        "colab": {
          "base_uri": "https://localhost:8080/",
          "height": 352
        }
      },
      "outputs": [
        {
          "output_type": "stream",
          "name": "stdout",
          "text": [
            "[[11081   927]\n",
            " [  836   719]]\n",
            "87.0\n"
          ]
        },
        {
          "output_type": "execute_result",
          "data": {
            "text/plain": [
              "Text(0.5, 1.0, 'DecisionTreeClassifier')"
            ]
          },
          "metadata": {},
          "execution_count": 133
        },
        {
          "output_type": "display_data",
          "data": {
            "text/plain": [
              "<Figure size 432x288 with 2 Axes>"
            ],
            "image/png": "[encoded data removed]"
          },
          "metadata": {
            "needs_background": "light"
          }
        }
      ],
      "source": [
        "dtree = DecisionTreeClassifier(criterion='gini',random_state=1) #criterion = entopy, gini\n",
        "dtree.fit(X_train, y_train)\n",
        "dtreepred = dtree.predict(X_test)\n",
        "\n",
        "cm=confusion_matrix(y_test, dtreepred)\n",
        "print(cm)\n",
        "print(round(accuracy_score(y_test, dtreepred),2)*100)\n",
        "sns.heatmap(cm,annot=True,fmt='g',yticklabels=['actual 0','actual 1'],xticklabels=['predict 0','predict 1'])\n",
        "plt.title(\"DecisionTreeClassifier\", fontsize =15)"
      ]
    },
    {
      "cell_type": "code",
      "execution_count": null,
      "metadata": {
        "execution": {
          "iopub.execute_input": "2020-08-30T10:36:05.408621Z",
          "iopub.status.busy": "2020-08-30T10:36:05.407808Z",
          "iopub.status.idle": "2020-08-30T10:36:08.365524Z",
          "shell.execute_reply": "2020-08-30T10:36:08.366089Z"
        },
        "papermill": {
          "duration": 3.187441,
          "end_time": "2020-08-30T10:36:08.366277",
          "exception": false,
          "start_time": "2020-08-30T10:36:05.178836",
          "status": "completed"
        },
        "tags": [],
        "id": "hlsDEXdNRZND"
      },
      "outputs": [],
      "source": [
        "#classification Metrics\n",
        "DTREECV = (cross_val_score(dtree, X_train, y_train, cv=k_fold, n_jobs=1, scoring = 'accuracy').mean())\n",
        "DTREECV_Recall=recall_score(y_test, dtreepred)\n",
        "DTREECV_F1=f1_score(y_test, dtreepred)\n",
        "DTREECV_Pre=precision_score(y_test,dtreepred)"
      ]
    },
    {
      "cell_type": "markdown",
      "metadata": {
        "papermill": {
          "duration": 0.036968,
          "end_time": "2020-08-30T10:36:08.441931",
          "exception": false,
          "start_time": "2020-08-30T10:36:08.404963",
          "status": "completed"
        },
        "tags": [],
        "id": "QHi_MMk3RZNE"
      },
      "source": [
        "#### Random Forest classifier"
      ]
    },
    {
      "cell_type": "code",
      "execution_count": null,
      "metadata": {
        "_uuid": "88b0d3a151db09c2c49f3eaf8a0327555e32d66b",
        "execution": {
          "iopub.execute_input": "2020-08-30T10:36:08.527865Z",
          "iopub.status.busy": "2020-08-30T10:36:08.527084Z",
          "iopub.status.idle": "2020-08-30T10:36:18.408228Z",
          "shell.execute_reply": "2020-08-30T10:36:18.407613Z"
        },
        "papermill": {
          "duration": 9.92904,
          "end_time": "2020-08-30T10:36:18.408371",
          "exception": false,
          "start_time": "2020-08-30T10:36:08.479331",
          "status": "completed"
        },
        "tags": [],
        "id": "OyAelrM0RZNE",
        "outputId": "851b8db5-0f8a-4aff-d192-3bf2d115f04b",
        "colab": {
          "base_uri": "https://localhost:8080/",
          "height": 352
        }
      },
      "outputs": [
        {
          "output_type": "stream",
          "name": "stdout",
          "text": [
            "[[11648   360]\n",
            " [  960   595]]\n",
            "90.0\n"
          ]
        },
        {
          "output_type": "execute_result",
          "data": {
            "text/plain": [
              "Text(0.5, 1.0, 'RandomForestClassifier')"
            ]
          },
          "metadata": {},
          "execution_count": 134
        },
        {
          "output_type": "display_data",
          "data": {
            "text/plain": [
              "<Figure size 432x288 with 2 Axes>"
            ],
            "image/png": "[encoded data removed]"
          },
          "metadata": {
            "needs_background": "light"
          }
        }
      ],
      "source": [
        "rfc = RandomForestClassifier(n_estimators = 200)\n",
        "rfc.fit(X_train, y_train)\n",
        "rfcpred = rfc.predict(X_test)\n",
        "cm=confusion_matrix(y_test, rfcpred )\n",
        "print(cm)\n",
        "print(round(accuracy_score(y_test, rfcpred),2)*100)\n",
        "sns.heatmap(cm,annot=True,fmt='g',yticklabels=['actual 0','actual 1'],xticklabels=['predict 0','predict 1'])\n",
        "plt.title(\"RandomForestClassifier\", fontsize =15)"
      ]
    },
    {
      "cell_type": "code",
      "execution_count": null,
      "metadata": {
        "execution": {
          "iopub.execute_input": "2020-08-30T10:36:18.491653Z",
          "iopub.status.busy": "2020-08-30T10:36:18.490853Z",
          "iopub.status.idle": "2020-08-30T10:37:39.360150Z",
          "shell.execute_reply": "2020-08-30T10:37:39.359339Z"
        },
        "papermill": {
          "duration": 80.913977,
          "end_time": "2020-08-30T10:37:39.360307",
          "exception": false,
          "start_time": "2020-08-30T10:36:18.446330",
          "status": "completed"
        },
        "tags": [],
        "id": "nzrdYSccRZNE"
      },
      "outputs": [],
      "source": [
        "#classification Metrics\n",
        "RFCCV_Recall=recall_score(y_test, rfcpred)\n",
        "RFCCV_Pre=precision_score(y_test, rfcpred)\n",
        "RFCCV_F1=f1_score(y_test, rfcpred)\n",
        "RFCCV = (cross_val_score(rfc, X_train, y_train, cv=k_fold, n_jobs=1, scoring = 'accuracy').mean())"
      ]
    },
    {
      "cell_type": "markdown",
      "metadata": {
        "papermill": {
          "duration": 0.037797,
          "end_time": "2020-08-30T10:37:39.437480",
          "exception": false,
          "start_time": "2020-08-30T10:37:39.399683",
          "status": "completed"
        },
        "tags": [],
        "id": "gC9RixPVRZNF"
      },
      "source": [
        "#### Ensemble Learning - Bagging"
      ]
    },
    {
      "cell_type": "code",
      "execution_count": null,
      "metadata": {
        "execution": {
          "iopub.execute_input": "2020-08-30T10:37:39.522967Z",
          "iopub.status.busy": "2020-08-30T10:37:39.522180Z",
          "iopub.status.idle": "2020-08-30T10:38:22.196294Z",
          "shell.execute_reply": "2020-08-30T10:38:22.195591Z"
        },
        "papermill": {
          "duration": 42.720718,
          "end_time": "2020-08-30T10:38:22.196426",
          "exception": false,
          "start_time": "2020-08-30T10:37:39.475708",
          "status": "completed"
        },
        "tags": [],
        "id": "j4xbEqIORZNF"
      },
      "outputs": [],
      "source": [
        "bgcl = BaggingClassifier(base_estimator=dtree, n_estimators=200,random_state=5)\n",
        "bgcl = bgcl.fit(X_train, y_train)"
      ]
    },
    {
      "cell_type": "code",
      "execution_count": null,
      "metadata": {
        "execution": {
          "iopub.execute_input": "2020-08-30T10:38:22.284025Z",
          "iopub.status.busy": "2020-08-30T10:38:22.283141Z",
          "iopub.status.idle": "2020-08-30T10:38:24.164296Z",
          "shell.execute_reply": "2020-08-30T10:38:24.163621Z"
        },
        "papermill": {
          "duration": 1.929948,
          "end_time": "2020-08-30T10:38:24.164428",
          "exception": false,
          "start_time": "2020-08-30T10:38:22.234480",
          "status": "completed"
        },
        "tags": [],
        "id": "CYn6PPTJRZNG",
        "outputId": "6a1dd03a-6f92-45ab-8d8a-753f3e0ce2e9",
        "colab": {
          "base_uri": "https://localhost:8080/",
          "height": 370
        }
      },
      "outputs": [
        {
          "output_type": "stream",
          "name": "stdout",
          "text": [
            "0.9017179090171791\n",
            "Accuracy score is  90.0\n",
            "[[11524   484]\n",
            " [  849   706]]\n"
          ]
        },
        {
          "output_type": "execute_result",
          "data": {
            "text/plain": [
              "Text(0.5, 1.0, 'BaggingClassifier')"
            ]
          },
          "metadata": {},
          "execution_count": 137
        },
        {
          "output_type": "display_data",
          "data": {
            "text/plain": [
              "<Figure size 432x288 with 2 Axes>"
            ],
            "image/png": "[encoded data removed]"
          },
          "metadata": {
            "needs_background": "light"
          }
        }
      ],
      "source": [
        "y_predict = bgcl.predict(X_test)\n",
        "print(bgcl.score(X_test , y_test))\n",
        "print(\"Accuracy score is \",round(accuracy_score(y_test, rfcpred),2)*100)\n",
        "cm=confusion_matrix(y_test, y_predict)\n",
        "print(cm)\n",
        "sns.heatmap(cm,annot=True,fmt='g',yticklabels=['actual 0','actual 1'],xticklabels=['predict 0','predict 1'])\n",
        "plt.title(\"BaggingClassifier\", fontsize =15)"
      ]
    },
    {
      "cell_type": "code",
      "execution_count": null,
      "metadata": {
        "execution": {
          "iopub.execute_input": "2020-08-30T10:38:24.251369Z",
          "iopub.status.busy": "2020-08-30T10:38:24.250284Z",
          "iopub.status.idle": "2020-08-30T10:44:43.777463Z",
          "shell.execute_reply": "2020-08-30T10:44:43.776601Z"
        },
        "papermill": {
          "duration": 379.573697,
          "end_time": "2020-08-30T10:44:43.777599",
          "exception": false,
          "start_time": "2020-08-30T10:38:24.203902",
          "status": "completed"
        },
        "tags": [],
        "id": "ibp0FuddRZNH"
      },
      "outputs": [],
      "source": [
        "#classification Metrics\n",
        "BAGCV= (cross_val_score(bgcl, X_train, y_train, cv=k_fold, n_jobs=1, scoring = 'accuracy').mean())\n",
        "BAGCV_Recall=recall_score(y_test, y_predict)\n",
        "BAGCV_Pre=precision_score(y_test, y_predict)\n",
        "BAGCV_F1=f1_score(y_test, y_predict)"
      ]
    },
    {
      "cell_type": "markdown",
      "metadata": {
        "papermill": {
          "duration": 0.04124,
          "end_time": "2020-08-30T10:45:55.595016",
          "exception": false,
          "start_time": "2020-08-30T10:45:55.553776",
          "status": "completed"
        },
        "tags": [],
        "id": "6D3IuDh7RZNK"
      },
      "source": [
        "#### Ensemble Learning - GradientBoost"
      ]
    },
    {
      "cell_type": "code",
      "execution_count": null,
      "metadata": {
        "_uuid": "f302a28083e20ad3998be7177029c621359407ab",
        "execution": {
          "iopub.execute_input": "2020-08-30T10:45:55.693476Z",
          "iopub.status.busy": "2020-08-30T10:45:55.692337Z",
          "iopub.status.idle": "2020-08-30T10:46:01.037981Z",
          "shell.execute_reply": "2020-08-30T10:46:01.037216Z"
        },
        "papermill": {
          "duration": 5.396607,
          "end_time": "2020-08-30T10:46:01.038107",
          "exception": false,
          "start_time": "2020-08-30T10:45:55.641500",
          "status": "completed"
        },
        "tags": [],
        "id": "a-UadDxNRZNL",
        "outputId": "251a36f3-857d-485c-c088-93bc7a2cf27f",
        "colab": {
          "base_uri": "https://localhost:8080/",
          "height": 352
        }
      },
      "outputs": [
        {
          "output_type": "stream",
          "name": "stdout",
          "text": [
            "[[11664   344]\n",
            " [  960   595]]\n",
            "90.0\n"
          ]
        },
        {
          "output_type": "execute_result",
          "data": {
            "text/plain": [
              "Text(0.5, 1.0, 'GradientBoostingClassifier')"
            ]
          },
          "metadata": {},
          "execution_count": 138
        },
        {
          "output_type": "display_data",
          "data": {
            "text/plain": [
              "<Figure size 432x288 with 2 Axes>"
            ],
            "image/png": "[encoded data removed]"
          },
          "metadata": {
            "needs_background": "light"
          }
        }
      ],
      "source": [
        "gbk = GradientBoostingClassifier()\n",
        "gbk.fit(X_train, y_train)\n",
        "gbkpred = gbk.predict(X_test)\n",
        "cm=confusion_matrix(y_test, gbkpred )\n",
        "print(cm)\n",
        "print(round(accuracy_score(y_test, gbkpred),2)*100)\n",
        "sns.heatmap(cm,annot=True,fmt='g',yticklabels=['actual 0','actual 1'],xticklabels=['predict 0','predict 1'])\n",
        "plt.title(\"GradientBoostingClassifier\", fontsize =15)"
      ]
    },
    {
      "cell_type": "code",
      "execution_count": null,
      "metadata": {
        "execution": {
          "iopub.execute_input": "2020-08-30T10:46:01.127669Z",
          "iopub.status.busy": "2020-08-30T10:46:01.126563Z",
          "iopub.status.idle": "2020-08-30T10:46:46.377242Z",
          "shell.execute_reply": "2020-08-30T10:46:46.376561Z"
        },
        "papermill": {
          "duration": 45.298744,
          "end_time": "2020-08-30T10:46:46.377372",
          "exception": false,
          "start_time": "2020-08-30T10:46:01.078628",
          "status": "completed"
        },
        "tags": [],
        "id": "IccG6HlWRZNL"
      },
      "outputs": [],
      "source": [
        "#classification Metrics\n",
        "GBKCV = (cross_val_score(gbk, X_train, y_train, cv=k_fold, n_jobs=1, scoring = 'accuracy').mean())\n",
        "GBKCV_Recall=recall_score(y_test, gbkpred)\n",
        "GBKCV_Pre=precision_score(y_test, gbkpred)\n",
        "GBKCV_F1=f1_score(y_test, gbkpred)"
      ]
    },
    {
      "cell_type": "markdown",
      "metadata": {
        "papermill": {
          "duration": 0.039827,
          "end_time": "2020-08-30T10:46:46.458487",
          "exception": false,
          "start_time": "2020-08-30T10:46:46.418660",
          "status": "completed"
        },
        "tags": [],
        "id": "63_N8qlIRZNM"
      },
      "source": [
        "#### Lets Compare performances of all the models using multiple evaluation metrics for classification"
      ]
    },
    {
      "cell_type": "code",
      "execution_count": null,
      "metadata": {
        "execution": {
          "iopub.execute_input": "2020-08-30T10:46:46.654709Z",
          "iopub.status.busy": "2020-08-30T10:46:46.653587Z",
          "iopub.status.idle": "2020-08-30T10:46:46.658557Z",
          "shell.execute_reply": "2020-08-30T10:46:46.657838Z"
        },
        "papermill": {
          "duration": 0.058908,
          "end_time": "2020-08-30T10:46:46.658687",
          "exception": false,
          "start_time": "2020-08-30T10:46:46.599779",
          "status": "completed"
        },
        "tags": [],
        "id": "ReKMAJtuRZNN",
        "outputId": "023ffaaa-6171-474c-e835-c1e198833287",
        "colab": {
          "base_uri": "https://localhost:8080/",
          "height": 175
        }
      },
      "outputs": [
        {
          "output_type": "execute_result",
          "data": {
            "text/plain": [
              "                     Models     Score\n",
              "3         Gradient Boosting  0.644013\n",
              "0  Random Forest Classifier  0.630040\n",
              "2                   Bagging  0.591606\n",
              "1  Decision Tree Classifier  0.441392"
            ],
            "text/html": [
              "\n",
              "  <div id=\"df-47a15799-0b27-4570-b785-b95ccd6fd6e2\">\n",
              "    <div class=\"colab-df-container\">\n",
              "      <div>\n",
              "<style scoped>\n",
              "    .dataframe tbody tr th:only-of-type {\n",
              "        vertical-align: middle;\n",
              "    }\n",
              "\n",
              "    .dataframe tbody tr th {\n",
              "        vertical-align: top;\n",
              "    }\n",
              "\n",
              "    .dataframe thead th {\n",
              "        text-align: right;\n",
              "    }\n",
              "</style>\n",
              "<table border=\"1\" class=\"dataframe\">\n",
              "  <thead>\n",
              "    <tr style=\"text-align: right;\">\n",
              "      <th></th>\n",
              "      <th>Models</th>\n",
              "      <th>Score</th>\n",
              "    </tr>\n",
              "  </thead>\n",
              "  <tbody>\n",
              "    <tr>\n",
              "      <th>3</th>\n",
              "      <td>Gradient Boosting</td>\n",
              "      <td>0.644013</td>\n",
              "    </tr>\n",
              "    <tr>\n",
              "      <th>0</th>\n",
              "      <td>Random Forest Classifier</td>\n",
              "      <td>0.630040</td>\n",
              "    </tr>\n",
              "    <tr>\n",
              "      <th>2</th>\n",
              "      <td>Bagging</td>\n",
              "      <td>0.591606</td>\n",
              "    </tr>\n",
              "    <tr>\n",
              "      <th>1</th>\n",
              "      <td>Decision Tree Classifier</td>\n",
              "      <td>0.441392</td>\n",
              "    </tr>\n",
              "  </tbody>\n",
              "</table>\n",
              "</div>\n",
              "      <button class=\"colab-df-convert\" onclick=\"convertToInteractive('df-47a15799-0b27-4570-b785-b95ccd6fd6e2')\"\n",
              "              title=\"Convert this dataframe to an interactive table.\"\n",
              "              style=\"display:none;\">\n",
              "        \n",
              "  <svg xmlns=\"http://www.w3.org/2000/svg\" height=\"24px\"viewBox=\"0 0 24 24\"\n",
              "       width=\"24px\">\n",
              "    <path d=\"M0 0h24v24H0V0z\" fill=\"none\"/>\n",
              "    <path d=\"M18.56 5.44l.94 2.06.94-2.06 2.06-.94-2.06-.94-.94-2.06-.94 2.06-2.06.94zm-11 1L8.5 8.5l.94-2.06 2.06-.94-2.06-.94L8.5 2.5l-.94 2.06-2.06.94zm10 10l.94 2.06.94-2.06 2.06-.94-2.06-.94-.94-2.06-.94 2.06-2.06.94z\"/><path d=\"M17.41 7.96l-1.37-1.37c-.4-.4-.92-.59-1.43-.59-.52 0-1.04.2-1.43.59L10.3 9.45l-7.72 7.72c-.78.78-.78 2.05 0 2.83L4 21.41c.39.39.9.59 1.41.59.51 0 1.02-.2 1.41-.59l7.78-7.78 2.81-2.81c.8-.78.8-2.07 0-2.86zM5.41 20L4 18.59l7.72-7.72 1.47 1.35L5.41 20z\"/>\n",
              "  </svg>\n",
              "      </button>\n",
              "      \n",
              "  <style>\n",
              "    .colab-df-container {\n",
              "      display:flex;\n",
              "      flex-wrap:wrap;\n",
              "      gap: 12px;\n",
              "    }\n",
              "\n",
              "    .colab-df-convert {\n",
              "      background-color: #E8F0FE;\n",
              "      border: none;\n",
              "      border-radius: 50%;\n",
              "      cursor: pointer;\n",
              "      display: none;\n",
              "      fill: #1967D2;\n",
              "      height: 32px;\n",
              "      padding: 0 0 0 0;\n",
              "      width: 32px;\n",
              "    }\n",
              "\n",
              "    .colab-df-convert:hover {\n",
              "      background-color: #E2EBFA;\n",
              "      box-shadow: 0px 1px 2px rgba(60, 64, 67, 0.3), 0px 1px 3px 1px rgba(60, 64, 67, 0.15);\n",
              "      fill: #174EA6;\n",
              "    }\n",
              "\n",
              "    [theme=dark] .colab-df-convert {\n",
              "      background-color: #3B4455;\n",
              "      fill: #D2E3FC;\n",
              "    }\n",
              "\n",
              "    [theme=dark] .colab-df-convert:hover {\n",
              "      background-color: #434B5C;\n",
              "      box-shadow: 0px 1px 3px 1px rgba(0, 0, 0, 0.15);\n",
              "      filter: drop-shadow(0px 1px 2px rgba(0, 0, 0, 0.3));\n",
              "      fill: #FFFFFF;\n",
              "    }\n",
              "  </style>\n",
              "\n",
              "      <script>\n",
              "        const buttonEl =\n",
              "          document.querySelector('#df-47a15799-0b27-4570-b785-b95ccd6fd6e2 button.colab-df-convert');\n",
              "        buttonEl.style.display =\n",
              "          google.colab.kernel.accessAllowed ? 'block' : 'none';\n",
              "\n",
              "        async function convertToInteractive(key) {\n",
              "          const element = document.querySelector('#df-47a15799-0b27-4570-b785-b95ccd6fd6e2');\n",
              "          const dataTable =\n",
              "            await google.colab.kernel.invokeFunction('convertToInteractive',\n",
              "                                                     [key], {});\n",
              "          if (!dataTable) return;\n",
              "\n",
              "          const docLinkHtml = 'Like what you see? Visit the ' +\n",
              "            '<a target=\"_blank\" href=https://colab.research.google.com/notebooks/data_table.ipynb>data table notebook</a>'\n",
              "            + ' to learn more about interactive tables.';\n",
              "          element.innerHTML = '';\n",
              "          dataTable['output_type'] = 'display_data';\n",
              "          await google.colab.output.renderOutput(dataTable, element);\n",
              "          const docLink = document.createElement('div');\n",
              "          docLink.innerHTML = docLinkHtml;\n",
              "          element.appendChild(docLink);\n",
              "        }\n",
              "      </script>\n",
              "    </div>\n",
              "  </div>\n",
              "  "
            ]
          },
          "metadata": {},
          "execution_count": 128
        }
      ],
      "source": [
        "#Precision value scores\n",
        "models = pd.DataFrame({\n",
        "                'Models': ['Random Forest Classifier', 'Decision Tree Classifier','Bagging','Gradient Boosting'],\n",
        "                'Score':  [RFCCV_Pre, DTREECV_Pre,BAGCV_Pre ,GBKCV_Pre]})\n",
        "\n",
        "models.sort_values(by='Score', ascending=False)"
      ]
    },
    {
      "cell_type": "code",
      "execution_count": null,
      "metadata": {
        "execution": {
          "iopub.execute_input": "2020-08-30T10:46:46.755210Z",
          "iopub.status.busy": "2020-08-30T10:46:46.754149Z",
          "iopub.status.idle": "2020-08-30T10:46:46.759052Z",
          "shell.execute_reply": "2020-08-30T10:46:46.758458Z"
        },
        "papermill": {
          "duration": 0.059704,
          "end_time": "2020-08-30T10:46:46.759187",
          "exception": false,
          "start_time": "2020-08-30T10:46:46.699483",
          "status": "completed"
        },
        "tags": [],
        "id": "bTjMZnqARZNN",
        "outputId": "976e8d21-6a12-4d41-8d1f-319927e0acf5",
        "colab": {
          "base_uri": "https://localhost:8080/",
          "height": 175
        }
      },
      "outputs": [
        {
          "output_type": "execute_result",
          "data": {
            "text/plain": [
              "                     Models     Score\n",
              "2                   Bagging  0.526959\n",
              "0  Random Forest Classifier  0.493097\n",
              "3         Gradient Boosting  0.483401\n",
              "1  Decision Tree Classifier  0.454574"
            ],
            "text/html": [
              "\n",
              "  <div id=\"df-45d99e28-4556-40ad-818b-c6788a266ac1\">\n",
              "    <div class=\"colab-df-container\">\n",
              "      <div>\n",
              "<style scoped>\n",
              "    .dataframe tbody tr th:only-of-type {\n",
              "        vertical-align: middle;\n",
              "    }\n",
              "\n",
              "    .dataframe tbody tr th {\n",
              "        vertical-align: top;\n",
              "    }\n",
              "\n",
              "    .dataframe thead th {\n",
              "        text-align: right;\n",
              "    }\n",
              "</style>\n",
              "<table border=\"1\" class=\"dataframe\">\n",
              "  <thead>\n",
              "    <tr style=\"text-align: right;\">\n",
              "      <th></th>\n",
              "      <th>Models</th>\n",
              "      <th>Score</th>\n",
              "    </tr>\n",
              "  </thead>\n",
              "  <tbody>\n",
              "    <tr>\n",
              "      <th>2</th>\n",
              "      <td>Bagging</td>\n",
              "      <td>0.526959</td>\n",
              "    </tr>\n",
              "    <tr>\n",
              "      <th>0</th>\n",
              "      <td>Random Forest Classifier</td>\n",
              "      <td>0.493097</td>\n",
              "    </tr>\n",
              "    <tr>\n",
              "      <th>3</th>\n",
              "      <td>Gradient Boosting</td>\n",
              "      <td>0.483401</td>\n",
              "    </tr>\n",
              "    <tr>\n",
              "      <th>1</th>\n",
              "      <td>Decision Tree Classifier</td>\n",
              "      <td>0.454574</td>\n",
              "    </tr>\n",
              "  </tbody>\n",
              "</table>\n",
              "</div>\n",
              "      <button class=\"colab-df-convert\" onclick=\"convertToInteractive('df-45d99e28-4556-40ad-818b-c6788a266ac1')\"\n",
              "              title=\"Convert this dataframe to an interactive table.\"\n",
              "              style=\"display:none;\">\n",
              "        \n",
              "  <svg xmlns=\"http://www.w3.org/2000/svg\" height=\"24px\"viewBox=\"0 0 24 24\"\n",
              "       width=\"24px\">\n",
              "    <path d=\"M0 0h24v24H0V0z\" fill=\"none\"/>\n",
              "    <path d=\"M18.56 5.44l.94 2.06.94-2.06 2.06-.94-2.06-.94-.94-2.06-.94 2.06-2.06.94zm-11 1L8.5 8.5l.94-2.06 2.06-.94-2.06-.94L8.5 2.5l-.94 2.06-2.06.94zm10 10l.94 2.06.94-2.06 2.06-.94-2.06-.94-.94-2.06-.94 2.06-2.06.94z\"/><path d=\"M17.41 7.96l-1.37-1.37c-.4-.4-.92-.59-1.43-.59-.52 0-1.04.2-1.43.59L10.3 9.45l-7.72 7.72c-.78.78-.78 2.05 0 2.83L4 21.41c.39.39.9.59 1.41.59.51 0 1.02-.2 1.41-.59l7.78-7.78 2.81-2.81c.8-.78.8-2.07 0-2.86zM5.41 20L4 18.59l7.72-7.72 1.47 1.35L5.41 20z\"/>\n",
              "  </svg>\n",
              "      </button>\n",
              "      \n",
              "  <style>\n",
              "    .colab-df-container {\n",
              "      display:flex;\n",
              "      flex-wrap:wrap;\n",
              "      gap: 12px;\n",
              "    }\n",
              "\n",
              "    .colab-df-convert {\n",
              "      background-color: #E8F0FE;\n",
              "      border: none;\n",
              "      border-radius: 50%;\n",
              "      cursor: pointer;\n",
              "      display: none;\n",
              "      fill: #1967D2;\n",
              "      height: 32px;\n",
              "      padding: 0 0 0 0;\n",
              "      width: 32px;\n",
              "    }\n",
              "\n",
              "    .colab-df-convert:hover {\n",
              "      background-color: #E2EBFA;\n",
              "      box-shadow: 0px 1px 2px rgba(60, 64, 67, 0.3), 0px 1px 3px 1px rgba(60, 64, 67, 0.15);\n",
              "      fill: #174EA6;\n",
              "    }\n",
              "\n",
              "    [theme=dark] .colab-df-convert {\n",
              "      background-color: #3B4455;\n",
              "      fill: #D2E3FC;\n",
              "    }\n",
              "\n",
              "    [theme=dark] .colab-df-convert:hover {\n",
              "      background-color: #434B5C;\n",
              "      box-shadow: 0px 1px 3px 1px rgba(0, 0, 0, 0.15);\n",
              "      filter: drop-shadow(0px 1px 2px rgba(0, 0, 0, 0.3));\n",
              "      fill: #FFFFFF;\n",
              "    }\n",
              "  </style>\n",
              "\n",
              "      <script>\n",
              "        const buttonEl =\n",
              "          document.querySelector('#df-45d99e28-4556-40ad-818b-c6788a266ac1 button.colab-df-convert');\n",
              "        buttonEl.style.display =\n",
              "          google.colab.kernel.accessAllowed ? 'block' : 'none';\n",
              "\n",
              "        async function convertToInteractive(key) {\n",
              "          const element = document.querySelector('#df-45d99e28-4556-40ad-818b-c6788a266ac1');\n",
              "          const dataTable =\n",
              "            await google.colab.kernel.invokeFunction('convertToInteractive',\n",
              "                                                     [key], {});\n",
              "          if (!dataTable) return;\n",
              "\n",
              "          const docLinkHtml = 'Like what you see? Visit the ' +\n",
              "            '<a target=\"_blank\" href=https://colab.research.google.com/notebooks/data_table.ipynb>data table notebook</a>'\n",
              "            + ' to learn more about interactive tables.';\n",
              "          element.innerHTML = '';\n",
              "          dataTable['output_type'] = 'display_data';\n",
              "          await google.colab.output.renderOutput(dataTable, element);\n",
              "          const docLink = document.createElement('div');\n",
              "          docLink.innerHTML = docLinkHtml;\n",
              "          element.appendChild(docLink);\n",
              "        }\n",
              "      </script>\n",
              "    </div>\n",
              "  </div>\n",
              "  "
            ]
          },
          "metadata": {},
          "execution_count": 129
        }
      ],
      "source": [
        "#F1 Scores\n",
        "models = pd.DataFrame({\n",
        "                'Models': ['Random Forest Classifier', 'Decision Tree Classifier','Bagging','Gradient Boosting'],\n",
        "                'Score':  [RFCCV_F1, DTREECV_F1,BAGCV_F1 ,GBKCV_F1]})\n",
        "\n",
        "models.sort_values(by='Score', ascending=False)"
      ]
    },
    {
      "cell_type": "code",
      "execution_count": null,
      "metadata": {
        "execution": {
          "iopub.execute_input": "2020-08-30T10:46:46.855534Z",
          "iopub.status.busy": "2020-08-30T10:46:46.854676Z",
          "iopub.status.idle": "2020-08-30T10:46:46.860093Z",
          "shell.execute_reply": "2020-08-30T10:46:46.859466Z"
        },
        "papermill": {
          "duration": 0.060348,
          "end_time": "2020-08-30T10:46:46.860274",
          "exception": false,
          "start_time": "2020-08-30T10:46:46.799926",
          "status": "completed"
        },
        "tags": [],
        "id": "fzGqkiCpRZNO",
        "outputId": "85c4053c-4dc3-452e-b257-1270215bc155",
        "colab": {
          "base_uri": "https://localhost:8080/",
          "height": 175
        }
      },
      "outputs": [
        {
          "output_type": "execute_result",
          "data": {
            "text/plain": [
              "                     Models     Score\n",
              "2                   Bagging  0.475049\n",
              "1  Decision Tree Classifier  0.468568\n",
              "0  Random Forest Classifier  0.405055\n",
              "3         Gradient Boosting  0.386909"
            ],
            "text/html": [
              "\n",
              "  <div id=\"df-abcbc155-dab1-49fc-a965-196fd742844f\">\n",
              "    <div class=\"colab-df-container\">\n",
              "      <div>\n",
              "<style scoped>\n",
              "    .dataframe tbody tr th:only-of-type {\n",
              "        vertical-align: middle;\n",
              "    }\n",
              "\n",
              "    .dataframe tbody tr th {\n",
              "        vertical-align: top;\n",
              "    }\n",
              "\n",
              "    .dataframe thead th {\n",
              "        text-align: right;\n",
              "    }\n",
              "</style>\n",
              "<table border=\"1\" class=\"dataframe\">\n",
              "  <thead>\n",
              "    <tr style=\"text-align: right;\">\n",
              "      <th></th>\n",
              "      <th>Models</th>\n",
              "      <th>Score</th>\n",
              "    </tr>\n",
              "  </thead>\n",
              "  <tbody>\n",
              "    <tr>\n",
              "      <th>2</th>\n",
              "      <td>Bagging</td>\n",
              "      <td>0.475049</td>\n",
              "    </tr>\n",
              "    <tr>\n",
              "      <th>1</th>\n",
              "      <td>Decision Tree Classifier</td>\n",
              "      <td>0.468568</td>\n",
              "    </tr>\n",
              "    <tr>\n",
              "      <th>0</th>\n",
              "      <td>Random Forest Classifier</td>\n",
              "      <td>0.405055</td>\n",
              "    </tr>\n",
              "    <tr>\n",
              "      <th>3</th>\n",
              "      <td>Gradient Boosting</td>\n",
              "      <td>0.386909</td>\n",
              "    </tr>\n",
              "  </tbody>\n",
              "</table>\n",
              "</div>\n",
              "      <button class=\"colab-df-convert\" onclick=\"convertToInteractive('df-abcbc155-dab1-49fc-a965-196fd742844f')\"\n",
              "              title=\"Convert this dataframe to an interactive table.\"\n",
              "              style=\"display:none;\">\n",
              "        \n",
              "  <svg xmlns=\"http://www.w3.org/2000/svg\" height=\"24px\"viewBox=\"0 0 24 24\"\n",
              "       width=\"24px\">\n",
              "    <path d=\"M0 0h24v24H0V0z\" fill=\"none\"/>\n",
              "    <path d=\"M18.56 5.44l.94 2.06.94-2.06 2.06-.94-2.06-.94-.94-2.06-.94 2.06-2.06.94zm-11 1L8.5 8.5l.94-2.06 2.06-.94-2.06-.94L8.5 2.5l-.94 2.06-2.06.94zm10 10l.94 2.06.94-2.06 2.06-.94-2.06-.94-.94-2.06-.94 2.06-2.06.94z\"/><path d=\"M17.41 7.96l-1.37-1.37c-.4-.4-.92-.59-1.43-.59-.52 0-1.04.2-1.43.59L10.3 9.45l-7.72 7.72c-.78.78-.78 2.05 0 2.83L4 21.41c.39.39.9.59 1.41.59.51 0 1.02-.2 1.41-.59l7.78-7.78 2.81-2.81c.8-.78.8-2.07 0-2.86zM5.41 20L4 18.59l7.72-7.72 1.47 1.35L5.41 20z\"/>\n",
              "  </svg>\n",
              "      </button>\n",
              "      \n",
              "  <style>\n",
              "    .colab-df-container {\n",
              "      display:flex;\n",
              "      flex-wrap:wrap;\n",
              "      gap: 12px;\n",
              "    }\n",
              "\n",
              "    .colab-df-convert {\n",
              "      background-color: #E8F0FE;\n",
              "      border: none;\n",
              "      border-radius: 50%;\n",
              "      cursor: pointer;\n",
              "      display: none;\n",
              "      fill: #1967D2;\n",
              "      height: 32px;\n",
              "      padding: 0 0 0 0;\n",
              "      width: 32px;\n",
              "    }\n",
              "\n",
              "    .colab-df-convert:hover {\n",
              "      background-color: #E2EBFA;\n",
              "      box-shadow: 0px 1px 2px rgba(60, 64, 67, 0.3), 0px 1px 3px 1px rgba(60, 64, 67, 0.15);\n",
              "      fill: #174EA6;\n",
              "    }\n",
              "\n",
              "    [theme=dark] .colab-df-convert {\n",
              "      background-color: #3B4455;\n",
              "      fill: #D2E3FC;\n",
              "    }\n",
              "\n",
              "    [theme=dark] .colab-df-convert:hover {\n",
              "      background-color: #434B5C;\n",
              "      box-shadow: 0px 1px 3px 1px rgba(0, 0, 0, 0.15);\n",
              "      filter: drop-shadow(0px 1px 2px rgba(0, 0, 0, 0.3));\n",
              "      fill: #FFFFFF;\n",
              "    }\n",
              "  </style>\n",
              "\n",
              "      <script>\n",
              "        const buttonEl =\n",
              "          document.querySelector('#df-abcbc155-dab1-49fc-a965-196fd742844f button.colab-df-convert');\n",
              "        buttonEl.style.display =\n",
              "          google.colab.kernel.accessAllowed ? 'block' : 'none';\n",
              "\n",
              "        async function convertToInteractive(key) {\n",
              "          const element = document.querySelector('#df-abcbc155-dab1-49fc-a965-196fd742844f');\n",
              "          const dataTable =\n",
              "            await google.colab.kernel.invokeFunction('convertToInteractive',\n",
              "                                                     [key], {});\n",
              "          if (!dataTable) return;\n",
              "\n",
              "          const docLinkHtml = 'Like what you see? Visit the ' +\n",
              "            '<a target=\"_blank\" href=https://colab.research.google.com/notebooks/data_table.ipynb>data table notebook</a>'\n",
              "            + ' to learn more about interactive tables.';\n",
              "          element.innerHTML = '';\n",
              "          dataTable['output_type'] = 'display_data';\n",
              "          await google.colab.output.renderOutput(dataTable, element);\n",
              "          const docLink = document.createElement('div');\n",
              "          docLink.innerHTML = docLinkHtml;\n",
              "          element.appendChild(docLink);\n",
              "        }\n",
              "      </script>\n",
              "    </div>\n",
              "  </div>\n",
              "  "
            ]
          },
          "metadata": {},
          "execution_count": 130
        }
      ],
      "source": [
        "#Recall scores\n",
        "models = pd.DataFrame({\n",
        "                'Models': ['Random Forest Classifier', 'Decision Tree Classifier','Bagging','Gradient Boosting'],\n",
        "                'Score':  [RFCCV_Recall, DTREECV_Recall,BAGCV_Recall ,GBKCV_Recall]})\n",
        "\n",
        "models.sort_values(by='Score', ascending=False)"
      ]
    },
    {
      "cell_type": "markdown",
      "metadata": {
        "papermill": {
          "duration": 0.040538,
          "end_time": "2020-08-30T10:46:46.941959",
          "exception": false,
          "start_time": "2020-08-30T10:46:46.901421",
          "status": "completed"
        },
        "tags": [],
        "id": "jA_e9RVjRZNO"
      },
      "source": [
        "***Here we have a class imbalance and there are major 'no' cases, so recall will be a good measure of performance and also our aim is to predict if the client will subscribe (yes/no) a term deposit and so our goal is to capture as many as subscribers even if we are not very sure.***"
      ]
    },
    {
      "cell_type": "markdown",
      "metadata": {
        "papermill": {
          "duration": 0.040778,
          "end_time": "2020-08-30T10:46:47.023985",
          "exception": false,
          "start_time": "2020-08-30T10:46:46.983207",
          "status": "completed"
        },
        "tags": [],
        "id": "1cUQr5yoRZNP"
      },
      "source": [
        "### Hence as per the recall scores Bagging and Decision Tree Classifier performs best in this case and the order follows as above."
      ]
    },
    {
      "cell_type": "code",
      "execution_count": null,
      "metadata": {
        "_uuid": "f6beba706faf626bfae3314c9ff86f518793de17",
        "execution": {
          "iopub.execute_input": "2020-08-30T10:46:46.554369Z",
          "iopub.status.busy": "2020-08-30T10:46:46.553292Z",
          "iopub.status.idle": "2020-08-30T10:46:46.558604Z",
          "shell.execute_reply": "2020-08-30T10:46:46.557879Z"
        },
        "papermill": {
          "duration": 0.059954,
          "end_time": "2020-08-30T10:46:46.558728",
          "exception": false,
          "start_time": "2020-08-30T10:46:46.498774",
          "status": "completed"
        },
        "tags": [],
        "id": "kJGkCN0_RZNM",
        "outputId": "583e2a45-b852-45ae-fa26-f3f9d052fb50",
        "colab": {
          "base_uri": "https://localhost:8080/",
          "height": 175
        }
      },
      "outputs": [
        {
          "output_type": "execute_result",
          "data": {
            "text/plain": [
              "                     Models      Score\n",
              "3         Gradient Boosting  90.282817\n",
              "0  Random Forest Classifier  90.102672\n",
              "2                   Bagging  89.935229\n",
              "1  Decision Tree Classifier  86.920538"
            ],
            "text/html": [
              "\n",
              "  <div id=\"df-df2efa8b-f1d1-49ed-b056-33a01c7a06fd\">\n",
              "    <div class=\"colab-df-container\">\n",
              "      <div>\n",
              "<style scoped>\n",
              "    .dataframe tbody tr th:only-of-type {\n",
              "        vertical-align: middle;\n",
              "    }\n",
              "\n",
              "    .dataframe tbody tr th {\n",
              "        vertical-align: top;\n",
              "    }\n",
              "\n",
              "    .dataframe thead th {\n",
              "        text-align: right;\n",
              "    }\n",
              "</style>\n",
              "<table border=\"1\" class=\"dataframe\">\n",
              "  <thead>\n",
              "    <tr style=\"text-align: right;\">\n",
              "      <th></th>\n",
              "      <th>Models</th>\n",
              "      <th>Score</th>\n",
              "    </tr>\n",
              "  </thead>\n",
              "  <tbody>\n",
              "    <tr>\n",
              "      <th>3</th>\n",
              "      <td>Gradient Boosting</td>\n",
              "      <td>90.282817</td>\n",
              "    </tr>\n",
              "    <tr>\n",
              "      <th>0</th>\n",
              "      <td>Random Forest Classifier</td>\n",
              "      <td>90.102672</td>\n",
              "    </tr>\n",
              "    <tr>\n",
              "      <th>2</th>\n",
              "      <td>Bagging</td>\n",
              "      <td>89.935229</td>\n",
              "    </tr>\n",
              "    <tr>\n",
              "      <th>1</th>\n",
              "      <td>Decision Tree Classifier</td>\n",
              "      <td>86.920538</td>\n",
              "    </tr>\n",
              "  </tbody>\n",
              "</table>\n",
              "</div>\n",
              "      <button class=\"colab-df-convert\" onclick=\"convertToInteractive('df-df2efa8b-f1d1-49ed-b056-33a01c7a06fd')\"\n",
              "              title=\"Convert this dataframe to an interactive table.\"\n",
              "              style=\"display:none;\">\n",
              "        \n",
              "  <svg xmlns=\"http://www.w3.org/2000/svg\" height=\"24px\"viewBox=\"0 0 24 24\"\n",
              "       width=\"24px\">\n",
              "    <path d=\"M0 0h24v24H0V0z\" fill=\"none\"/>\n",
              "    <path d=\"M18.56 5.44l.94 2.06.94-2.06 2.06-.94-2.06-.94-.94-2.06-.94 2.06-2.06.94zm-11 1L8.5 8.5l.94-2.06 2.06-.94-2.06-.94L8.5 2.5l-.94 2.06-2.06.94zm10 10l.94 2.06.94-2.06 2.06-.94-2.06-.94-.94-2.06-.94 2.06-2.06.94z\"/><path d=\"M17.41 7.96l-1.37-1.37c-.4-.4-.92-.59-1.43-.59-.52 0-1.04.2-1.43.59L10.3 9.45l-7.72 7.72c-.78.78-.78 2.05 0 2.83L4 21.41c.39.39.9.59 1.41.59.51 0 1.02-.2 1.41-.59l7.78-7.78 2.81-2.81c.8-.78.8-2.07 0-2.86zM5.41 20L4 18.59l7.72-7.72 1.47 1.35L5.41 20z\"/>\n",
              "  </svg>\n",
              "      </button>\n",
              "      \n",
              "  <style>\n",
              "    .colab-df-container {\n",
              "      display:flex;\n",
              "      flex-wrap:wrap;\n",
              "      gap: 12px;\n",
              "    }\n",
              "\n",
              "    .colab-df-convert {\n",
              "      background-color: #E8F0FE;\n",
              "      border: none;\n",
              "      border-radius: 50%;\n",
              "      cursor: pointer;\n",
              "      display: none;\n",
              "      fill: #1967D2;\n",
              "      height: 32px;\n",
              "      padding: 0 0 0 0;\n",
              "      width: 32px;\n",
              "    }\n",
              "\n",
              "    .colab-df-convert:hover {\n",
              "      background-color: #E2EBFA;\n",
              "      box-shadow: 0px 1px 2px rgba(60, 64, 67, 0.3), 0px 1px 3px 1px rgba(60, 64, 67, 0.15);\n",
              "      fill: #174EA6;\n",
              "    }\n",
              "\n",
              "    [theme=dark] .colab-df-convert {\n",
              "      background-color: #3B4455;\n",
              "      fill: #D2E3FC;\n",
              "    }\n",
              "\n",
              "    [theme=dark] .colab-df-convert:hover {\n",
              "      background-color: #434B5C;\n",
              "      box-shadow: 0px 1px 3px 1px rgba(0, 0, 0, 0.15);\n",
              "      filter: drop-shadow(0px 1px 2px rgba(0, 0, 0, 0.3));\n",
              "      fill: #FFFFFF;\n",
              "    }\n",
              "  </style>\n",
              "\n",
              "      <script>\n",
              "        const buttonEl =\n",
              "          document.querySelector('#df-df2efa8b-f1d1-49ed-b056-33a01c7a06fd button.colab-df-convert');\n",
              "        buttonEl.style.display =\n",
              "          google.colab.kernel.accessAllowed ? 'block' : 'none';\n",
              "\n",
              "        async function convertToInteractive(key) {\n",
              "          const element = document.querySelector('#df-df2efa8b-f1d1-49ed-b056-33a01c7a06fd');\n",
              "          const dataTable =\n",
              "            await google.colab.kernel.invokeFunction('convertToInteractive',\n",
              "                                                     [key], {});\n",
              "          if (!dataTable) return;\n",
              "\n",
              "          const docLinkHtml = 'Like what you see? Visit the ' +\n",
              "            '<a target=\"_blank\" href=https://colab.research.google.com/notebooks/data_table.ipynb>data table notebook</a>'\n",
              "            + ' to learn more about interactive tables.';\n",
              "          element.innerHTML = '';\n",
              "          dataTable['output_type'] = 'display_data';\n",
              "          await google.colab.output.renderOutput(dataTable, element);\n",
              "          const docLink = document.createElement('div');\n",
              "          docLink.innerHTML = docLinkHtml;\n",
              "          element.appendChild(docLink);\n",
              "        }\n",
              "      </script>\n",
              "    </div>\n",
              "  </div>\n",
              "  "
            ]
          },
          "metadata": {},
          "execution_count": 131
        }
      ],
      "source": [
        "#Accuracy scores\n",
        "models = pd.DataFrame({\n",
        "                'Models': ['Random Forest Classifier', 'Decision Tree Classifier','Bagging','Gradient Boosting'],\n",
        "                'Score':  [RFCCV*100, DTREECV*100,BAGCV*100,GBKCV*100]})\n",
        "\n",
        "models.sort_values(by='Score', ascending=False)"
      ]
    }
  ],
  "metadata": {
    "kernelspec": {
      "display_name": "Python 3",
      "language": "python",
      "name": "python3"
    },
    "language_info": {
      "codemirror_mode": {
        "name": "ipython",
        "version": 3
      },
      "file_extension": ".py",
      "mimetype": "text/x-python",
      "name": "python",
      "nbconvert_exporter": "python",
      "pygments_lexer": "ipython3",
      "version": "3.7.3"
    },
    "papermill": {
      "duration": 676.918194,
      "end_time": "2020-08-30T10:46:47.173659",
      "environment_variables": {},
      "exception": null,
      "input_path": "__notebook__.ipynb",
      "output_path": "__notebook__.ipynb",
      "parameters": {},
      "start_time": "2020-08-30T10:35:30.255465",
      "version": "2.1.0"
    },
    "colab": {
      "provenance": []
    }
  },
  "nbformat": 4,
  "nbformat_minor": 0
}